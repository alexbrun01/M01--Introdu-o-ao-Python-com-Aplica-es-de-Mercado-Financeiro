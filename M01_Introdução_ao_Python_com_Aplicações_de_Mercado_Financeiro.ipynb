{
  "nbformat": 4,
  "nbformat_minor": 0,
  "metadata": {
    "colab": {
      "provenance": [],
      "authorship_tag": "ABX9TyOViLDguTRD+f25kqK8Ba56",
      "include_colab_link": true
    },
    "kernelspec": {
      "name": "python3",
      "display_name": "Python 3"
    },
    "language_info": {
      "name": "python"
    }
  },
  "cells": [
    {
      "cell_type": "markdown",
      "metadata": {
        "id": "view-in-github",
        "colab_type": "text"
      },
      "source": [
        "<a href=\"https://colab.research.google.com/github/alexbrun01/httpsM01--Introdu-o-ao-Python-com-Aplica-es-de-Mercado-Financeiro/blob/main/M01_Introdu%C3%A7%C3%A3o_ao_Python_com_Aplica%C3%A7%C3%B5es_de_Mercado_Financeiro.ipynb\" target=\"_parent\"><img src=\"https://colab.research.google.com/assets/colab-badge.svg\" alt=\"Open In Colab\"/></a>"
      ]
    },
    {
      "cell_type": "markdown",
      "source": [
        "# Introdução ao Python "
      ],
      "metadata": {
        "id": "MR2h3TX14cZl"
      }
    },
    {
      "cell_type": "code",
      "source": [
        "a = 2 "
      ],
      "metadata": {
        "id": "x5ucMIyl5fzQ"
      },
      "execution_count": null,
      "outputs": []
    },
    {
      "cell_type": "code",
      "source": [
        "b = 3 "
      ],
      "metadata": {
        "id": "ewYE_NPg58AD"
      },
      "execution_count": null,
      "outputs": []
    },
    {
      "cell_type": "code",
      "source": [
        "a + b "
      ],
      "metadata": {
        "colab": {
          "base_uri": "https://localhost:8080/"
        },
        "id": "-_oisqsE596k",
        "outputId": "e085a194-ec09-4922-e19b-c02648efb0df"
      },
      "execution_count": null,
      "outputs": [
        {
          "output_type": "execute_result",
          "data": {
            "text/plain": [
              "5"
            ]
          },
          "metadata": {},
          "execution_count": 14
        }
      ]
    },
    {
      "cell_type": "markdown",
      "source": [
        "Para apagar uma celula ' Ctrl + M + D '"
      ],
      "metadata": {
        "id": "NDrvIS565_68"
      }
    },
    {
      "cell_type": "markdown",
      "source": [
        "## 0 Hello Word "
      ],
      "metadata": {
        "id": "rGMyiB2D6UKI"
      }
    },
    {
      "cell_type": "code",
      "source": [
        "print('Hello word')"
      ],
      "metadata": {
        "colab": {
          "base_uri": "https://localhost:8080/"
        },
        "id": "KpEuOE4L6g7b",
        "outputId": "24639ed8-7b20-432f-ba55-7f0ba1598379"
      },
      "execution_count": null,
      "outputs": [
        {
          "output_type": "stream",
          "name": "stdout",
          "text": [
            "Hello word\n"
          ]
        }
      ]
    },
    {
      "cell_type": "markdown",
      "source": [
        "## Variaveis VS Objetos "
      ],
      "metadata": {
        "id": "qK1nxgnM-dth"
      }
    },
    {
      "cell_type": "markdown",
      "source": [
        "\"para todos os efeitos variaveis e objetos são a mesma coisa. Porém na pratica são entidades diferentes\""
      ],
      "metadata": {
        "id": "Rgs06LYqAc0l"
      }
    },
    {
      "cell_type": "markdown",
      "source": [
        "Objetos são como alimentos propriamente ditos, pos ocupam um lugar na memoria, em outras palavras é aquilo que a gente quer salvar na memoria "
      ],
      "metadata": {
        "id": "hbyHdvqpBKdB"
      }
    },
    {
      "cell_type": "markdown",
      "source": [
        "  Variavel é aquilo que aponta para o objeto, a variavel é responsavel por nos mostrar e mostrar a maquina onde esta localizado o objeto e as suas caracteristicas como memoria, o quanto ele consome e ETC"
      ],
      "metadata": {
        "id": "rRU_cTTIBi22"
      }
    },
    {
      "cell_type": "markdown",
      "source": [
        "### 1.1. Tipos de Variáveis "
      ],
      "metadata": {
        "id": "D4CI6Ri77PlB"
      }
    },
    {
      "cell_type": "markdown",
      "source": [
        "Int: 1 (Numeros inteiros)\n",
        "\n",
        "Float: 1.45854 (universo dos numeros reais )\n",
        "\n",
        "String: 'banana' ( Tipo Texto )\n",
        "\n",
        "boolean: true or false"
      ],
      "metadata": {
        "id": "eTTJLzyL8icf"
      }
    },
    {
      "cell_type": "markdown",
      "source": [
        "OBS: Para criar um variavel, basta criar uma alocação na memoria do Pyton "
      ],
      "metadata": {
        "id": "E5k2NzWX8km4"
      }
    },
    {
      "cell_type": "code",
      "source": [
        "a = 3"
      ],
      "metadata": {
        "id": "cfdKeXnd9ygj"
      },
      "execution_count": null,
      "outputs": []
    },
    {
      "cell_type": "code",
      "source": [
        "b = 2"
      ],
      "metadata": {
        "id": "-S5Jx6Uu-FWN"
      },
      "execution_count": null,
      "outputs": []
    },
    {
      "cell_type": "code",
      "source": [
        "pi = 3.14"
      ],
      "metadata": {
        "id": "2kdF6afJ-GmH"
      },
      "execution_count": null,
      "outputs": []
    },
    {
      "cell_type": "code",
      "source": [
        "juros = 3.25"
      ],
      "metadata": {
        "id": "SdvMonQO-RIN"
      },
      "execution_count": null,
      "outputs": []
    },
    {
      "cell_type": "code",
      "source": [
        "type (a)"
      ],
      "metadata": {
        "colab": {
          "base_uri": "https://localhost:8080/"
        },
        "id": "4-0os8jH-VwO",
        "outputId": "10936d94-1464-45dc-c48e-bbefd75b8143"
      },
      "execution_count": null,
      "outputs": [
        {
          "output_type": "execute_result",
          "data": {
            "text/plain": [
              "int"
            ]
          },
          "metadata": {},
          "execution_count": 20
        }
      ]
    },
    {
      "cell_type": "code",
      "source": [
        "type (pi)"
      ],
      "metadata": {
        "colab": {
          "base_uri": "https://localhost:8080/"
        },
        "id": "stCpq0BY-dcp",
        "outputId": "30bed6c0-cdcc-49a4-b40c-5b0d58eec7f2"
      },
      "execution_count": null,
      "outputs": [
        {
          "output_type": "execute_result",
          "data": {
            "text/plain": [
              "float"
            ]
          },
          "metadata": {},
          "execution_count": 21
        }
      ]
    },
    {
      "cell_type": "code",
      "source": [
        "nome = 'Alexandre'"
      ],
      "metadata": {
        "id": "1PrnK54Y-hy0"
      },
      "execution_count": null,
      "outputs": []
    },
    {
      "cell_type": "code",
      "source": [
        "nome "
      ],
      "metadata": {
        "colab": {
          "base_uri": "https://localhost:8080/",
          "height": 35
        },
        "id": "jXLu1UZ-_cpc",
        "outputId": "d8e98475-8fce-4c51-9f07-a9f09eda4487"
      },
      "execution_count": null,
      "outputs": [
        {
          "output_type": "execute_result",
          "data": {
            "text/plain": [
              "'Alexandre'"
            ],
            "application/vnd.google.colaboratory.intrinsic+json": {
              "type": "string"
            }
          },
          "metadata": {},
          "execution_count": 23
        }
      ]
    },
    {
      "cell_type": "code",
      "source": [
        "type (nome)"
      ],
      "metadata": {
        "colab": {
          "base_uri": "https://localhost:8080/"
        },
        "id": "h4s6LFNV_gNX",
        "outputId": "b187d4b5-7983-409c-ca9f-171ab24bd509"
      },
      "execution_count": null,
      "outputs": [
        {
          "output_type": "execute_result",
          "data": {
            "text/plain": [
              "str"
            ]
          },
          "metadata": {},
          "execution_count": 24
        }
      ]
    },
    {
      "cell_type": "code",
      "source": [
        "a == b "
      ],
      "metadata": {
        "colab": {
          "base_uri": "https://localhost:8080/"
        },
        "id": "FQWXqdk7_sjE",
        "outputId": "376a2aad-1f18-4e51-913a-840d03258819"
      },
      "execution_count": null,
      "outputs": [
        {
          "output_type": "execute_result",
          "data": {
            "text/plain": [
              "False"
            ]
          },
          "metadata": {},
          "execution_count": 25
        }
      ]
    },
    {
      "cell_type": "code",
      "source": [
        "e = 5"
      ],
      "metadata": {
        "id": "-5gLBTd6_0MH"
      },
      "execution_count": null,
      "outputs": []
    },
    {
      "cell_type": "code",
      "source": [
        "f = 5"
      ],
      "metadata": {
        "id": "zWktU6lDAFpk"
      },
      "execution_count": null,
      "outputs": []
    },
    {
      "cell_type": "code",
      "source": [
        "teste = e == f"
      ],
      "metadata": {
        "id": "H4CecMwWAGrJ"
      },
      "execution_count": null,
      "outputs": []
    },
    {
      "cell_type": "code",
      "source": [
        "type (teste)"
      ],
      "metadata": {
        "colab": {
          "base_uri": "https://localhost:8080/"
        },
        "id": "iHBeubX3AIAI",
        "outputId": "d902911a-04b4-45e7-ca1a-8d5eaa2c8cae"
      },
      "execution_count": null,
      "outputs": [
        {
          "output_type": "execute_result",
          "data": {
            "text/plain": [
              "bool"
            ]
          },
          "metadata": {},
          "execution_count": 29
        }
      ]
    },
    {
      "cell_type": "markdown",
      "source": [
        "## 2.0. operações matematicas com números "
      ],
      "metadata": {
        "id": "c-eUgm9uATZ2"
      }
    },
    {
      "cell_type": "markdown",
      "source": [
        "* soma +\n",
        "\n",
        "* subitração -\n",
        "\n",
        "* Multiplicação *\n",
        "\n",
        "* Divisão /\n",
        "\n",
        "* Divisão apenas nuemros inteiros //\n",
        "\n",
        "* Potência ** \n",
        "\n",
        "* Resto das divisões %"
      ],
      "metadata": {
        "id": "QGBf5412Gz3g"
      }
    },
    {
      "cell_type": "code",
      "source": [
        "c = a + b "
      ],
      "metadata": {
        "id": "O9qzJ0PrX3Ij"
      },
      "execution_count": null,
      "outputs": []
    },
    {
      "cell_type": "code",
      "source": [
        "c"
      ],
      "metadata": {
        "colab": {
          "base_uri": "https://localhost:8080/"
        },
        "id": "AAcy0EH0X4qm",
        "outputId": "3839d762-ef00-47e2-ba3e-0a648bc52aa8"
      },
      "execution_count": null,
      "outputs": [
        {
          "output_type": "execute_result",
          "data": {
            "text/plain": [
              "5"
            ]
          },
          "metadata": {},
          "execution_count": 31
        }
      ]
    },
    {
      "cell_type": "code",
      "source": [
        "b - a "
      ],
      "metadata": {
        "colab": {
          "base_uri": "https://localhost:8080/"
        },
        "id": "VGqGq9YlYJvV",
        "outputId": "a021799f-cc3c-42fc-9c74-bddbfdbee414"
      },
      "execution_count": null,
      "outputs": [
        {
          "output_type": "execute_result",
          "data": {
            "text/plain": [
              "-1"
            ]
          },
          "metadata": {},
          "execution_count": 32
        }
      ]
    },
    {
      "cell_type": "code",
      "source": [
        "c - b"
      ],
      "metadata": {
        "colab": {
          "base_uri": "https://localhost:8080/"
        },
        "id": "nHbUzLzMYP8K",
        "outputId": "d87b775d-003a-49a4-84b9-cde04e8d8ff2"
      },
      "execution_count": null,
      "outputs": [
        {
          "output_type": "execute_result",
          "data": {
            "text/plain": [
              "3"
            ]
          },
          "metadata": {},
          "execution_count": 33
        }
      ]
    },
    {
      "cell_type": "code",
      "source": [
        "5 * 3 "
      ],
      "metadata": {
        "colab": {
          "base_uri": "https://localhost:8080/"
        },
        "id": "dAVDO2NIYRX_",
        "outputId": "3e254c55-9a77-4b44-85fd-5f6def444e06"
      },
      "execution_count": null,
      "outputs": [
        {
          "output_type": "execute_result",
          "data": {
            "text/plain": [
              "15"
            ]
          },
          "metadata": {},
          "execution_count": 34
        }
      ]
    },
    {
      "cell_type": "code",
      "source": [
        "pi * juros"
      ],
      "metadata": {
        "colab": {
          "base_uri": "https://localhost:8080/"
        },
        "id": "R1av1FUQYZZn",
        "outputId": "b56a01a3-e040-49c2-cc77-08e83aec6d1c"
      },
      "execution_count": null,
      "outputs": [
        {
          "output_type": "execute_result",
          "data": {
            "text/plain": [
              "10.205"
            ]
          },
          "metadata": {},
          "execution_count": 35
        }
      ]
    },
    {
      "cell_type": "code",
      "source": [
        "razão = juros/ pi "
      ],
      "metadata": {
        "id": "SEMGG3jHYgvr"
      },
      "execution_count": null,
      "outputs": []
    },
    {
      "cell_type": "code",
      "source": [
        "razão"
      ],
      "metadata": {
        "colab": {
          "base_uri": "https://localhost:8080/"
        },
        "id": "tOdhkFS7YnDp",
        "outputId": "72e45dd6-1ba2-49e4-822a-831b713c147d"
      },
      "execution_count": null,
      "outputs": [
        {
          "output_type": "execute_result",
          "data": {
            "text/plain": [
              "1.0350318471337578"
            ]
          },
          "metadata": {},
          "execution_count": 37
        }
      ]
    },
    {
      "cell_type": "code",
      "source": [
        "10/4"
      ],
      "metadata": {
        "colab": {
          "base_uri": "https://localhost:8080/"
        },
        "id": "RKxfGJkDY0Cn",
        "outputId": "a44fa777-6064-47ee-ed8d-7a2c8efd6193"
      },
      "execution_count": null,
      "outputs": [
        {
          "output_type": "execute_result",
          "data": {
            "text/plain": [
              "2.5"
            ]
          },
          "metadata": {},
          "execution_count": 38
        }
      ]
    },
    {
      "cell_type": "code",
      "source": [
        "10 // 5"
      ],
      "metadata": {
        "colab": {
          "base_uri": "https://localhost:8080/"
        },
        "id": "e8tR28lrY19S",
        "outputId": "2407f390-1351-4c2f-e752-42b10a13a5ae"
      },
      "execution_count": null,
      "outputs": [
        {
          "output_type": "execute_result",
          "data": {
            "text/plain": [
              "2"
            ]
          },
          "metadata": {},
          "execution_count": 39
        }
      ]
    },
    {
      "cell_type": "code",
      "source": [
        "10**5"
      ],
      "metadata": {
        "colab": {
          "base_uri": "https://localhost:8080/"
        },
        "id": "b_cQsdQwY4wf",
        "outputId": "3efbba71-b1d8-4af1-87ce-c90db9cc4475"
      },
      "execution_count": null,
      "outputs": [
        {
          "output_type": "execute_result",
          "data": {
            "text/plain": [
              "100000"
            ]
          },
          "metadata": {},
          "execution_count": 40
        }
      ]
    },
    {
      "cell_type": "code",
      "source": [
        "2**3"
      ],
      "metadata": {
        "colab": {
          "base_uri": "https://localhost:8080/"
        },
        "id": "lta7Zrh8ZANJ",
        "outputId": "2ec5e485-c65b-4ee0-b13a-d306581b19fd"
      },
      "execution_count": null,
      "outputs": [
        {
          "output_type": "execute_result",
          "data": {
            "text/plain": [
              "8"
            ]
          },
          "metadata": {},
          "execution_count": 41
        }
      ]
    },
    {
      "cell_type": "code",
      "source": [
        "2**10"
      ],
      "metadata": {
        "colab": {
          "base_uri": "https://localhost:8080/"
        },
        "id": "3asR9L4VZKwr",
        "outputId": "7e5f7048-7dee-44fe-fdca-731ddf7f7e62"
      },
      "execution_count": null,
      "outputs": [
        {
          "output_type": "execute_result",
          "data": {
            "text/plain": [
              "1024"
            ]
          },
          "metadata": {},
          "execution_count": 42
        }
      ]
    },
    {
      "cell_type": "code",
      "source": [
        "7%4"
      ],
      "metadata": {
        "colab": {
          "base_uri": "https://localhost:8080/"
        },
        "id": "5_LRWsZ6ZOzn",
        "outputId": "566b17fa-5f38-478e-9e64-1848da7e4c4d"
      },
      "execution_count": null,
      "outputs": [
        {
          "output_type": "execute_result",
          "data": {
            "text/plain": [
              "3"
            ]
          },
          "metadata": {},
          "execution_count": 43
        }
      ]
    },
    {
      "cell_type": "markdown",
      "source": [
        "## 3.0 Operadores Lógicos "
      ],
      "metadata": {
        "id": "QEEuoqGTZRNd"
      }
    },
    {
      "cell_type": "markdown",
      "source": [
        "* Igualdade ==\n",
        "\n",
        "* Difrença !=\n",
        "\n",
        "* Menor <\n",
        "\n",
        "* Maior >\n",
        "\n",
        "* Menor igual <=\n",
        "\n",
        "* Maior Igual >="
      ],
      "metadata": {
        "id": "OZot86SYZtJh"
      }
    },
    {
      "cell_type": "code",
      "source": [
        "a != b "
      ],
      "metadata": {
        "colab": {
          "base_uri": "https://localhost:8080/"
        },
        "id": "0h17CrIzaMn6",
        "outputId": "a0c3e7f8-99b1-40cd-872c-8ef5926b2701"
      },
      "execution_count": null,
      "outputs": [
        {
          "output_type": "execute_result",
          "data": {
            "text/plain": [
              "True"
            ]
          },
          "metadata": {},
          "execution_count": 44
        }
      ]
    },
    {
      "cell_type": "code",
      "source": [
        "e != f"
      ],
      "metadata": {
        "colab": {
          "base_uri": "https://localhost:8080/"
        },
        "id": "g5zFJiaVaUr0",
        "outputId": "09333717-f94b-418d-ad35-74851a246d62"
      },
      "execution_count": null,
      "outputs": [
        {
          "output_type": "execute_result",
          "data": {
            "text/plain": [
              "False"
            ]
          },
          "metadata": {},
          "execution_count": 45
        }
      ]
    },
    {
      "cell_type": "code",
      "source": [
        "e < f"
      ],
      "metadata": {
        "colab": {
          "base_uri": "https://localhost:8080/"
        },
        "id": "wqxSZlvGaYk1",
        "outputId": "b8e1a82a-2694-4259-b147-6f650fab835f"
      },
      "execution_count": null,
      "outputs": [
        {
          "output_type": "execute_result",
          "data": {
            "text/plain": [
              "False"
            ]
          },
          "metadata": {},
          "execution_count": 46
        }
      ]
    },
    {
      "cell_type": "code",
      "source": [
        "e > f "
      ],
      "metadata": {
        "colab": {
          "base_uri": "https://localhost:8080/"
        },
        "id": "ibID1lZyacEr",
        "outputId": "ed717ba6-b094-49a0-a474-1bde40b4248d"
      },
      "execution_count": null,
      "outputs": [
        {
          "output_type": "execute_result",
          "data": {
            "text/plain": [
              "False"
            ]
          },
          "metadata": {},
          "execution_count": 47
        }
      ]
    },
    {
      "cell_type": "code",
      "source": [
        "e == f "
      ],
      "metadata": {
        "colab": {
          "base_uri": "https://localhost:8080/"
        },
        "id": "bqL4eoYoafIY",
        "outputId": "bc733a53-378e-4c51-ea56-a1a109abedb0"
      },
      "execution_count": null,
      "outputs": [
        {
          "output_type": "execute_result",
          "data": {
            "text/plain": [
              "True"
            ]
          },
          "metadata": {},
          "execution_count": 48
        }
      ]
    },
    {
      "cell_type": "code",
      "source": [
        "a < b "
      ],
      "metadata": {
        "colab": {
          "base_uri": "https://localhost:8080/"
        },
        "id": "ydIDDLjvagiq",
        "outputId": "4cb6c353-55d1-4664-94b2-00dc1efffeb1"
      },
      "execution_count": null,
      "outputs": [
        {
          "output_type": "execute_result",
          "data": {
            "text/plain": [
              "False"
            ]
          },
          "metadata": {},
          "execution_count": 49
        }
      ]
    },
    {
      "cell_type": "code",
      "source": [
        "a > b "
      ],
      "metadata": {
        "colab": {
          "base_uri": "https://localhost:8080/"
        },
        "id": "Wf2vd8JLaiFF",
        "outputId": "b409aa2e-05bc-422f-fbd6-88b0043287aa"
      },
      "execution_count": null,
      "outputs": [
        {
          "output_type": "execute_result",
          "data": {
            "text/plain": [
              "True"
            ]
          },
          "metadata": {},
          "execution_count": 50
        }
      ]
    },
    {
      "cell_type": "code",
      "source": [
        "nome1 = 'João da silva Ribeiro'\n",
        "nome2 = 'José Andrade '"
      ],
      "metadata": {
        "id": "kLm6HY1hajXd"
      },
      "execution_count": null,
      "outputs": []
    },
    {
      "cell_type": "code",
      "source": [
        "nome1 == nome2 "
      ],
      "metadata": {
        "colab": {
          "base_uri": "https://localhost:8080/"
        },
        "id": "Nj1U63Gwa6H8",
        "outputId": "fef16458-619d-47ed-cffa-cca29590baee"
      },
      "execution_count": null,
      "outputs": [
        {
          "output_type": "execute_result",
          "data": {
            "text/plain": [
              "False"
            ]
          },
          "metadata": {},
          "execution_count": 52
        }
      ]
    },
    {
      "cell_type": "code",
      "source": [
        "Papel1 = 'PETR4'\n",
        "Papel2 = 'PETR4'"
      ],
      "metadata": {
        "id": "NQf-OGX8bLcK"
      },
      "execution_count": null,
      "outputs": []
    },
    {
      "cell_type": "code",
      "source": [
        "Papel1 == Papel2"
      ],
      "metadata": {
        "colab": {
          "base_uri": "https://localhost:8080/"
        },
        "id": "nxzaubL7belg",
        "outputId": "9c2404d4-cc9d-4cc0-8101-2e50baeb5fb9"
      },
      "execution_count": null,
      "outputs": [
        {
          "output_type": "execute_result",
          "data": {
            "text/plain": [
              "True"
            ]
          },
          "metadata": {},
          "execution_count": 54
        }
      ]
    },
    {
      "cell_type": "markdown",
      "source": [
        "## 3.1 Operadores Condicionais "
      ],
      "metadata": {
        "id": "ud6EXYQK0w-J"
      }
    },
    {
      "cell_type": "code",
      "source": [
        "1 > 2 "
      ],
      "metadata": {
        "colab": {
          "base_uri": "https://localhost:8080/"
        },
        "id": "rcfmww4X068_",
        "outputId": "3b00d5ea-9bde-470e-b781-a144da16b138"
      },
      "execution_count": null,
      "outputs": [
        {
          "output_type": "execute_result",
          "data": {
            "text/plain": [
              "False"
            ]
          },
          "metadata": {},
          "execution_count": 33
        }
      ]
    },
    {
      "cell_type": "code",
      "source": [
        "2 > 3"
      ],
      "metadata": {
        "colab": {
          "base_uri": "https://localhost:8080/"
        },
        "id": "ZX3IOhyv1OQt",
        "outputId": "b807e42b-a580-4ff3-bccb-bbff7af7b123"
      },
      "execution_count": null,
      "outputs": [
        {
          "output_type": "execute_result",
          "data": {
            "text/plain": [
              "False"
            ]
          },
          "metadata": {},
          "execution_count": 34
        }
      ]
    },
    {
      "cell_type": "code",
      "source": [
        "1 > 2 and 2 > 3  "
      ],
      "metadata": {
        "colab": {
          "base_uri": "https://localhost:8080/"
        },
        "id": "KA5D5z4h1RzB",
        "outputId": "5b621e03-46e7-4b82-9538-063031e2eec5"
      },
      "execution_count": null,
      "outputs": [
        {
          "output_type": "execute_result",
          "data": {
            "text/plain": [
              "False"
            ]
          },
          "metadata": {},
          "execution_count": 35
        }
      ]
    },
    {
      "cell_type": "code",
      "source": [
        "1 > 2 or 2 > 3  "
      ],
      "metadata": {
        "colab": {
          "base_uri": "https://localhost:8080/"
        },
        "id": "NaaqsRem1cv6",
        "outputId": "1f8343a6-ed49-461b-d6fc-12fbbd7ab6b3"
      },
      "execution_count": null,
      "outputs": [
        {
          "output_type": "execute_result",
          "data": {
            "text/plain": [
              "False"
            ]
          },
          "metadata": {},
          "execution_count": 36
        }
      ]
    },
    {
      "cell_type": "code",
      "source": [
        "1 > 2 or 2 < 3  "
      ],
      "metadata": {
        "colab": {
          "base_uri": "https://localhost:8080/"
        },
        "id": "FpiQNymD1ule",
        "outputId": "6bebebe7-fe50-4707-ce21-ac9460f2725a"
      },
      "execution_count": null,
      "outputs": [
        {
          "output_type": "execute_result",
          "data": {
            "text/plain": [
              "True"
            ]
          },
          "metadata": {},
          "execution_count": 37
        }
      ]
    },
    {
      "cell_type": "markdown",
      "source": [
        "No caso do uso do 'or', quando uma das sentençãs é verdadeira. A função traz como uma das condições sendo verdadeira "
      ],
      "metadata": {
        "id": "JpGUzi3D2BD4"
      }
    },
    {
      "cell_type": "code",
      "source": [
        "1 > 2 and 2 < 3  "
      ],
      "metadata": {
        "colab": {
          "base_uri": "https://localhost:8080/"
        },
        "id": "y3Z6LtUE2FCj",
        "outputId": "82fb7d09-4623-4821-c1e6-b51073a62544"
      },
      "execution_count": null,
      "outputs": [
        {
          "output_type": "execute_result",
          "data": {
            "text/plain": [
              "False"
            ]
          },
          "metadata": {},
          "execution_count": 38
        }
      ]
    },
    {
      "cell_type": "markdown",
      "source": [
        "O And está pedindo as duas condições ao mesmo tempo, como a primeira condição 1>2, não sendo verdadeira ela cancela toda a operação logica.  "
      ],
      "metadata": {
        "id": "CRBZkOM72i94"
      }
    },
    {
      "cell_type": "code",
      "source": [],
      "metadata": {
        "id": "-pbcUHIt4P7V"
      },
      "execution_count": null,
      "outputs": []
    },
    {
      "cell_type": "markdown",
      "source": [
        "## 4.0 Manipulação de Strings "
      ],
      "metadata": {
        "id": "ASbpQEeZcAt9"
      }
    },
    {
      "cell_type": "code",
      "source": [
        "manchete = \"Ibovespa sobe 1,10% e supera os 114 mil pontos pela primeira vez no ano, com fluxo estrangeiro; dólar cai 1,22%\""
      ],
      "metadata": {
        "id": "-yW13ZwSciho"
      },
      "execution_count": null,
      "outputs": []
    },
    {
      "cell_type": "code",
      "source": [
        "manchete "
      ],
      "metadata": {
        "colab": {
          "base_uri": "https://localhost:8080/",
          "height": 35
        },
        "id": "LWf-hdlbc6kb",
        "outputId": "1b628ac0-c8cc-4ab3-b698-ec275fccd209"
      },
      "execution_count": null,
      "outputs": [
        {
          "output_type": "execute_result",
          "data": {
            "text/plain": [
              "'Ibovespa sobe 1,10% e supera os 114 mil pontos pela primeira vez no ano, com fluxo estrangeiro; dólar cai 1,22%'"
            ],
            "application/vnd.google.colaboratory.intrinsic+json": {
              "type": "string"
            }
          },
          "metadata": {},
          "execution_count": 56
        }
      ]
    },
    {
      "cell_type": "code",
      "source": [
        "type(manchete)"
      ],
      "metadata": {
        "colab": {
          "base_uri": "https://localhost:8080/"
        },
        "id": "4mzFVw2Ac_oh",
        "outputId": "3f43e35a-9003-4f7b-bb53-5e50236abdd0"
      },
      "execution_count": null,
      "outputs": [
        {
          "output_type": "execute_result",
          "data": {
            "text/plain": [
              "str"
            ]
          },
          "metadata": {},
          "execution_count": 57
        }
      ]
    },
    {
      "cell_type": "code",
      "source": [
        "len(manchete)"
      ],
      "metadata": {
        "colab": {
          "base_uri": "https://localhost:8080/"
        },
        "id": "h7w39BaPdByc",
        "outputId": "5b068e15-765f-4880-f26d-f091ace46325"
      },
      "execution_count": null,
      "outputs": [
        {
          "output_type": "execute_result",
          "data": {
            "text/plain": [
              "111"
            ]
          },
          "metadata": {},
          "execution_count": 58
        }
      ]
    },
    {
      "cell_type": "code",
      "source": [
        "manchete[0]"
      ],
      "metadata": {
        "colab": {
          "base_uri": "https://localhost:8080/",
          "height": 35
        },
        "id": "_OWQ8OdBdJCo",
        "outputId": "188bc8c7-d23d-41c2-ad63-82ef5d92fc41"
      },
      "execution_count": null,
      "outputs": [
        {
          "output_type": "execute_result",
          "data": {
            "text/plain": [
              "'I'"
            ],
            "application/vnd.google.colaboratory.intrinsic+json": {
              "type": "string"
            }
          },
          "metadata": {},
          "execution_count": 59
        }
      ]
    },
    {
      "cell_type": "code",
      "source": [
        "manchete[5]"
      ],
      "metadata": {
        "colab": {
          "base_uri": "https://localhost:8080/",
          "height": 35
        },
        "id": "ujp_Tj20diK8",
        "outputId": "8b0003d6-bc7c-4c37-d005-2d15e664f04e"
      },
      "execution_count": null,
      "outputs": [
        {
          "output_type": "execute_result",
          "data": {
            "text/plain": [
              "'s'"
            ],
            "application/vnd.google.colaboratory.intrinsic+json": {
              "type": "string"
            }
          },
          "metadata": {},
          "execution_count": 60
        }
      ]
    },
    {
      "cell_type": "code",
      "source": [
        "manchete[0:71]"
      ],
      "metadata": {
        "colab": {
          "base_uri": "https://localhost:8080/",
          "height": 35
        },
        "id": "GG-7pCa3dq8P",
        "outputId": "5588bcff-14a2-471e-e5af-dd1bf63ab200"
      },
      "execution_count": null,
      "outputs": [
        {
          "output_type": "execute_result",
          "data": {
            "text/plain": [
              "'Ibovespa sobe 1,10% e supera os 114 mil pontos pela primeira vez no ano'"
            ],
            "application/vnd.google.colaboratory.intrinsic+json": {
              "type": "string"
            }
          },
          "metadata": {},
          "execution_count": 61
        }
      ]
    },
    {
      "cell_type": "code",
      "source": [
        "manchete1 = \"VALE3: A ação preferida do momento \""
      ],
      "metadata": {
        "id": "Jd2tFNOXd62Z"
      },
      "execution_count": null,
      "outputs": []
    },
    {
      "cell_type": "code",
      "source": [
        "len (manchete1)"
      ],
      "metadata": {
        "colab": {
          "base_uri": "https://localhost:8080/"
        },
        "id": "_dzsW8iWehyC",
        "outputId": "cb4716e5-895f-4769-c7d1-037107044f10"
      },
      "execution_count": null,
      "outputs": [
        {
          "output_type": "execute_result",
          "data": {
            "text/plain": [
              "35"
            ]
          },
          "metadata": {},
          "execution_count": 63
        }
      ]
    },
    {
      "cell_type": "code",
      "source": [
        "manchete1 [0:5] "
      ],
      "metadata": {
        "colab": {
          "base_uri": "https://localhost:8080/",
          "height": 35
        },
        "id": "MWpBHcDQe2Mr",
        "outputId": "3665ebe0-7228-4bf6-de65-c4b790e869b9"
      },
      "execution_count": null,
      "outputs": [
        {
          "output_type": "execute_result",
          "data": {
            "text/plain": [
              "'VALE3'"
            ],
            "application/vnd.google.colaboratory.intrinsic+json": {
              "type": "string"
            }
          },
          "metadata": {},
          "execution_count": 64
        }
      ]
    },
    {
      "cell_type": "code",
      "source": [
        "Ação_do_momento = manchete1 [0:5] "
      ],
      "metadata": {
        "id": "HjtpgbBFe_EU"
      },
      "execution_count": null,
      "outputs": []
    },
    {
      "cell_type": "code",
      "source": [
        "print(Ação_do_momento)"
      ],
      "metadata": {
        "colab": {
          "base_uri": "https://localhost:8080/"
        },
        "id": "qDoKaf8XffgR",
        "outputId": "0ee9fa6c-a166-4f61-97bc-61f7495d2090"
      },
      "execution_count": null,
      "outputs": [
        {
          "output_type": "stream",
          "name": "stdout",
          "text": [
            "VALE3\n"
          ]
        }
      ]
    },
    {
      "cell_type": "code",
      "source": [
        "manchete[6:-11]"
      ],
      "metadata": {
        "colab": {
          "base_uri": "https://localhost:8080/",
          "height": 35
        },
        "id": "MwbWhvFAfl9T",
        "outputId": "541acf59-3db8-4dbb-b3b1-682b56f38579"
      },
      "execution_count": null,
      "outputs": [
        {
          "output_type": "execute_result",
          "data": {
            "text/plain": [
              "'pa sobe 1,10% e supera os 114 mil pontos pela primeira vez no ano, com fluxo estrangeiro; dóla'"
            ],
            "application/vnd.google.colaboratory.intrinsic+json": {
              "type": "string"
            }
          },
          "metadata": {},
          "execution_count": 67
        }
      ]
    },
    {
      "cell_type": "code",
      "source": [
        "manchete[0::2]"
      ],
      "metadata": {
        "colab": {
          "base_uri": "https://localhost:8080/",
          "height": 35
        },
        "id": "Fe1b2Qe-f543",
        "outputId": "547ea121-931b-40bf-954f-cb83f19f7d36"
      },
      "execution_count": null,
      "outputs": [
        {
          "output_type": "execute_result",
          "data": {
            "text/plain": [
              "'Ioep oe11%espr s14mlpno eapier e oao o lx srner;dlrci12%'"
            ],
            "application/vnd.google.colaboratory.intrinsic+json": {
              "type": "string"
            }
          },
          "metadata": {},
          "execution_count": 68
        }
      ]
    },
    {
      "cell_type": "code",
      "source": [
        "manchete[::-1]"
      ],
      "metadata": {
        "colab": {
          "base_uri": "https://localhost:8080/",
          "height": 35
        },
        "id": "aWXEzwmrgjQf",
        "outputId": "dd97e191-a941-40d4-9f36-7d8a20eee677"
      },
      "execution_count": null,
      "outputs": [
        {
          "output_type": "execute_result",
          "data": {
            "text/plain": [
              "'%22,1 iac ralód ;oriegnartse oxulf moc ,ona on zev ariemirp alep sotnop lim 411 so arepus e %01,1 ebos apsevobI'"
            ],
            "application/vnd.google.colaboratory.intrinsic+json": {
              "type": "string"
            }
          },
          "metadata": {},
          "execution_count": 69
        }
      ]
    },
    {
      "cell_type": "markdown",
      "source": [
        "Propriedades das strings\n",
        "* Imutabilidade \n",
        "\n",
        "* Adição \n",
        "\n",
        "* Modificação de upper e lower case  ( maiusculo ou minusculo )"
      ],
      "metadata": {
        "id": "Fo5ZJj_thgla"
      }
    },
    {
      "cell_type": "code",
      "source": [
        "manchete "
      ],
      "metadata": {
        "colab": {
          "base_uri": "https://localhost:8080/",
          "height": 35
        },
        "id": "PsqO94aEiQSC",
        "outputId": "e3b79140-67db-4afe-9665-fd05285a8d90"
      },
      "execution_count": null,
      "outputs": [
        {
          "output_type": "execute_result",
          "data": {
            "text/plain": [
              "'Ibovespa sobe 1,10% e supera os 114 mil pontos pela primeira vez no ano, com fluxo estrangeiro; dólar cai 1,22%'"
            ],
            "application/vnd.google.colaboratory.intrinsic+json": {
              "type": "string"
            }
          },
          "metadata": {},
          "execution_count": 70
        }
      ]
    },
    {
      "cell_type": "code",
      "source": [
        "manchete[0:5]"
      ],
      "metadata": {
        "colab": {
          "base_uri": "https://localhost:8080/",
          "height": 35
        },
        "id": "3HucGtpQiRfm",
        "outputId": "369953eb-bb96-4504-d0e3-2171a44f5f80"
      },
      "execution_count": null,
      "outputs": [
        {
          "output_type": "execute_result",
          "data": {
            "text/plain": [
              "'Ibove'"
            ],
            "application/vnd.google.colaboratory.intrinsic+json": {
              "type": "string"
            }
          },
          "metadata": {},
          "execution_count": 71
        }
      ]
    },
    {
      "cell_type": "code",
      "source": [
        "manchete + 'por causa da alta do mineiro de Ferro'"
      ],
      "metadata": {
        "colab": {
          "base_uri": "https://localhost:8080/",
          "height": 35
        },
        "id": "QUd57tbribAO",
        "outputId": "5978592b-2c30-43b8-8e46-3135352be371"
      },
      "execution_count": null,
      "outputs": [
        {
          "output_type": "execute_result",
          "data": {
            "text/plain": [
              "'Ibovespa sobe 1,10% e supera os 114 mil pontos pela primeira vez no ano, com fluxo estrangeiro; dólar cai 1,22%por causa da alta do mineiro de Ferro'"
            ],
            "application/vnd.google.colaboratory.intrinsic+json": {
              "type": "string"
            }
          },
          "metadata": {},
          "execution_count": 72
        }
      ]
    },
    {
      "cell_type": "code",
      "source": [
        "razão = 'por causa da alta do mineiro de Ferro'"
      ],
      "metadata": {
        "id": "6rONfsLYivI5"
      },
      "execution_count": null,
      "outputs": []
    },
    {
      "cell_type": "code",
      "source": [
        "manchete + razão"
      ],
      "metadata": {
        "colab": {
          "base_uri": "https://localhost:8080/",
          "height": 35
        },
        "id": "e4FNEVaDjAkA",
        "outputId": "c9dba751-4134-422c-c9b5-165b6505ffc6"
      },
      "execution_count": null,
      "outputs": [
        {
          "output_type": "execute_result",
          "data": {
            "text/plain": [
              "'Ibovespa sobe 1,10% e supera os 114 mil pontos pela primeira vez no ano, com fluxo estrangeiro; dólar cai 1,22%por causa da alta do mineiro de Ferro'"
            ],
            "application/vnd.google.colaboratory.intrinsic+json": {
              "type": "string"
            }
          },
          "metadata": {},
          "execution_count": 74
        }
      ]
    },
    {
      "cell_type": "code",
      "source": [
        "Frase_completa = manchete + razão"
      ],
      "metadata": {
        "id": "VQOmumytjDH2"
      },
      "execution_count": null,
      "outputs": []
    },
    {
      "cell_type": "code",
      "source": [
        "Maiusculo = Frase_completa.upper ()"
      ],
      "metadata": {
        "id": "SMTcdlFzjQvk"
      },
      "execution_count": null,
      "outputs": []
    },
    {
      "cell_type": "code",
      "source": [
        "Maiusculo"
      ],
      "metadata": {
        "colab": {
          "base_uri": "https://localhost:8080/",
          "height": 35
        },
        "id": "InaoalrajYrM",
        "outputId": "749939dd-8e20-46a3-fa70-462c6f590759"
      },
      "execution_count": null,
      "outputs": [
        {
          "output_type": "execute_result",
          "data": {
            "text/plain": [
              "'IBOVESPA SOBE 1,10% E SUPERA OS 114 MIL PONTOS PELA PRIMEIRA VEZ NO ANO, COM FLUXO ESTRANGEIRO; DÓLAR CAI 1,22%POR CAUSA DA ALTA DO MINEIRO DE FERRO'"
            ],
            "application/vnd.google.colaboratory.intrinsic+json": {
              "type": "string"
            }
          },
          "metadata": {},
          "execution_count": 77
        }
      ]
    },
    {
      "cell_type": "code",
      "source": [
        "Maiusculo.lower()"
      ],
      "metadata": {
        "colab": {
          "base_uri": "https://localhost:8080/",
          "height": 35
        },
        "id": "xQIAZJxUjm3x",
        "outputId": "f621d9b1-8701-4fca-885d-bde0da2b666c"
      },
      "execution_count": null,
      "outputs": [
        {
          "output_type": "execute_result",
          "data": {
            "text/plain": [
              "'ibovespa sobe 1,10% e supera os 114 mil pontos pela primeira vez no ano, com fluxo estrangeiro; dólar cai 1,22%por causa da alta do mineiro de ferro'"
            ],
            "application/vnd.google.colaboratory.intrinsic+json": {
              "type": "string"
            }
          },
          "metadata": {},
          "execution_count": 78
        }
      ]
    },
    {
      "cell_type": "code",
      "source": [
        "frase_separada = Frase_completa.split()"
      ],
      "metadata": {
        "id": "y-hbvMgtjxoT"
      },
      "execution_count": null,
      "outputs": []
    },
    {
      "cell_type": "code",
      "source": [
        "frase_separada"
      ],
      "metadata": {
        "colab": {
          "base_uri": "https://localhost:8080/"
        },
        "id": "Q9tJwYQpnWph",
        "outputId": "49316bdd-16b3-400d-db75-530596087482"
      },
      "execution_count": null,
      "outputs": [
        {
          "output_type": "execute_result",
          "data": {
            "text/plain": [
              "['Ibovespa',\n",
              " 'sobe',\n",
              " '1,10%',\n",
              " 'e',\n",
              " 'supera',\n",
              " 'os',\n",
              " '114',\n",
              " 'mil',\n",
              " 'pontos',\n",
              " 'pela',\n",
              " 'primeira',\n",
              " 'vez',\n",
              " 'no',\n",
              " 'ano,',\n",
              " 'com',\n",
              " 'fluxo',\n",
              " 'estrangeiro;',\n",
              " 'dólar',\n",
              " 'cai',\n",
              " '1,22%por',\n",
              " 'causa',\n",
              " 'da',\n",
              " 'alta',\n",
              " 'do',\n",
              " 'mineiro',\n",
              " 'de',\n",
              " 'Ferro']"
            ]
          },
          "metadata": {},
          "execution_count": 80
        }
      ]
    },
    {
      "cell_type": "code",
      "source": [
        "frase_separada[0]"
      ],
      "metadata": {
        "colab": {
          "base_uri": "https://localhost:8080/",
          "height": 35
        },
        "id": "PNcUlvSDnlws",
        "outputId": "b32739ac-7115-4038-d857-5c53ca8b6179"
      },
      "execution_count": null,
      "outputs": [
        {
          "output_type": "execute_result",
          "data": {
            "text/plain": [
              "'Ibovespa'"
            ],
            "application/vnd.google.colaboratory.intrinsic+json": {
              "type": "string"
            }
          },
          "metadata": {},
          "execution_count": 81
        }
      ]
    },
    {
      "cell_type": "code",
      "source": [
        "frase_separada[11]"
      ],
      "metadata": {
        "colab": {
          "base_uri": "https://localhost:8080/",
          "height": 35
        },
        "id": "PloDx2ivnq15",
        "outputId": "051d922d-ca05-42a3-f864-d2948f23d7cf"
      },
      "execution_count": null,
      "outputs": [
        {
          "output_type": "execute_result",
          "data": {
            "text/plain": [
              "'vez'"
            ],
            "application/vnd.google.colaboratory.intrinsic+json": {
              "type": "string"
            }
          },
          "metadata": {},
          "execution_count": 82
        }
      ]
    },
    {
      "cell_type": "markdown",
      "source": [
        "## 5.0 Listas"
      ],
      "metadata": {
        "id": "MlhaanHwnvMI"
      }
    },
    {
      "cell_type": "markdown",
      "source": [
        "Listas possuem propriedades bem parecidas com Srtings, porém não podemos confundir as duas, ate porque String é uma variavel é um tipo de dado em si. Já as listas é um formato para amazenamento de Dados, o que é muito util pois permite colocar qualquer tipo de informações e varios tipos de dados diferentes"
      ],
      "metadata": {
        "id": "oq2n_xPKsF_S"
      }
    },
    {
      "cell_type": "code",
      "source": [
        "nomes = ['André', 'João', 'José']"
      ],
      "metadata": {
        "id": "KRNnXc7ss0MB"
      },
      "execution_count": null,
      "outputs": []
    },
    {
      "cell_type": "code",
      "source": [
        "nomes"
      ],
      "metadata": {
        "colab": {
          "base_uri": "https://localhost:8080/"
        },
        "id": "FPH31rH7tAO-",
        "outputId": "b72b3477-f8db-4bed-f921-dec6d3daae78"
      },
      "execution_count": null,
      "outputs": [
        {
          "output_type": "execute_result",
          "data": {
            "text/plain": [
              "['André', 'João', 'José']"
            ]
          },
          "metadata": {},
          "execution_count": 84
        }
      ]
    },
    {
      "cell_type": "code",
      "source": [
        "type(nomes)"
      ],
      "metadata": {
        "colab": {
          "base_uri": "https://localhost:8080/"
        },
        "id": "EjHpGB3FtEpB",
        "outputId": "46c55b3f-98ad-45d4-d0e3-65a7c69a960e"
      },
      "execution_count": null,
      "outputs": [
        {
          "output_type": "execute_result",
          "data": {
            "text/plain": [
              "list"
            ]
          },
          "metadata": {},
          "execution_count": 85
        }
      ]
    },
    {
      "cell_type": "code",
      "source": [
        "lista_misturada = ['André', 'João', 'José',30, 29, 28]"
      ],
      "metadata": {
        "id": "LKqCEZ8jtH09"
      },
      "execution_count": null,
      "outputs": []
    },
    {
      "cell_type": "code",
      "source": [
        "lista_misturada"
      ],
      "metadata": {
        "colab": {
          "base_uri": "https://localhost:8080/"
        },
        "id": "CeGcKcHFtYCq",
        "outputId": "02fd4248-8ad2-47d7-9e49-6bbe67dbfad9"
      },
      "execution_count": null,
      "outputs": [
        {
          "output_type": "execute_result",
          "data": {
            "text/plain": [
              "['André', 'João', 'José', 30, 29, 28]"
            ]
          },
          "metadata": {},
          "execution_count": 87
        }
      ]
    },
    {
      "cell_type": "markdown",
      "source": [
        "*OBS: note que numeros não se usa aspas, do contrario com a presença de aspas os numeros viram strings. Assim perdendo a capacidade de ser trabalhado matematicamente. "
      ],
      "metadata": {
        "id": "ePl31oLUtbXj"
      }
    },
    {
      "cell_type": "code",
      "source": [
        "'30'+'29'"
      ],
      "metadata": {
        "colab": {
          "base_uri": "https://localhost:8080/",
          "height": 35
        },
        "id": "7F5QI49it6B1",
        "outputId": "337cdcce-d2e4-46ef-d407-0d3cdb85e763"
      },
      "execution_count": null,
      "outputs": [
        {
          "output_type": "execute_result",
          "data": {
            "text/plain": [
              "'3029'"
            ],
            "application/vnd.google.colaboratory.intrinsic+json": {
              "type": "string"
            }
          },
          "metadata": {},
          "execution_count": 88
        }
      ]
    },
    {
      "cell_type": "markdown",
      "source": [
        "Aqui a cima, houve uma concatenação. Isso porque ele entendeu que se trata de um texto "
      ],
      "metadata": {
        "id": "zelzNGFJt8kP"
      }
    },
    {
      "cell_type": "markdown",
      "source": [
        "Listas são indexaveis, só que ao contrario das strings, aqui indexamos os elementos que estão dentro da lista"
      ],
      "metadata": {
        "id": "ZNsHYzEauQGd"
      }
    },
    {
      "cell_type": "code",
      "source": [
        "nomes[0]"
      ],
      "metadata": {
        "colab": {
          "base_uri": "https://localhost:8080/",
          "height": 35
        },
        "id": "SqqdGM-7uebs",
        "outputId": "0bdba44c-afb7-4b81-dc99-021ca0332c28"
      },
      "execution_count": null,
      "outputs": [
        {
          "output_type": "execute_result",
          "data": {
            "text/plain": [
              "'André'"
            ],
            "application/vnd.google.colaboratory.intrinsic+json": {
              "type": "string"
            }
          },
          "metadata": {},
          "execution_count": 89
        }
      ]
    },
    {
      "cell_type": "markdown",
      "source": [
        "Repare que aqui ele trouxe, o primeiro elemento que e o nome Andre, e não a primeira letra "
      ],
      "metadata": {
        "id": "CX0FOkPcuj6y"
      }
    },
    {
      "cell_type": "code",
      "source": [
        "type(lista_misturada)"
      ],
      "metadata": {
        "colab": {
          "base_uri": "https://localhost:8080/"
        },
        "id": "R0LOcfAhU8Gv",
        "outputId": "b1fc20ed-fda8-42c6-9d0e-2f4457aca5d1"
      },
      "execution_count": null,
      "outputs": [
        {
          "output_type": "execute_result",
          "data": {
            "text/plain": [
              "list"
            ]
          },
          "metadata": {},
          "execution_count": 90
        }
      ]
    },
    {
      "cell_type": "code",
      "source": [
        "' os aprovados foram ' + nomes[ 0 ] +  ' e '  +  nomes [ 2 ]"
      ],
      "metadata": {
        "colab": {
          "base_uri": "https://localhost:8080/",
          "height": 35
        },
        "id": "cKAGOzc_VCrP",
        "outputId": "5bb4308b-6cb3-4fe6-bdae-9f7045712378"
      },
      "execution_count": null,
      "outputs": [
        {
          "output_type": "execute_result",
          "data": {
            "text/plain": [
              "' os aprovados foram André e José'"
            ],
            "application/vnd.google.colaboratory.intrinsic+json": {
              "type": "string"
            }
          },
          "metadata": {},
          "execution_count": 91
        }
      ]
    },
    {
      "cell_type": "markdown",
      "source": [
        "'texto dentro de aspas simples, o python reconhece como string', o '+' Operação de string que tem a função de concatenação, tem a função de concaternar o trecho de texto com o outro trecho de texto. No final o retorno dessa função sera uma 'STR'"
      ],
      "metadata": {
        "id": "8cqMRMTwVjuO"
      }
    },
    {
      "cell_type": "code",
      "source": [
        "lista3 = [28,29,30]"
      ],
      "metadata": {
        "id": "78D20a7lXGcO"
      },
      "execution_count": null,
      "outputs": []
    },
    {
      "cell_type": "code",
      "source": [
        "lista3 [0]"
      ],
      "metadata": {
        "colab": {
          "base_uri": "https://localhost:8080/"
        },
        "id": "i0t8rHLfXJwS",
        "outputId": "43cbf987-83ea-47e3-e64a-1d11bdb0e809"
      },
      "execution_count": null,
      "outputs": [
        {
          "output_type": "execute_result",
          "data": {
            "text/plain": [
              "28"
            ]
          },
          "metadata": {},
          "execution_count": 93
        }
      ]
    },
    {
      "cell_type": "markdown",
      "source": [
        "Quando trabalhamos com lista de numeros, não é possivel concatenar eles com strings.\n",
        "\n",
        " EXP:    'A minha idade é ' +  lista3[0]\n",
        "\n",
        "\n",
        "Não sendo assim possivel de concaternar texto com numeros !!\n"
      ],
      "metadata": {
        "id": "KvK9F-UvXR8r"
      }
    },
    {
      "cell_type": "code",
      "source": [
        "lista4 =['28','29','30']"
      ],
      "metadata": {
        "id": "YfeRa3SQX2dY"
      },
      "execution_count": null,
      "outputs": []
    },
    {
      "cell_type": "code",
      "source": [
        "'A minha idade é ' + lista4 [0]"
      ],
      "metadata": {
        "colab": {
          "base_uri": "https://localhost:8080/",
          "height": 35
        },
        "id": "lBlA3piiYOmf",
        "outputId": "8f904026-6d55-4803-81ad-124b55e68afc"
      },
      "execution_count": null,
      "outputs": [
        {
          "output_type": "execute_result",
          "data": {
            "text/plain": [
              "'A minha idade é 28'"
            ],
            "application/vnd.google.colaboratory.intrinsic+json": {
              "type": "string"
            }
          },
          "metadata": {},
          "execution_count": 95
        }
      ]
    },
    {
      "cell_type": "markdown",
      "source": [
        "A lista ela não é passiva de criar novos elementos. Mas podemos substituir elementos já existentes!\n",
        "\n",
        "\n",
        "Exp: lista4 [3] = '31' Exp de erro \n",
        "\n"
      ],
      "metadata": {
        "id": "NdhIHre_YYMH"
      }
    },
    {
      "cell_type": "markdown",
      "source": [
        "Porém é possivel fazer alterações nos elementos dentro de uma lista. Repare como o elemeto [1] da lista4 tinha um valor de 29 e após o novo comando ele passou a ocupar a posição 31 \n"
      ],
      "metadata": {
        "id": "GE7B3YirZced"
      }
    },
    {
      "cell_type": "code",
      "source": [
        "lista4[1] = '31'"
      ],
      "metadata": {
        "id": "IZd2p9r0Zjsb"
      },
      "execution_count": null,
      "outputs": []
    },
    {
      "cell_type": "code",
      "source": [
        "lista4"
      ],
      "metadata": {
        "colab": {
          "base_uri": "https://localhost:8080/"
        },
        "id": "jivVRTorZtdw",
        "outputId": "c1a5b64b-ff4a-4900-f5d7-60723ca94e4a"
      },
      "execution_count": null,
      "outputs": [
        {
          "output_type": "execute_result",
          "data": {
            "text/plain": [
              "['28', '31', '30']"
            ]
          },
          "metadata": {},
          "execution_count": 97
        }
      ]
    },
    {
      "cell_type": "markdown",
      "source": [
        "Existe também uma propriedade muito importante, que seria no caso a Adição de listas "
      ],
      "metadata": {
        "id": "U5lyiWmPZvVG"
      }
    },
    {
      "cell_type": "code",
      "source": [
        "nova_lista2 = nomes + lista4"
      ],
      "metadata": {
        "id": "XljVUtk3fayd"
      },
      "execution_count": null,
      "outputs": []
    },
    {
      "cell_type": "code",
      "source": [
        "nova_lista2"
      ],
      "metadata": {
        "colab": {
          "base_uri": "https://localhost:8080/"
        },
        "id": "MqeZtC64ffxy",
        "outputId": "680d7dd7-8e85-42c0-e33c-77dec1794cb6"
      },
      "execution_count": null,
      "outputs": [
        {
          "output_type": "execute_result",
          "data": {
            "text/plain": [
              "['André', 'João', 'José', '28', '31', '30']"
            ]
          },
          "metadata": {},
          "execution_count": 99
        }
      ]
    },
    {
      "cell_type": "markdown",
      "source": [
        "Multiplicação de listas é multplica em comprimento a lista. No caso 2* vai aparecer 2* cada item da lista   \n",
        "\n",
        "Exp:nova_lista2* 2\n",
        "\n"
      ],
      "metadata": {
        "id": "MFJ1ZqUVgP73"
      }
    },
    {
      "cell_type": "code",
      "source": [
        "nova_lista2*2"
      ],
      "metadata": {
        "colab": {
          "base_uri": "https://localhost:8080/"
        },
        "id": "7WznD_AIhEbu",
        "outputId": "7a542ac0-fd63-42af-faf9-4c5bbb6a661d"
      },
      "execution_count": null,
      "outputs": [
        {
          "output_type": "execute_result",
          "data": {
            "text/plain": [
              "['André',\n",
              " 'João',\n",
              " 'José',\n",
              " '28',\n",
              " '31',\n",
              " '30',\n",
              " 'André',\n",
              " 'João',\n",
              " 'José',\n",
              " '28',\n",
              " '31',\n",
              " '30']"
            ]
          },
          "metadata": {},
          "execution_count": 100
        }
      ]
    },
    {
      "cell_type": "markdown",
      "source": [
        "Com o metodo ( append )- é possivel juntar novos elementos , Exp add o numero 32 na lista4, porém ele entra na lista como numero e não como string"
      ],
      "metadata": {
        "id": "VRwjN7rZhQFH"
      }
    },
    {
      "cell_type": "code",
      "source": [
        "lista4.append(32)"
      ],
      "metadata": {
        "id": "ETtf5UmUikBO"
      },
      "execution_count": null,
      "outputs": []
    },
    {
      "cell_type": "code",
      "source": [
        "lista4"
      ],
      "metadata": {
        "colab": {
          "base_uri": "https://localhost:8080/"
        },
        "id": "3YvbLqNoivsX",
        "outputId": "b8316503-5b1d-4c62-b3d1-773bbc9b52d6"
      },
      "execution_count": null,
      "outputs": [
        {
          "output_type": "execute_result",
          "data": {
            "text/plain": [
              "['28', '31', '30', 32]"
            ]
          },
          "metadata": {},
          "execution_count": 102
        }
      ]
    },
    {
      "cell_type": "code",
      "source": [
        "type(lista4[0])"
      ],
      "metadata": {
        "colab": {
          "base_uri": "https://localhost:8080/"
        },
        "id": "1yde-yVxixyv",
        "outputId": "f6332753-653f-4f90-ffbe-9cca3e74ae21"
      },
      "execution_count": null,
      "outputs": [
        {
          "output_type": "execute_result",
          "data": {
            "text/plain": [
              "str"
            ]
          },
          "metadata": {},
          "execution_count": 103
        }
      ]
    },
    {
      "cell_type": "code",
      "source": [
        "lista4.pop()"
      ],
      "metadata": {
        "id": "WIx-JlWile8a",
        "colab": {
          "base_uri": "https://localhost:8080/"
        },
        "outputId": "46a35f0e-793d-43d0-d3dd-f173757ac504"
      },
      "execution_count": null,
      "outputs": [
        {
          "output_type": "execute_result",
          "data": {
            "text/plain": [
              "32"
            ]
          },
          "metadata": {},
          "execution_count": 104
        }
      ]
    },
    {
      "cell_type": "code",
      "source": [
        "lista4"
      ],
      "metadata": {
        "colab": {
          "base_uri": "https://localhost:8080/"
        },
        "id": "i4FNSNuIO7zy",
        "outputId": "ec049093-ff98-43b3-b189-7551b4d82a45"
      },
      "execution_count": null,
      "outputs": [
        {
          "output_type": "execute_result",
          "data": {
            "text/plain": [
              "['28', '31', '30']"
            ]
          },
          "metadata": {},
          "execution_count": 105
        }
      ]
    },
    {
      "cell_type": "markdown",
      "source": [
        "Repare que com o .pop(), o ultimo nuemro da lista4, que era \"32\" deixou de existir. "
      ],
      "metadata": {
        "id": "jTaTfuvjPe0Q"
      }
    },
    {
      "cell_type": "code",
      "source": [
        "idade = [4, 5, 87, 54, 89, 100, 53, 28, 29, 98, 33, 39, 45 , 75, 99, 101, 110, 25, 48, 69, 70]"
      ],
      "metadata": {
        "id": "s23opdM7P9IH"
      },
      "execution_count": null,
      "outputs": []
    },
    {
      "cell_type": "code",
      "source": [
        "idade.sort()"
      ],
      "metadata": {
        "id": "Am9LopKcQOxN"
      },
      "execution_count": null,
      "outputs": []
    },
    {
      "cell_type": "code",
      "source": [
        "idade"
      ],
      "metadata": {
        "colab": {
          "base_uri": "https://localhost:8080/"
        },
        "id": "ekLnt1RAQTdJ",
        "outputId": "813a1922-7b0f-4f0e-9aca-e324cff42433"
      },
      "execution_count": null,
      "outputs": [
        {
          "output_type": "execute_result",
          "data": {
            "text/plain": [
              "[4,\n",
              " 5,\n",
              " 25,\n",
              " 28,\n",
              " 29,\n",
              " 33,\n",
              " 39,\n",
              " 45,\n",
              " 48,\n",
              " 53,\n",
              " 54,\n",
              " 69,\n",
              " 70,\n",
              " 75,\n",
              " 87,\n",
              " 89,\n",
              " 98,\n",
              " 99,\n",
              " 100,\n",
              " 101,\n",
              " 110]"
            ]
          },
          "metadata": {},
          "execution_count": 108
        }
      ]
    },
    {
      "cell_type": "code",
      "source": [
        "idade.reverse()"
      ],
      "metadata": {
        "id": "qAZPGVfAQVUY"
      },
      "execution_count": null,
      "outputs": []
    },
    {
      "cell_type": "code",
      "source": [
        "idade"
      ],
      "metadata": {
        "colab": {
          "base_uri": "https://localhost:8080/"
        },
        "id": "aFRX2TwvQiKS",
        "outputId": "45e1782a-46b0-49ad-ad67-4b6f1650689d"
      },
      "execution_count": null,
      "outputs": [
        {
          "output_type": "execute_result",
          "data": {
            "text/plain": [
              "[110,\n",
              " 101,\n",
              " 100,\n",
              " 99,\n",
              " 98,\n",
              " 89,\n",
              " 87,\n",
              " 75,\n",
              " 70,\n",
              " 69,\n",
              " 54,\n",
              " 53,\n",
              " 48,\n",
              " 45,\n",
              " 39,\n",
              " 33,\n",
              " 29,\n",
              " 28,\n",
              " 25,\n",
              " 5,\n",
              " 4]"
            ]
          },
          "metadata": {},
          "execution_count": 110
        }
      ]
    },
    {
      "cell_type": "markdown",
      "source": [
        "O comando **.sort()** fez a lista ser classificada na ordem cresente.\n",
        "\n",
        " \n",
        "\n",
        "Enquanto o comando **.reverse()** Fez a lista ser classificada em ordem decrescente"
      ],
      "metadata": {
        "id": "GUd4Y6B9QjC1"
      }
    },
    {
      "cell_type": "markdown",
      "source": [
        "E possivel também colocaramos listas dentro de listas, Observe o exemplo da Matriz a baixo "
      ],
      "metadata": {
        "id": "neI4-iy7RfYg"
      }
    },
    {
      "cell_type": "code",
      "source": [
        "lista01 = [0, 1, 2]\n",
        "lista02 = [3, 4, 5]\n",
        "lista03 = [6, 7, 8] "
      ],
      "metadata": {
        "id": "H-buPE_eTegP"
      },
      "execution_count": null,
      "outputs": []
    },
    {
      "cell_type": "code",
      "source": [
        "matriz =  [lista01 , lista02 , lista03]"
      ],
      "metadata": {
        "id": "PgHXVrv-TzUc"
      },
      "execution_count": null,
      "outputs": []
    },
    {
      "cell_type": "code",
      "source": [
        "matriz"
      ],
      "metadata": {
        "colab": {
          "base_uri": "https://localhost:8080/"
        },
        "id": "MExuAtTvUBWE",
        "outputId": "76d6ec31-b6aa-4b3c-f47f-9b1dccd21a77"
      },
      "execution_count": null,
      "outputs": [
        {
          "output_type": "execute_result",
          "data": {
            "text/plain": [
              "[[0, 1, 2], [3, 4, 5], [6, 7, 8]]"
            ]
          },
          "metadata": {},
          "execution_count": 113
        }
      ]
    },
    {
      "cell_type": "code",
      "source": [
        "matriz[0]"
      ],
      "metadata": {
        "colab": {
          "base_uri": "https://localhost:8080/"
        },
        "id": "dFhjew2WUCEO",
        "outputId": "47542578-7bd4-409c-d519-887224222353"
      },
      "execution_count": null,
      "outputs": [
        {
          "output_type": "execute_result",
          "data": {
            "text/plain": [
              "[0, 1, 2]"
            ]
          },
          "metadata": {},
          "execution_count": 114
        }
      ]
    },
    {
      "cell_type": "code",
      "source": [
        "matriz[2][2]"
      ],
      "metadata": {
        "colab": {
          "base_uri": "https://localhost:8080/"
        },
        "id": "eCEuq5RZUHGn",
        "outputId": "a33b884d-f326-49aa-a0cf-ce06660f1cba"
      },
      "execution_count": null,
      "outputs": [
        {
          "output_type": "execute_result",
          "data": {
            "text/plain": [
              "8"
            ]
          },
          "metadata": {},
          "execution_count": 117
        }
      ]
    },
    {
      "cell_type": "markdown",
      "source": [
        "## 6.0 Dicionários"
      ],
      "metadata": {
        "id": "1DO3ICZIUNF8"
      }
    },
    {
      "cell_type": "markdown",
      "source": [
        "No caso de dicionários usamos as chaves \"{:}\", O que tiver dentro das chaves  vão compor o nosso dicionario !"
      ],
      "metadata": {
        "id": "Ss6B4MCAJNHA"
      }
    },
    {
      "cell_type": "code",
      "source": [
        "precos = {'PETR4':30}"
      ],
      "metadata": {
        "id": "Q4S9vozhJlIt"
      },
      "execution_count": null,
      "outputs": []
    },
    {
      "cell_type": "code",
      "source": [
        "precos"
      ],
      "metadata": {
        "colab": {
          "base_uri": "https://localhost:8080/"
        },
        "id": "grdctWmzJuGi",
        "outputId": "d772ac02-43bd-4c64-aa99-b215855a8e5a"
      },
      "execution_count": null,
      "outputs": [
        {
          "output_type": "execute_result",
          "data": {
            "text/plain": [
              "{'PETR4': 30}"
            ]
          },
          "metadata": {},
          "execution_count": 2
        }
      ]
    },
    {
      "cell_type": "code",
      "source": [
        "type(precos)"
      ],
      "metadata": {
        "colab": {
          "base_uri": "https://localhost:8080/"
        },
        "id": "T7uLywY5JwtP",
        "outputId": "070fb3d2-1ec8-4ca8-ab52-fc6f61d02bcc"
      },
      "execution_count": null,
      "outputs": [
        {
          "output_type": "execute_result",
          "data": {
            "text/plain": [
              "dict"
            ]
          },
          "metadata": {},
          "execution_count": 7
        }
      ]
    },
    {
      "cell_type": "markdown",
      "source": [
        "Ainda em dicionarios é possivel adicionar mais de uma entrada, confira no exemplo a baixo "
      ],
      "metadata": {
        "id": "TmBe8kVeJ3Zn"
      }
    },
    {
      "cell_type": "code",
      "source": [
        "precos1 = {'PETR4 ': 30,\n",
        "           'VALE3' : 102,\n",
        "           'WEGE3' : 34}"
      ],
      "metadata": {
        "id": "UCBssX3nKFMo"
      },
      "execution_count": null,
      "outputs": []
    },
    {
      "cell_type": "code",
      "source": [
        "precos1 "
      ],
      "metadata": {
        "colab": {
          "base_uri": "https://localhost:8080/"
        },
        "id": "6ik-1j21KNhI",
        "outputId": "913422d7-0d96-4d5e-aedb-21920169d425"
      },
      "execution_count": null,
      "outputs": [
        {
          "output_type": "execute_result",
          "data": {
            "text/plain": [
              "{'PETR4 ': 30, 'VALE3': 102, 'WEGE3': 34}"
            ]
          },
          "metadata": {},
          "execution_count": 11
        }
      ]
    },
    {
      "cell_type": "code",
      "source": [
        "type (precos1)"
      ],
      "metadata": {
        "colab": {
          "base_uri": "https://localhost:8080/"
        },
        "id": "JLk89L-9KtwR",
        "outputId": "324f5dbf-36aa-4de1-885e-92c32146f69b"
      },
      "execution_count": null,
      "outputs": [
        {
          "output_type": "execute_result",
          "data": {
            "text/plain": [
              "dict"
            ]
          },
          "metadata": {},
          "execution_count": 12
        }
      ]
    },
    {
      "cell_type": "markdown",
      "source": [
        "Dicionarios possuem uma estrutra no Python chamada de chaves e valores. \n",
        "\n",
        "\n",
        "**Chaves** vem sempre em primeiro : ' PETR4 '/ ' VALE3' / ' WEGE3 '\n",
        "\n",
        "e os \n",
        "\n",
        "**Valore** é o que vem sempre depois '30' / 102 / 34 "
      ],
      "metadata": {
        "id": "M0axInnjKxLS"
      }
    },
    {
      "cell_type": "markdown",
      "source": [
        "No Pyathon existe uma funções de chamadas individuais. \n",
        "\n",
        " **'.Keys'** traz so as chaves\n",
        "\n",
        " **.values** Traz só os valores\n",
        " \n",
        " **.items** Traz a chaves e os valores de forma separadas \n",
        "\n",
        " "
      ],
      "metadata": {
        "id": "GqK2vTWuLWuU"
      }
    },
    {
      "cell_type": "code",
      "source": [
        "precos1.keys ()"
      ],
      "metadata": {
        "colab": {
          "base_uri": "https://localhost:8080/"
        },
        "id": "whTTn_W9MLml",
        "outputId": "245ca717-e3c3-44e7-c69a-bb8503360600"
      },
      "execution_count": null,
      "outputs": [
        {
          "output_type": "execute_result",
          "data": {
            "text/plain": [
              "dict_keys(['PETR4 ', 'VALE3', 'WEGE3'])"
            ]
          },
          "metadata": {},
          "execution_count": 27
        }
      ]
    },
    {
      "cell_type": "code",
      "source": [
        "precos1.values()"
      ],
      "metadata": {
        "colab": {
          "base_uri": "https://localhost:8080/"
        },
        "id": "xaoScgcCMPNj",
        "outputId": "7c0fbc19-f4c2-4ce6-c77c-f44fd0c0930b"
      },
      "execution_count": null,
      "outputs": [
        {
          "output_type": "execute_result",
          "data": {
            "text/plain": [
              "dict_values([30, 102, 34])"
            ]
          },
          "metadata": {},
          "execution_count": 28
        }
      ]
    },
    {
      "cell_type": "code",
      "source": [
        "precos1.items()"
      ],
      "metadata": {
        "colab": {
          "base_uri": "https://localhost:8080/"
        },
        "id": "itZhkzZ7MYif",
        "outputId": "2e469f60-4006-4a2b-e1a8-e0c26278117b"
      },
      "execution_count": null,
      "outputs": [
        {
          "output_type": "execute_result",
          "data": {
            "text/plain": [
              "dict_items([('PETR4 ', 30), ('VALE3', 102), ('WEGE3', 34)])"
            ]
          },
          "metadata": {},
          "execution_count": 29
        }
      ]
    },
    {
      "cell_type": "markdown",
      "source": [
        "Indexação em dicionairos é um pouco diferente das listas, no dicionario ele reconhce atraves das proprias chaves "
      ],
      "metadata": {
        "id": "iLoa9pFsNElo"
      }
    },
    {
      "cell_type": "code",
      "source": [
        "precos1['PETR4 ']"
      ],
      "metadata": {
        "colab": {
          "base_uri": "https://localhost:8080/"
        },
        "id": "QyiyPPNdNam-",
        "outputId": "785daebc-8768-4007-97c3-6acc18866542"
      },
      "execution_count": null,
      "outputs": [
        {
          "output_type": "execute_result",
          "data": {
            "text/plain": [
              "30"
            ]
          },
          "metadata": {},
          "execution_count": 34
        }
      ]
    },
    {
      "cell_type": "code",
      "source": [
        "precos1 = {'PETR4 ': 30,\n",
        "           'VALE3' : [102, 120, 140, 200],\n",
        "           'WEGE3' : 34}"
      ],
      "metadata": {
        "id": "x0zZvBHTNi5w"
      },
      "execution_count": null,
      "outputs": []
    },
    {
      "cell_type": "code",
      "source": [
        "precos1['VALE3']"
      ],
      "metadata": {
        "colab": {
          "base_uri": "https://localhost:8080/"
        },
        "id": "hKnrvzcmOaPp",
        "outputId": "4a87e665-f62a-4011-9b9d-ee40d5c4280c"
      },
      "execution_count": null,
      "outputs": [
        {
          "output_type": "execute_result",
          "data": {
            "text/plain": [
              "[102, 120, 140, 200]"
            ]
          },
          "metadata": {},
          "execution_count": 37
        }
      ]
    },
    {
      "cell_type": "code",
      "source": [
        "precos1"
      ],
      "metadata": {
        "colab": {
          "base_uri": "https://localhost:8080/"
        },
        "id": "lM5GVcrQOkWm",
        "outputId": "430c4f78-275d-4b36-8a8e-9b13a4571fb8"
      },
      "execution_count": null,
      "outputs": [
        {
          "output_type": "execute_result",
          "data": {
            "text/plain": [
              "{'PETR4 ': 30, 'VALE3': [102, 120, 140, 200], 'WEGE3': 34}"
            ]
          },
          "metadata": {},
          "execution_count": 38
        }
      ]
    },
    {
      "cell_type": "markdown",
      "source": [
        "Adicionando um novo papel "
      ],
      "metadata": {
        "id": "Eiamaz8COvOP"
      }
    },
    {
      "cell_type": "code",
      "source": [
        "precos1['GOAU4'] = 50"
      ],
      "metadata": {
        "id": "dkfamB7uO28C"
      },
      "execution_count": null,
      "outputs": []
    },
    {
      "cell_type": "code",
      "source": [
        "precos1"
      ],
      "metadata": {
        "colab": {
          "base_uri": "https://localhost:8080/"
        },
        "id": "1zsoqJduPAas",
        "outputId": "82b577d1-cefc-4808-9db1-0885061edff9"
      },
      "execution_count": null,
      "outputs": [
        {
          "output_type": "execute_result",
          "data": {
            "text/plain": [
              "{'PETR4 ': 30, 'VALE3': [102, 120, 140, 200], 'WEGE3': 34, 'GOAU4': 50}"
            ]
          },
          "metadata": {},
          "execution_count": 41
        }
      ]
    },
    {
      "cell_type": "markdown",
      "source": [
        "##7.0 Tuplas "
      ],
      "metadata": {
        "id": "i8jrFRUOPDpG"
      }
    },
    {
      "cell_type": "markdown",
      "source": [
        "As tuplas são muito utilizadas quando se quer fazer registros de dados sensiveis, isso graças ao fato das tuplas serem imultaveis logo, essa é a  principal caracteristica das tuplas"
      ],
      "metadata": {
        "id": "Y1xT6UeSe-jK"
      }
    },
    {
      "cell_type": "code",
      "source": [
        "  Tupla = ()"
      ],
      "metadata": {
        "id": "2ygXqE9VhIOV"
      },
      "execution_count": null,
      "outputs": []
    },
    {
      "cell_type": "code",
      "source": [
        "tupla1 = (1,1,1,2,2,2,2,3,4,5,5,6,6,6,6,6,6,7,7,7,8,8,8,8,8,9,9,9,9,29)"
      ],
      "metadata": {
        "id": "WbQGllP-hfoI"
      },
      "execution_count": null,
      "outputs": []
    },
    {
      "cell_type": "code",
      "source": [
        "tupla1"
      ],
      "metadata": {
        "colab": {
          "base_uri": "https://localhost:8080/"
        },
        "id": "LNxUPUJJqsu5",
        "outputId": "190a7946-eff0-4857-b65b-2ccf31a56571"
      },
      "execution_count": null,
      "outputs": [
        {
          "output_type": "execute_result",
          "data": {
            "text/plain": [
              "(1,\n",
              " 1,\n",
              " 1,\n",
              " 2,\n",
              " 2,\n",
              " 2,\n",
              " 2,\n",
              " 3,\n",
              " 4,\n",
              " 5,\n",
              " 5,\n",
              " 6,\n",
              " 6,\n",
              " 6,\n",
              " 6,\n",
              " 6,\n",
              " 6,\n",
              " 7,\n",
              " 7,\n",
              " 7,\n",
              " 8,\n",
              " 8,\n",
              " 8,\n",
              " 8,\n",
              " 8,\n",
              " 9,\n",
              " 9,\n",
              " 9,\n",
              " 9,\n",
              " 29)"
            ]
          },
          "metadata": {},
          "execution_count": 13
        }
      ]
    },
    {
      "cell_type": "code",
      "source": [
        "type(tupla1)"
      ],
      "metadata": {
        "colab": {
          "base_uri": "https://localhost:8080/"
        },
        "id": "tJ9L0JHAqudU",
        "outputId": "ecfb7362-834c-4ba5-81fe-71a20a04867e"
      },
      "execution_count": null,
      "outputs": [
        {
          "output_type": "execute_result",
          "data": {
            "text/plain": [
              "tuple"
            ]
          },
          "metadata": {},
          "execution_count": 15
        }
      ]
    },
    {
      "cell_type": "code",
      "source": [
        "len(tupla1)"
      ],
      "metadata": {
        "colab": {
          "base_uri": "https://localhost:8080/"
        },
        "id": "Zo0c9vTeqzon",
        "outputId": "08990b51-0008-4b39-c549-d3462d2158d1"
      },
      "execution_count": null,
      "outputs": [
        {
          "output_type": "execute_result",
          "data": {
            "text/plain": [
              "30"
            ]
          },
          "metadata": {},
          "execution_count": 16
        }
      ]
    },
    {
      "cell_type": "markdown",
      "source": [
        "As Tuplas podem ser indexadas!! Exp abaixo"
      ],
      "metadata": {
        "id": "AJaHYPyeq6Mo"
      }
    },
    {
      "cell_type": "code",
      "source": [
        "tupla1[0]"
      ],
      "metadata": {
        "colab": {
          "base_uri": "https://localhost:8080/"
        },
        "id": "qG7j1cQ3rIw4",
        "outputId": "57bcd484-d052-43e7-9906-9d4f6e5df5a7"
      },
      "execution_count": null,
      "outputs": [
        {
          "output_type": "execute_result",
          "data": {
            "text/plain": [
              "1"
            ]
          },
          "metadata": {},
          "execution_count": 17
        }
      ]
    },
    {
      "cell_type": "code",
      "source": [
        "tupla1[16:30]"
      ],
      "metadata": {
        "colab": {
          "base_uri": "https://localhost:8080/"
        },
        "id": "YDr0VIJ9rTmm",
        "outputId": "9b5f3eec-e405-4afe-fe8f-d752141ca0b9"
      },
      "execution_count": null,
      "outputs": [
        {
          "output_type": "execute_result",
          "data": {
            "text/plain": [
              "(6, 7, 7, 7, 8, 8, 8, 8, 8, 9, 9, 9, 9, 29)"
            ]
          },
          "metadata": {},
          "execution_count": 22
        }
      ]
    },
    {
      "cell_type": "markdown",
      "source": [
        "para encontar objetos especificos dentro de uma tupla, a função '.index' é responsavel por realizar essa tarefa."
      ],
      "metadata": {
        "id": "_5MwUeRIrd8q"
      }
    },
    {
      "cell_type": "code",
      "source": [
        "tupla1.index(29)"
      ],
      "metadata": {
        "colab": {
          "base_uri": "https://localhost:8080/"
        },
        "id": "vTyChbQUsSL0",
        "outputId": "597c64fe-039f-4d27-828e-12379bd84123"
      },
      "execution_count": null,
      "outputs": [
        {
          "output_type": "execute_result",
          "data": {
            "text/plain": [
              "29"
            ]
          },
          "metadata": {},
          "execution_count": 20
        }
      ]
    },
    {
      "cell_type": "markdown",
      "source": [
        "A função '.count', ele conta quantas vezes uma objeto especifico aparece dentro de uma tupla."
      ],
      "metadata": {
        "id": "IAHWFAS8saUG"
      }
    },
    {
      "cell_type": "code",
      "source": [
        "tupla1.count(8)"
      ],
      "metadata": {
        "colab": {
          "base_uri": "https://localhost:8080/"
        },
        "id": "MkYf8V50tYtv",
        "outputId": "4718a5fe-d9ce-4909-fa94-cbf6dda5e50f"
      },
      "execution_count": null,
      "outputs": [
        {
          "output_type": "execute_result",
          "data": {
            "text/plain": [
              "5"
            ]
          },
          "metadata": {},
          "execution_count": 23
        }
      ]
    },
    {
      "cell_type": "markdown",
      "source": [
        "## 8.0 Conjuntos "
      ],
      "metadata": {
        "id": "gKrqYGjktcXn"
      }
    },
    {
      "cell_type": "markdown",
      "source": [
        "Os Conjuntos são coleções não ordenadas de elementos exclusivos. \n",
        "\n",
        "São o tipo ideal quando queremos fazer contagem de elementos unicos, o que acaba sendo mais rapdio do que uma lista.\n",
        "\n",
        "\n",
        "Quando estamos tratando dados exclusivos, ou seja mesmo que o possivel dado ele apareça varias vezes, o conjunto vai contabilizar como um individuo, ou seja entrada unica."
      ],
      "metadata": {
        "id": "Fn0mMtktvwwN"
      }
    },
    {
      "cell_type": "code",
      "source": [
        "  conjunto = set()"
      ],
      "metadata": {
        "id": "qD8Ji9IbwkI5"
      },
      "execution_count": null,
      "outputs": []
    },
    {
      "cell_type": "code",
      "source": [
        "conjunto "
      ],
      "metadata": {
        "colab": {
          "base_uri": "https://localhost:8080/"
        },
        "id": "1gPibBDiyDJT",
        "outputId": "9aeffdf5-9a96-4ace-d6d5-2b07add2e9b3"
      },
      "execution_count": null,
      "outputs": [
        {
          "output_type": "execute_result",
          "data": {
            "text/plain": [
              "set()"
            ]
          },
          "metadata": {},
          "execution_count": 25
        }
      ]
    },
    {
      "cell_type": "markdown",
      "source": [
        "Para adicionarmos elementos dentro de um conjunto, utilizamos a função '.add'."
      ],
      "metadata": {
        "id": "0pLBSKq0yEWr"
      }
    },
    {
      "cell_type": "code",
      "source": [
        "conjunto.add(9)"
      ],
      "metadata": {
        "id": "1sBHlnROyZkz"
      },
      "execution_count": null,
      "outputs": []
    },
    {
      "cell_type": "code",
      "source": [
        "conjunto"
      ],
      "metadata": {
        "colab": {
          "base_uri": "https://localhost:8080/"
        },
        "id": "XOgmfZ3AygBm",
        "outputId": "2a581dc1-ccac-4f6b-f7e0-72fb3334a26d"
      },
      "execution_count": null,
      "outputs": [
        {
          "output_type": "execute_result",
          "data": {
            "text/plain": [
              "{10, 5, 6, 7, 8, 9, 'trading com Dados'}"
            ]
          },
          "metadata": {},
          "execution_count": 32
        }
      ]
    },
    {
      "cell_type": "code",
      "source": [
        "conjunto.add(9)\n",
        "conjunto.add(9)\n",
        "conjunto.add(9)\n",
        "conjunto.add(9)\n",
        "conjunto.add(9)\n",
        "\n",
        "conjunto.add(5)\n",
        "conjunto.add(6)\n",
        "conjunto.add(7)\n",
        "conjunto.add(8)\n",
        "conjunto.add(9)\n",
        "conjunto.add(10)\n",
        "conjunto.add('trading com Dados')"
      ],
      "metadata": {
        "id": "YPtsXAIryhUF"
      },
      "execution_count": null,
      "outputs": []
    },
    {
      "cell_type": "code",
      "source": [
        "conjunto"
      ],
      "metadata": {
        "colab": {
          "base_uri": "https://localhost:8080/"
        },
        "id": "WbRyrKW9yxzs",
        "outputId": "57b9e4ef-746d-4904-eae6-889316113373"
      },
      "execution_count": null,
      "outputs": [
        {
          "output_type": "execute_result",
          "data": {
            "text/plain": [
              "{10, 5, 6, 7, 8, 9, 'trading com Dados'}"
            ]
          },
          "metadata": {},
          "execution_count": 30
        }
      ]
    },
    {
      "cell_type": "code",
      "source": [],
      "metadata": {
        "id": "ntk71XUtzpga"
      },
      "execution_count": null,
      "outputs": []
    }
  ]
}