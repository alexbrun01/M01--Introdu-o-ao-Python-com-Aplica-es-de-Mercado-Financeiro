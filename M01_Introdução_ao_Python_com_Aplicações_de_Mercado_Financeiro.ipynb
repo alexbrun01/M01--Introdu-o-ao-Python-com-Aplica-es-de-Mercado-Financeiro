{
  "nbformat": 4,
  "nbformat_minor": 0,
  "metadata": {
    "colab": {
      "provenance": [],
      "authorship_tag": "ABX9TyOyxnvuWywVpu55eNZC1Jzp",
      "include_colab_link": true
    },
    "kernelspec": {
      "name": "python3",
      "display_name": "Python 3"
    },
    "language_info": {
      "name": "python"
    }
  },
  "cells": [
    {
      "cell_type": "markdown",
      "metadata": {
        "id": "view-in-github",
        "colab_type": "text"
      },
      "source": [
        "<a href=\"https://colab.research.google.com/github/alexbrun01/httpsM01--Introdu-o-ao-Python-com-Aplica-es-de-Mercado-Financeiro/blob/main/M01_Introdu%C3%A7%C3%A3o_ao_Python_com_Aplica%C3%A7%C3%B5es_de_Mercado_Financeiro.ipynb\" target=\"_parent\"><img src=\"https://colab.research.google.com/assets/colab-badge.svg\" alt=\"Open In Colab\"/></a>"
      ]
    },
    {
      "cell_type": "markdown",
      "source": [
        "# Introdução ao Python "
      ],
      "metadata": {
        "id": "MR2h3TX14cZl"
      }
    },
    {
      "cell_type": "code",
      "source": [
        "a = 2 "
      ],
      "metadata": {
        "id": "x5ucMIyl5fzQ"
      },
      "execution_count": null,
      "outputs": []
    },
    {
      "cell_type": "code",
      "source": [
        "b = 3 "
      ],
      "metadata": {
        "id": "ewYE_NPg58AD"
      },
      "execution_count": null,
      "outputs": []
    },
    {
      "cell_type": "code",
      "source": [
        "a + b "
      ],
      "metadata": {
        "colab": {
          "base_uri": "https://localhost:8080/"
        },
        "id": "-_oisqsE596k",
        "outputId": "e085a194-ec09-4922-e19b-c02648efb0df"
      },
      "execution_count": null,
      "outputs": [
        {
          "output_type": "execute_result",
          "data": {
            "text/plain": [
              "5"
            ]
          },
          "metadata": {},
          "execution_count": 14
        }
      ]
    },
    {
      "cell_type": "markdown",
      "source": [
        "Para apagar uma celula ' Ctrl + M + D '"
      ],
      "metadata": {
        "id": "NDrvIS565_68"
      }
    },
    {
      "cell_type": "markdown",
      "source": [
        "## 0 Hello Word "
      ],
      "metadata": {
        "id": "rGMyiB2D6UKI"
      }
    },
    {
      "cell_type": "code",
      "source": [
        "print('Hello word')"
      ],
      "metadata": {
        "colab": {
          "base_uri": "https://localhost:8080/"
        },
        "id": "KpEuOE4L6g7b",
        "outputId": "24639ed8-7b20-432f-ba55-7f0ba1598379"
      },
      "execution_count": null,
      "outputs": [
        {
          "output_type": "stream",
          "name": "stdout",
          "text": [
            "Hello word\n"
          ]
        }
      ]
    },
    {
      "cell_type": "markdown",
      "source": [
        "## Variaveis VS Objetos "
      ],
      "metadata": {
        "id": "qK1nxgnM-dth"
      }
    },
    {
      "cell_type": "markdown",
      "source": [
        "\"para todos os efeitos variaveis e objetos são a mesma coisa. Porém na pratica são entidades diferentes\""
      ],
      "metadata": {
        "id": "Rgs06LYqAc0l"
      }
    },
    {
      "cell_type": "markdown",
      "source": [
        "Objetos são como alimentos propriamente ditos, pos ocupam um lugar na memoria, em outras palavras é aquilo que a gente quer salvar na memoria "
      ],
      "metadata": {
        "id": "hbyHdvqpBKdB"
      }
    },
    {
      "cell_type": "markdown",
      "source": [
        "  Variavel é aquilo que aponta para o objeto, a variavel é responsavel por nos mostrar e mostrar a maquina onde esta localizado o objeto e as suas caracteristicas como memoria, o quanto ele consome e ETC"
      ],
      "metadata": {
        "id": "rRU_cTTIBi22"
      }
    },
    {
      "cell_type": "markdown",
      "source": [
        "### 1.1. Tipos de Variáveis "
      ],
      "metadata": {
        "id": "D4CI6Ri77PlB"
      }
    },
    {
      "cell_type": "markdown",
      "source": [
        "Int: 1 (Numeros inteiros)\n",
        "\n",
        "Float: 1.45854 (universo dos numeros reais )\n",
        "\n",
        "String: 'banana' ( Tipo Texto )\n",
        "\n",
        "boolean: true or false"
      ],
      "metadata": {
        "id": "eTTJLzyL8icf"
      }
    },
    {
      "cell_type": "markdown",
      "source": [
        "OBS: Para criar um variavel, basta criar uma alocação na memoria do Pyton "
      ],
      "metadata": {
        "id": "E5k2NzWX8km4"
      }
    },
    {
      "cell_type": "code",
      "source": [
        "a = 3"
      ],
      "metadata": {
        "id": "cfdKeXnd9ygj"
      },
      "execution_count": null,
      "outputs": []
    },
    {
      "cell_type": "code",
      "source": [
        "b = 2"
      ],
      "metadata": {
        "id": "-S5Jx6Uu-FWN"
      },
      "execution_count": null,
      "outputs": []
    },
    {
      "cell_type": "code",
      "source": [
        "pi = 3.14"
      ],
      "metadata": {
        "id": "2kdF6afJ-GmH"
      },
      "execution_count": null,
      "outputs": []
    },
    {
      "cell_type": "code",
      "source": [
        "juros = 3.25"
      ],
      "metadata": {
        "id": "SdvMonQO-RIN"
      },
      "execution_count": null,
      "outputs": []
    },
    {
      "cell_type": "code",
      "source": [
        "type (a)"
      ],
      "metadata": {
        "colab": {
          "base_uri": "https://localhost:8080/"
        },
        "id": "4-0os8jH-VwO",
        "outputId": "10936d94-1464-45dc-c48e-bbefd75b8143"
      },
      "execution_count": null,
      "outputs": [
        {
          "output_type": "execute_result",
          "data": {
            "text/plain": [
              "int"
            ]
          },
          "metadata": {},
          "execution_count": 20
        }
      ]
    },
    {
      "cell_type": "code",
      "source": [
        "type (pi)"
      ],
      "metadata": {
        "colab": {
          "base_uri": "https://localhost:8080/"
        },
        "id": "stCpq0BY-dcp",
        "outputId": "30bed6c0-cdcc-49a4-b40c-5b0d58eec7f2"
      },
      "execution_count": null,
      "outputs": [
        {
          "output_type": "execute_result",
          "data": {
            "text/plain": [
              "float"
            ]
          },
          "metadata": {},
          "execution_count": 21
        }
      ]
    },
    {
      "cell_type": "code",
      "source": [
        "nome = 'Alexandre'"
      ],
      "metadata": {
        "id": "1PrnK54Y-hy0"
      },
      "execution_count": null,
      "outputs": []
    },
    {
      "cell_type": "code",
      "source": [
        "nome "
      ],
      "metadata": {
        "colab": {
          "base_uri": "https://localhost:8080/",
          "height": 35
        },
        "id": "jXLu1UZ-_cpc",
        "outputId": "d8e98475-8fce-4c51-9f07-a9f09eda4487"
      },
      "execution_count": null,
      "outputs": [
        {
          "output_type": "execute_result",
          "data": {
            "text/plain": [
              "'Alexandre'"
            ],
            "application/vnd.google.colaboratory.intrinsic+json": {
              "type": "string"
            }
          },
          "metadata": {},
          "execution_count": 23
        }
      ]
    },
    {
      "cell_type": "code",
      "source": [
        "type (nome)"
      ],
      "metadata": {
        "colab": {
          "base_uri": "https://localhost:8080/"
        },
        "id": "h4s6LFNV_gNX",
        "outputId": "b187d4b5-7983-409c-ca9f-171ab24bd509"
      },
      "execution_count": null,
      "outputs": [
        {
          "output_type": "execute_result",
          "data": {
            "text/plain": [
              "str"
            ]
          },
          "metadata": {},
          "execution_count": 24
        }
      ]
    },
    {
      "cell_type": "code",
      "source": [
        "a == b "
      ],
      "metadata": {
        "colab": {
          "base_uri": "https://localhost:8080/"
        },
        "id": "FQWXqdk7_sjE",
        "outputId": "376a2aad-1f18-4e51-913a-840d03258819"
      },
      "execution_count": null,
      "outputs": [
        {
          "output_type": "execute_result",
          "data": {
            "text/plain": [
              "False"
            ]
          },
          "metadata": {},
          "execution_count": 25
        }
      ]
    },
    {
      "cell_type": "code",
      "source": [
        "e = 5"
      ],
      "metadata": {
        "id": "-5gLBTd6_0MH"
      },
      "execution_count": null,
      "outputs": []
    },
    {
      "cell_type": "code",
      "source": [
        "f = 5"
      ],
      "metadata": {
        "id": "zWktU6lDAFpk"
      },
      "execution_count": null,
      "outputs": []
    },
    {
      "cell_type": "code",
      "source": [
        "teste = e == f"
      ],
      "metadata": {
        "id": "H4CecMwWAGrJ"
      },
      "execution_count": null,
      "outputs": []
    },
    {
      "cell_type": "code",
      "source": [
        "type (teste)"
      ],
      "metadata": {
        "colab": {
          "base_uri": "https://localhost:8080/"
        },
        "id": "iHBeubX3AIAI",
        "outputId": "d902911a-04b4-45e7-ca1a-8d5eaa2c8cae"
      },
      "execution_count": null,
      "outputs": [
        {
          "output_type": "execute_result",
          "data": {
            "text/plain": [
              "bool"
            ]
          },
          "metadata": {},
          "execution_count": 29
        }
      ]
    },
    {
      "cell_type": "markdown",
      "source": [
        "## 2.0. operações matematicas com números "
      ],
      "metadata": {
        "id": "c-eUgm9uATZ2"
      }
    },
    {
      "cell_type": "markdown",
      "source": [
        "* soma +\n",
        "\n",
        "* subitração -\n",
        "\n",
        "* Multiplicação *\n",
        "\n",
        "* Divisão /\n",
        "\n",
        "* Divisão apenas nuemros inteiros //\n",
        "\n",
        "* Potência ** \n",
        "\n",
        "* Resto das divisões %"
      ],
      "metadata": {
        "id": "QGBf5412Gz3g"
      }
    },
    {
      "cell_type": "code",
      "source": [
        "c = a + b "
      ],
      "metadata": {
        "id": "O9qzJ0PrX3Ij"
      },
      "execution_count": null,
      "outputs": []
    },
    {
      "cell_type": "code",
      "source": [
        "c"
      ],
      "metadata": {
        "colab": {
          "base_uri": "https://localhost:8080/"
        },
        "id": "AAcy0EH0X4qm",
        "outputId": "3839d762-ef00-47e2-ba3e-0a648bc52aa8"
      },
      "execution_count": null,
      "outputs": [
        {
          "output_type": "execute_result",
          "data": {
            "text/plain": [
              "5"
            ]
          },
          "metadata": {},
          "execution_count": 31
        }
      ]
    },
    {
      "cell_type": "code",
      "source": [
        "b - a "
      ],
      "metadata": {
        "colab": {
          "base_uri": "https://localhost:8080/"
        },
        "id": "VGqGq9YlYJvV",
        "outputId": "a021799f-cc3c-42fc-9c74-bddbfdbee414"
      },
      "execution_count": null,
      "outputs": [
        {
          "output_type": "execute_result",
          "data": {
            "text/plain": [
              "-1"
            ]
          },
          "metadata": {},
          "execution_count": 32
        }
      ]
    },
    {
      "cell_type": "code",
      "source": [
        "c - b"
      ],
      "metadata": {
        "colab": {
          "base_uri": "https://localhost:8080/"
        },
        "id": "nHbUzLzMYP8K",
        "outputId": "d87b775d-003a-49a4-84b9-cde04e8d8ff2"
      },
      "execution_count": null,
      "outputs": [
        {
          "output_type": "execute_result",
          "data": {
            "text/plain": [
              "3"
            ]
          },
          "metadata": {},
          "execution_count": 33
        }
      ]
    },
    {
      "cell_type": "code",
      "source": [
        "5 * 3 "
      ],
      "metadata": {
        "colab": {
          "base_uri": "https://localhost:8080/"
        },
        "id": "dAVDO2NIYRX_",
        "outputId": "3e254c55-9a77-4b44-85fd-5f6def444e06"
      },
      "execution_count": null,
      "outputs": [
        {
          "output_type": "execute_result",
          "data": {
            "text/plain": [
              "15"
            ]
          },
          "metadata": {},
          "execution_count": 34
        }
      ]
    },
    {
      "cell_type": "code",
      "source": [
        "pi * juros"
      ],
      "metadata": {
        "colab": {
          "base_uri": "https://localhost:8080/"
        },
        "id": "R1av1FUQYZZn",
        "outputId": "b56a01a3-e040-49c2-cc77-08e83aec6d1c"
      },
      "execution_count": null,
      "outputs": [
        {
          "output_type": "execute_result",
          "data": {
            "text/plain": [
              "10.205"
            ]
          },
          "metadata": {},
          "execution_count": 35
        }
      ]
    },
    {
      "cell_type": "code",
      "source": [
        "razão = juros/ pi "
      ],
      "metadata": {
        "id": "SEMGG3jHYgvr"
      },
      "execution_count": null,
      "outputs": []
    },
    {
      "cell_type": "code",
      "source": [
        "razão"
      ],
      "metadata": {
        "colab": {
          "base_uri": "https://localhost:8080/"
        },
        "id": "tOdhkFS7YnDp",
        "outputId": "72e45dd6-1ba2-49e4-822a-831b713c147d"
      },
      "execution_count": null,
      "outputs": [
        {
          "output_type": "execute_result",
          "data": {
            "text/plain": [
              "1.0350318471337578"
            ]
          },
          "metadata": {},
          "execution_count": 37
        }
      ]
    },
    {
      "cell_type": "code",
      "source": [
        "10/4"
      ],
      "metadata": {
        "colab": {
          "base_uri": "https://localhost:8080/"
        },
        "id": "RKxfGJkDY0Cn",
        "outputId": "a44fa777-6064-47ee-ed8d-7a2c8efd6193"
      },
      "execution_count": null,
      "outputs": [
        {
          "output_type": "execute_result",
          "data": {
            "text/plain": [
              "2.5"
            ]
          },
          "metadata": {},
          "execution_count": 38
        }
      ]
    },
    {
      "cell_type": "code",
      "source": [
        "10 // 5"
      ],
      "metadata": {
        "colab": {
          "base_uri": "https://localhost:8080/"
        },
        "id": "e8tR28lrY19S",
        "outputId": "2407f390-1351-4c2f-e752-42b10a13a5ae"
      },
      "execution_count": null,
      "outputs": [
        {
          "output_type": "execute_result",
          "data": {
            "text/plain": [
              "2"
            ]
          },
          "metadata": {},
          "execution_count": 39
        }
      ]
    },
    {
      "cell_type": "code",
      "source": [
        "10**5"
      ],
      "metadata": {
        "colab": {
          "base_uri": "https://localhost:8080/"
        },
        "id": "b_cQsdQwY4wf",
        "outputId": "3efbba71-b1d8-4af1-87ce-c90db9cc4475"
      },
      "execution_count": null,
      "outputs": [
        {
          "output_type": "execute_result",
          "data": {
            "text/plain": [
              "100000"
            ]
          },
          "metadata": {},
          "execution_count": 40
        }
      ]
    },
    {
      "cell_type": "code",
      "source": [
        "2**3"
      ],
      "metadata": {
        "colab": {
          "base_uri": "https://localhost:8080/"
        },
        "id": "lta7Zrh8ZANJ",
        "outputId": "2ec5e485-c65b-4ee0-b13a-d306581b19fd"
      },
      "execution_count": null,
      "outputs": [
        {
          "output_type": "execute_result",
          "data": {
            "text/plain": [
              "8"
            ]
          },
          "metadata": {},
          "execution_count": 41
        }
      ]
    },
    {
      "cell_type": "code",
      "source": [
        "2**10"
      ],
      "metadata": {
        "colab": {
          "base_uri": "https://localhost:8080/"
        },
        "id": "3asR9L4VZKwr",
        "outputId": "7e5f7048-7dee-44fe-fdca-731ddf7f7e62"
      },
      "execution_count": null,
      "outputs": [
        {
          "output_type": "execute_result",
          "data": {
            "text/plain": [
              "1024"
            ]
          },
          "metadata": {},
          "execution_count": 42
        }
      ]
    },
    {
      "cell_type": "code",
      "source": [
        "7%4"
      ],
      "metadata": {
        "colab": {
          "base_uri": "https://localhost:8080/"
        },
        "id": "5_LRWsZ6ZOzn",
        "outputId": "566b17fa-5f38-478e-9e64-1848da7e4c4d"
      },
      "execution_count": null,
      "outputs": [
        {
          "output_type": "execute_result",
          "data": {
            "text/plain": [
              "3"
            ]
          },
          "metadata": {},
          "execution_count": 43
        }
      ]
    },
    {
      "cell_type": "markdown",
      "source": [
        "## 3.0 Operadores Lógicos "
      ],
      "metadata": {
        "id": "QEEuoqGTZRNd"
      }
    },
    {
      "cell_type": "markdown",
      "source": [
        "* Igualdade ==\n",
        "\n",
        "* Difrença !=\n",
        "\n",
        "* Menor <\n",
        "\n",
        "* Maior >\n",
        "\n",
        "* Menor igual <=\n",
        "\n",
        "* Maior Igual >="
      ],
      "metadata": {
        "id": "OZot86SYZtJh"
      }
    },
    {
      "cell_type": "code",
      "source": [
        "a != b "
      ],
      "metadata": {
        "colab": {
          "base_uri": "https://localhost:8080/"
        },
        "id": "0h17CrIzaMn6",
        "outputId": "a0c3e7f8-99b1-40cd-872c-8ef5926b2701"
      },
      "execution_count": null,
      "outputs": [
        {
          "output_type": "execute_result",
          "data": {
            "text/plain": [
              "True"
            ]
          },
          "metadata": {},
          "execution_count": 44
        }
      ]
    },
    {
      "cell_type": "code",
      "source": [
        "e != f"
      ],
      "metadata": {
        "colab": {
          "base_uri": "https://localhost:8080/"
        },
        "id": "g5zFJiaVaUr0",
        "outputId": "09333717-f94b-418d-ad35-74851a246d62"
      },
      "execution_count": null,
      "outputs": [
        {
          "output_type": "execute_result",
          "data": {
            "text/plain": [
              "False"
            ]
          },
          "metadata": {},
          "execution_count": 45
        }
      ]
    },
    {
      "cell_type": "code",
      "source": [
        "e < f"
      ],
      "metadata": {
        "colab": {
          "base_uri": "https://localhost:8080/"
        },
        "id": "wqxSZlvGaYk1",
        "outputId": "b8e1a82a-2694-4259-b147-6f650fab835f"
      },
      "execution_count": null,
      "outputs": [
        {
          "output_type": "execute_result",
          "data": {
            "text/plain": [
              "False"
            ]
          },
          "metadata": {},
          "execution_count": 46
        }
      ]
    },
    {
      "cell_type": "code",
      "source": [
        "e > f "
      ],
      "metadata": {
        "colab": {
          "base_uri": "https://localhost:8080/"
        },
        "id": "ibID1lZyacEr",
        "outputId": "ed717ba6-b094-49a0-a474-1bde40b4248d"
      },
      "execution_count": null,
      "outputs": [
        {
          "output_type": "execute_result",
          "data": {
            "text/plain": [
              "False"
            ]
          },
          "metadata": {},
          "execution_count": 47
        }
      ]
    },
    {
      "cell_type": "code",
      "source": [
        "e == f "
      ],
      "metadata": {
        "colab": {
          "base_uri": "https://localhost:8080/"
        },
        "id": "bqL4eoYoafIY",
        "outputId": "bc733a53-378e-4c51-ea56-a1a109abedb0"
      },
      "execution_count": null,
      "outputs": [
        {
          "output_type": "execute_result",
          "data": {
            "text/plain": [
              "True"
            ]
          },
          "metadata": {},
          "execution_count": 48
        }
      ]
    },
    {
      "cell_type": "code",
      "source": [
        "a < b "
      ],
      "metadata": {
        "colab": {
          "base_uri": "https://localhost:8080/"
        },
        "id": "ydIDDLjvagiq",
        "outputId": "4cb6c353-55d1-4664-94b2-00dc1efffeb1"
      },
      "execution_count": null,
      "outputs": [
        {
          "output_type": "execute_result",
          "data": {
            "text/plain": [
              "False"
            ]
          },
          "metadata": {},
          "execution_count": 49
        }
      ]
    },
    {
      "cell_type": "code",
      "source": [
        "a > b "
      ],
      "metadata": {
        "colab": {
          "base_uri": "https://localhost:8080/"
        },
        "id": "Wf2vd8JLaiFF",
        "outputId": "b409aa2e-05bc-422f-fbd6-88b0043287aa"
      },
      "execution_count": null,
      "outputs": [
        {
          "output_type": "execute_result",
          "data": {
            "text/plain": [
              "True"
            ]
          },
          "metadata": {},
          "execution_count": 50
        }
      ]
    },
    {
      "cell_type": "code",
      "source": [
        "nome1 = 'João da silva Ribeiro'\n",
        "nome2 = 'José Andrade '"
      ],
      "metadata": {
        "id": "kLm6HY1hajXd"
      },
      "execution_count": null,
      "outputs": []
    },
    {
      "cell_type": "code",
      "source": [
        "nome1 == nome2 "
      ],
      "metadata": {
        "colab": {
          "base_uri": "https://localhost:8080/"
        },
        "id": "Nj1U63Gwa6H8",
        "outputId": "fef16458-619d-47ed-cffa-cca29590baee"
      },
      "execution_count": null,
      "outputs": [
        {
          "output_type": "execute_result",
          "data": {
            "text/plain": [
              "False"
            ]
          },
          "metadata": {},
          "execution_count": 52
        }
      ]
    },
    {
      "cell_type": "code",
      "source": [
        "Papel1 = 'PETR4'\n",
        "Papel2 = 'PETR4'"
      ],
      "metadata": {
        "id": "NQf-OGX8bLcK"
      },
      "execution_count": null,
      "outputs": []
    },
    {
      "cell_type": "code",
      "source": [
        "Papel1 == Papel2"
      ],
      "metadata": {
        "colab": {
          "base_uri": "https://localhost:8080/"
        },
        "id": "nxzaubL7belg",
        "outputId": "9c2404d4-cc9d-4cc0-8101-2e50baeb5fb9"
      },
      "execution_count": null,
      "outputs": [
        {
          "output_type": "execute_result",
          "data": {
            "text/plain": [
              "True"
            ]
          },
          "metadata": {},
          "execution_count": 54
        }
      ]
    },
    {
      "cell_type": "markdown",
      "source": [
        "## 3.1 Operadores Condicionais "
      ],
      "metadata": {
        "id": "ud6EXYQK0w-J"
      }
    },
    {
      "cell_type": "code",
      "source": [
        "1 > 2 "
      ],
      "metadata": {
        "colab": {
          "base_uri": "https://localhost:8080/"
        },
        "id": "rcfmww4X068_",
        "outputId": "3b00d5ea-9bde-470e-b781-a144da16b138"
      },
      "execution_count": null,
      "outputs": [
        {
          "output_type": "execute_result",
          "data": {
            "text/plain": [
              "False"
            ]
          },
          "metadata": {},
          "execution_count": 33
        }
      ]
    },
    {
      "cell_type": "code",
      "source": [
        "2 > 3"
      ],
      "metadata": {
        "colab": {
          "base_uri": "https://localhost:8080/"
        },
        "id": "ZX3IOhyv1OQt",
        "outputId": "b807e42b-a580-4ff3-bccb-bbff7af7b123"
      },
      "execution_count": null,
      "outputs": [
        {
          "output_type": "execute_result",
          "data": {
            "text/plain": [
              "False"
            ]
          },
          "metadata": {},
          "execution_count": 34
        }
      ]
    },
    {
      "cell_type": "code",
      "source": [
        "1 > 2 and 2 > 3  "
      ],
      "metadata": {
        "colab": {
          "base_uri": "https://localhost:8080/"
        },
        "id": "KA5D5z4h1RzB",
        "outputId": "5b621e03-46e7-4b82-9538-063031e2eec5"
      },
      "execution_count": null,
      "outputs": [
        {
          "output_type": "execute_result",
          "data": {
            "text/plain": [
              "False"
            ]
          },
          "metadata": {},
          "execution_count": 35
        }
      ]
    },
    {
      "cell_type": "code",
      "source": [
        "1 > 2 or 2 > 3  "
      ],
      "metadata": {
        "colab": {
          "base_uri": "https://localhost:8080/"
        },
        "id": "NaaqsRem1cv6",
        "outputId": "1f8343a6-ed49-461b-d6fc-12fbbd7ab6b3"
      },
      "execution_count": null,
      "outputs": [
        {
          "output_type": "execute_result",
          "data": {
            "text/plain": [
              "False"
            ]
          },
          "metadata": {},
          "execution_count": 36
        }
      ]
    },
    {
      "cell_type": "code",
      "source": [
        "1 > 2 or 2 < 3  "
      ],
      "metadata": {
        "colab": {
          "base_uri": "https://localhost:8080/"
        },
        "id": "FpiQNymD1ule",
        "outputId": "6bebebe7-fe50-4707-ce21-ac9460f2725a"
      },
      "execution_count": null,
      "outputs": [
        {
          "output_type": "execute_result",
          "data": {
            "text/plain": [
              "True"
            ]
          },
          "metadata": {},
          "execution_count": 37
        }
      ]
    },
    {
      "cell_type": "markdown",
      "source": [
        "No caso do uso do 'or', quando uma das sentençãs é verdadeira. A função traz como uma das condições sendo verdadeira "
      ],
      "metadata": {
        "id": "JpGUzi3D2BD4"
      }
    },
    {
      "cell_type": "code",
      "source": [
        "1 > 2 and 2 < 3  "
      ],
      "metadata": {
        "colab": {
          "base_uri": "https://localhost:8080/"
        },
        "id": "y3Z6LtUE2FCj",
        "outputId": "82fb7d09-4623-4821-c1e6-b51073a62544"
      },
      "execution_count": null,
      "outputs": [
        {
          "output_type": "execute_result",
          "data": {
            "text/plain": [
              "False"
            ]
          },
          "metadata": {},
          "execution_count": 38
        }
      ]
    },
    {
      "cell_type": "markdown",
      "source": [
        "O And está pedindo as duas condições ao mesmo tempo, como a primeira condição 1>2, não sendo verdadeira ela cancela toda a operação logica.  "
      ],
      "metadata": {
        "id": "CRBZkOM72i94"
      }
    },
    {
      "cell_type": "code",
      "source": [],
      "metadata": {
        "id": "-pbcUHIt4P7V"
      },
      "execution_count": null,
      "outputs": []
    },
    {
      "cell_type": "markdown",
      "source": [
        "## 4.0 Manipulação de Strings "
      ],
      "metadata": {
        "id": "ASbpQEeZcAt9"
      }
    },
    {
      "cell_type": "code",
      "source": [
        "manchete = \"Ibovespa sobe 1,10% e supera os 114 mil pontos pela primeira vez no ano, com fluxo estrangeiro; dólar cai 1,22%\""
      ],
      "metadata": {
        "id": "-yW13ZwSciho"
      },
      "execution_count": null,
      "outputs": []
    },
    {
      "cell_type": "code",
      "source": [
        "manchete "
      ],
      "metadata": {
        "colab": {
          "base_uri": "https://localhost:8080/",
          "height": 35
        },
        "id": "LWf-hdlbc6kb",
        "outputId": "1b628ac0-c8cc-4ab3-b698-ec275fccd209"
      },
      "execution_count": null,
      "outputs": [
        {
          "output_type": "execute_result",
          "data": {
            "text/plain": [
              "'Ibovespa sobe 1,10% e supera os 114 mil pontos pela primeira vez no ano, com fluxo estrangeiro; dólar cai 1,22%'"
            ],
            "application/vnd.google.colaboratory.intrinsic+json": {
              "type": "string"
            }
          },
          "metadata": {},
          "execution_count": 56
        }
      ]
    },
    {
      "cell_type": "code",
      "source": [
        "type(manchete)"
      ],
      "metadata": {
        "colab": {
          "base_uri": "https://localhost:8080/"
        },
        "id": "4mzFVw2Ac_oh",
        "outputId": "3f43e35a-9003-4f7b-bb53-5e50236abdd0"
      },
      "execution_count": null,
      "outputs": [
        {
          "output_type": "execute_result",
          "data": {
            "text/plain": [
              "str"
            ]
          },
          "metadata": {},
          "execution_count": 57
        }
      ]
    },
    {
      "cell_type": "code",
      "source": [
        "len(manchete)"
      ],
      "metadata": {
        "colab": {
          "base_uri": "https://localhost:8080/"
        },
        "id": "h7w39BaPdByc",
        "outputId": "5b068e15-765f-4880-f26d-f091ace46325"
      },
      "execution_count": null,
      "outputs": [
        {
          "output_type": "execute_result",
          "data": {
            "text/plain": [
              "111"
            ]
          },
          "metadata": {},
          "execution_count": 58
        }
      ]
    },
    {
      "cell_type": "code",
      "source": [
        "manchete[0]"
      ],
      "metadata": {
        "colab": {
          "base_uri": "https://localhost:8080/",
          "height": 35
        },
        "id": "_OWQ8OdBdJCo",
        "outputId": "188bc8c7-d23d-41c2-ad63-82ef5d92fc41"
      },
      "execution_count": null,
      "outputs": [
        {
          "output_type": "execute_result",
          "data": {
            "text/plain": [
              "'I'"
            ],
            "application/vnd.google.colaboratory.intrinsic+json": {
              "type": "string"
            }
          },
          "metadata": {},
          "execution_count": 59
        }
      ]
    },
    {
      "cell_type": "code",
      "source": [
        "manchete[5]"
      ],
      "metadata": {
        "colab": {
          "base_uri": "https://localhost:8080/",
          "height": 35
        },
        "id": "ujp_Tj20diK8",
        "outputId": "8b0003d6-bc7c-4c37-d005-2d15e664f04e"
      },
      "execution_count": null,
      "outputs": [
        {
          "output_type": "execute_result",
          "data": {
            "text/plain": [
              "'s'"
            ],
            "application/vnd.google.colaboratory.intrinsic+json": {
              "type": "string"
            }
          },
          "metadata": {},
          "execution_count": 60
        }
      ]
    },
    {
      "cell_type": "code",
      "source": [
        "manchete[0:71]"
      ],
      "metadata": {
        "colab": {
          "base_uri": "https://localhost:8080/",
          "height": 35
        },
        "id": "GG-7pCa3dq8P",
        "outputId": "5588bcff-14a2-471e-e5af-dd1bf63ab200"
      },
      "execution_count": null,
      "outputs": [
        {
          "output_type": "execute_result",
          "data": {
            "text/plain": [
              "'Ibovespa sobe 1,10% e supera os 114 mil pontos pela primeira vez no ano'"
            ],
            "application/vnd.google.colaboratory.intrinsic+json": {
              "type": "string"
            }
          },
          "metadata": {},
          "execution_count": 61
        }
      ]
    },
    {
      "cell_type": "code",
      "source": [
        "manchete1 = \"VALE3: A ação preferida do momento \""
      ],
      "metadata": {
        "id": "Jd2tFNOXd62Z"
      },
      "execution_count": null,
      "outputs": []
    },
    {
      "cell_type": "code",
      "source": [
        "len (manchete1)"
      ],
      "metadata": {
        "colab": {
          "base_uri": "https://localhost:8080/"
        },
        "id": "_dzsW8iWehyC",
        "outputId": "cb4716e5-895f-4769-c7d1-037107044f10"
      },
      "execution_count": null,
      "outputs": [
        {
          "output_type": "execute_result",
          "data": {
            "text/plain": [
              "35"
            ]
          },
          "metadata": {},
          "execution_count": 63
        }
      ]
    },
    {
      "cell_type": "code",
      "source": [
        "manchete1 [0:5] "
      ],
      "metadata": {
        "colab": {
          "base_uri": "https://localhost:8080/",
          "height": 35
        },
        "id": "MWpBHcDQe2Mr",
        "outputId": "3665ebe0-7228-4bf6-de65-c4b790e869b9"
      },
      "execution_count": null,
      "outputs": [
        {
          "output_type": "execute_result",
          "data": {
            "text/plain": [
              "'VALE3'"
            ],
            "application/vnd.google.colaboratory.intrinsic+json": {
              "type": "string"
            }
          },
          "metadata": {},
          "execution_count": 64
        }
      ]
    },
    {
      "cell_type": "code",
      "source": [
        "Ação_do_momento = manchete1 [0:5] "
      ],
      "metadata": {
        "id": "HjtpgbBFe_EU"
      },
      "execution_count": null,
      "outputs": []
    },
    {
      "cell_type": "code",
      "source": [
        "print(Ação_do_momento)"
      ],
      "metadata": {
        "colab": {
          "base_uri": "https://localhost:8080/"
        },
        "id": "qDoKaf8XffgR",
        "outputId": "0ee9fa6c-a166-4f61-97bc-61f7495d2090"
      },
      "execution_count": null,
      "outputs": [
        {
          "output_type": "stream",
          "name": "stdout",
          "text": [
            "VALE3\n"
          ]
        }
      ]
    },
    {
      "cell_type": "code",
      "source": [
        "manchete[6:-11]"
      ],
      "metadata": {
        "colab": {
          "base_uri": "https://localhost:8080/",
          "height": 35
        },
        "id": "MwbWhvFAfl9T",
        "outputId": "541acf59-3db8-4dbb-b3b1-682b56f38579"
      },
      "execution_count": null,
      "outputs": [
        {
          "output_type": "execute_result",
          "data": {
            "text/plain": [
              "'pa sobe 1,10% e supera os 114 mil pontos pela primeira vez no ano, com fluxo estrangeiro; dóla'"
            ],
            "application/vnd.google.colaboratory.intrinsic+json": {
              "type": "string"
            }
          },
          "metadata": {},
          "execution_count": 67
        }
      ]
    },
    {
      "cell_type": "code",
      "source": [
        "manchete[0::2]"
      ],
      "metadata": {
        "colab": {
          "base_uri": "https://localhost:8080/",
          "height": 35
        },
        "id": "Fe1b2Qe-f543",
        "outputId": "547ea121-931b-40bf-954f-cb83f19f7d36"
      },
      "execution_count": null,
      "outputs": [
        {
          "output_type": "execute_result",
          "data": {
            "text/plain": [
              "'Ioep oe11%espr s14mlpno eapier e oao o lx srner;dlrci12%'"
            ],
            "application/vnd.google.colaboratory.intrinsic+json": {
              "type": "string"
            }
          },
          "metadata": {},
          "execution_count": 68
        }
      ]
    },
    {
      "cell_type": "code",
      "source": [
        "manchete[::-1]"
      ],
      "metadata": {
        "colab": {
          "base_uri": "https://localhost:8080/",
          "height": 35
        },
        "id": "aWXEzwmrgjQf",
        "outputId": "dd97e191-a941-40d4-9f36-7d8a20eee677"
      },
      "execution_count": null,
      "outputs": [
        {
          "output_type": "execute_result",
          "data": {
            "text/plain": [
              "'%22,1 iac ralód ;oriegnartse oxulf moc ,ona on zev ariemirp alep sotnop lim 411 so arepus e %01,1 ebos apsevobI'"
            ],
            "application/vnd.google.colaboratory.intrinsic+json": {
              "type": "string"
            }
          },
          "metadata": {},
          "execution_count": 69
        }
      ]
    },
    {
      "cell_type": "markdown",
      "source": [
        "Propriedades das strings\n",
        "* Imutabilidade \n",
        "\n",
        "* Adição \n",
        "\n",
        "* Modificação de upper e lower case  ( maiusculo ou minusculo )"
      ],
      "metadata": {
        "id": "Fo5ZJj_thgla"
      }
    },
    {
      "cell_type": "code",
      "source": [
        "manchete "
      ],
      "metadata": {
        "colab": {
          "base_uri": "https://localhost:8080/",
          "height": 35
        },
        "id": "PsqO94aEiQSC",
        "outputId": "e3b79140-67db-4afe-9665-fd05285a8d90"
      },
      "execution_count": null,
      "outputs": [
        {
          "output_type": "execute_result",
          "data": {
            "text/plain": [
              "'Ibovespa sobe 1,10% e supera os 114 mil pontos pela primeira vez no ano, com fluxo estrangeiro; dólar cai 1,22%'"
            ],
            "application/vnd.google.colaboratory.intrinsic+json": {
              "type": "string"
            }
          },
          "metadata": {},
          "execution_count": 70
        }
      ]
    },
    {
      "cell_type": "code",
      "source": [
        "manchete[0:5]"
      ],
      "metadata": {
        "colab": {
          "base_uri": "https://localhost:8080/",
          "height": 35
        },
        "id": "3HucGtpQiRfm",
        "outputId": "369953eb-bb96-4504-d0e3-2171a44f5f80"
      },
      "execution_count": null,
      "outputs": [
        {
          "output_type": "execute_result",
          "data": {
            "text/plain": [
              "'Ibove'"
            ],
            "application/vnd.google.colaboratory.intrinsic+json": {
              "type": "string"
            }
          },
          "metadata": {},
          "execution_count": 71
        }
      ]
    },
    {
      "cell_type": "code",
      "source": [
        "manchete + 'por causa da alta do mineiro de Ferro'"
      ],
      "metadata": {
        "colab": {
          "base_uri": "https://localhost:8080/",
          "height": 35
        },
        "id": "QUd57tbribAO",
        "outputId": "5978592b-2c30-43b8-8e46-3135352be371"
      },
      "execution_count": null,
      "outputs": [
        {
          "output_type": "execute_result",
          "data": {
            "text/plain": [
              "'Ibovespa sobe 1,10% e supera os 114 mil pontos pela primeira vez no ano, com fluxo estrangeiro; dólar cai 1,22%por causa da alta do mineiro de Ferro'"
            ],
            "application/vnd.google.colaboratory.intrinsic+json": {
              "type": "string"
            }
          },
          "metadata": {},
          "execution_count": 72
        }
      ]
    },
    {
      "cell_type": "code",
      "source": [
        "razão = 'por causa da alta do mineiro de Ferro'"
      ],
      "metadata": {
        "id": "6rONfsLYivI5"
      },
      "execution_count": null,
      "outputs": []
    },
    {
      "cell_type": "code",
      "source": [
        "manchete + razão"
      ],
      "metadata": {
        "colab": {
          "base_uri": "https://localhost:8080/",
          "height": 35
        },
        "id": "e4FNEVaDjAkA",
        "outputId": "c9dba751-4134-422c-c9b5-165b6505ffc6"
      },
      "execution_count": null,
      "outputs": [
        {
          "output_type": "execute_result",
          "data": {
            "text/plain": [
              "'Ibovespa sobe 1,10% e supera os 114 mil pontos pela primeira vez no ano, com fluxo estrangeiro; dólar cai 1,22%por causa da alta do mineiro de Ferro'"
            ],
            "application/vnd.google.colaboratory.intrinsic+json": {
              "type": "string"
            }
          },
          "metadata": {},
          "execution_count": 74
        }
      ]
    },
    {
      "cell_type": "code",
      "source": [
        "Frase_completa = manchete + razão"
      ],
      "metadata": {
        "id": "VQOmumytjDH2"
      },
      "execution_count": null,
      "outputs": []
    },
    {
      "cell_type": "code",
      "source": [
        "Maiusculo = Frase_completa.upper ()"
      ],
      "metadata": {
        "id": "SMTcdlFzjQvk"
      },
      "execution_count": null,
      "outputs": []
    },
    {
      "cell_type": "code",
      "source": [
        "Maiusculo"
      ],
      "metadata": {
        "colab": {
          "base_uri": "https://localhost:8080/",
          "height": 35
        },
        "id": "InaoalrajYrM",
        "outputId": "749939dd-8e20-46a3-fa70-462c6f590759"
      },
      "execution_count": null,
      "outputs": [
        {
          "output_type": "execute_result",
          "data": {
            "text/plain": [
              "'IBOVESPA SOBE 1,10% E SUPERA OS 114 MIL PONTOS PELA PRIMEIRA VEZ NO ANO, COM FLUXO ESTRANGEIRO; DÓLAR CAI 1,22%POR CAUSA DA ALTA DO MINEIRO DE FERRO'"
            ],
            "application/vnd.google.colaboratory.intrinsic+json": {
              "type": "string"
            }
          },
          "metadata": {},
          "execution_count": 77
        }
      ]
    },
    {
      "cell_type": "code",
      "source": [
        "Maiusculo.lower()"
      ],
      "metadata": {
        "colab": {
          "base_uri": "https://localhost:8080/",
          "height": 35
        },
        "id": "xQIAZJxUjm3x",
        "outputId": "f621d9b1-8701-4fca-885d-bde0da2b666c"
      },
      "execution_count": null,
      "outputs": [
        {
          "output_type": "execute_result",
          "data": {
            "text/plain": [
              "'ibovespa sobe 1,10% e supera os 114 mil pontos pela primeira vez no ano, com fluxo estrangeiro; dólar cai 1,22%por causa da alta do mineiro de ferro'"
            ],
            "application/vnd.google.colaboratory.intrinsic+json": {
              "type": "string"
            }
          },
          "metadata": {},
          "execution_count": 78
        }
      ]
    },
    {
      "cell_type": "code",
      "source": [
        "frase_separada = Frase_completa.split()"
      ],
      "metadata": {
        "id": "y-hbvMgtjxoT"
      },
      "execution_count": null,
      "outputs": []
    },
    {
      "cell_type": "code",
      "source": [
        "frase_separada"
      ],
      "metadata": {
        "colab": {
          "base_uri": "https://localhost:8080/"
        },
        "id": "Q9tJwYQpnWph",
        "outputId": "49316bdd-16b3-400d-db75-530596087482"
      },
      "execution_count": null,
      "outputs": [
        {
          "output_type": "execute_result",
          "data": {
            "text/plain": [
              "['Ibovespa',\n",
              " 'sobe',\n",
              " '1,10%',\n",
              " 'e',\n",
              " 'supera',\n",
              " 'os',\n",
              " '114',\n",
              " 'mil',\n",
              " 'pontos',\n",
              " 'pela',\n",
              " 'primeira',\n",
              " 'vez',\n",
              " 'no',\n",
              " 'ano,',\n",
              " 'com',\n",
              " 'fluxo',\n",
              " 'estrangeiro;',\n",
              " 'dólar',\n",
              " 'cai',\n",
              " '1,22%por',\n",
              " 'causa',\n",
              " 'da',\n",
              " 'alta',\n",
              " 'do',\n",
              " 'mineiro',\n",
              " 'de',\n",
              " 'Ferro']"
            ]
          },
          "metadata": {},
          "execution_count": 80
        }
      ]
    },
    {
      "cell_type": "code",
      "source": [
        "frase_separada[0]"
      ],
      "metadata": {
        "colab": {
          "base_uri": "https://localhost:8080/",
          "height": 35
        },
        "id": "PNcUlvSDnlws",
        "outputId": "b32739ac-7115-4038-d857-5c53ca8b6179"
      },
      "execution_count": null,
      "outputs": [
        {
          "output_type": "execute_result",
          "data": {
            "text/plain": [
              "'Ibovespa'"
            ],
            "application/vnd.google.colaboratory.intrinsic+json": {
              "type": "string"
            }
          },
          "metadata": {},
          "execution_count": 81
        }
      ]
    },
    {
      "cell_type": "code",
      "source": [
        "frase_separada[11]"
      ],
      "metadata": {
        "colab": {
          "base_uri": "https://localhost:8080/",
          "height": 35
        },
        "id": "PloDx2ivnq15",
        "outputId": "051d922d-ca05-42a3-f864-d2948f23d7cf"
      },
      "execution_count": null,
      "outputs": [
        {
          "output_type": "execute_result",
          "data": {
            "text/plain": [
              "'vez'"
            ],
            "application/vnd.google.colaboratory.intrinsic+json": {
              "type": "string"
            }
          },
          "metadata": {},
          "execution_count": 82
        }
      ]
    },
    {
      "cell_type": "markdown",
      "source": [
        "## 5.0 Listas"
      ],
      "metadata": {
        "id": "MlhaanHwnvMI"
      }
    },
    {
      "cell_type": "markdown",
      "source": [
        "Listas possuem propriedades bem parecidas com Srtings, porém não podemos confundir as duas, ate porque String é uma variavel é um tipo de dado em si. Já as listas é um formato para amazenamento de Dados, o que é muito util pois permite colocar qualquer tipo de informações e varios tipos de dados diferentes"
      ],
      "metadata": {
        "id": "oq2n_xPKsF_S"
      }
    },
    {
      "cell_type": "code",
      "source": [
        "nomes = ['André', 'João', 'José']"
      ],
      "metadata": {
        "id": "KRNnXc7ss0MB"
      },
      "execution_count": null,
      "outputs": []
    },
    {
      "cell_type": "code",
      "source": [
        "nomes"
      ],
      "metadata": {
        "colab": {
          "base_uri": "https://localhost:8080/"
        },
        "id": "FPH31rH7tAO-",
        "outputId": "b72b3477-f8db-4bed-f921-dec6d3daae78"
      },
      "execution_count": null,
      "outputs": [
        {
          "output_type": "execute_result",
          "data": {
            "text/plain": [
              "['André', 'João', 'José']"
            ]
          },
          "metadata": {},
          "execution_count": 84
        }
      ]
    },
    {
      "cell_type": "code",
      "source": [
        "type(nomes)"
      ],
      "metadata": {
        "colab": {
          "base_uri": "https://localhost:8080/"
        },
        "id": "EjHpGB3FtEpB",
        "outputId": "46c55b3f-98ad-45d4-d0e3-65a7c69a960e"
      },
      "execution_count": null,
      "outputs": [
        {
          "output_type": "execute_result",
          "data": {
            "text/plain": [
              "list"
            ]
          },
          "metadata": {},
          "execution_count": 85
        }
      ]
    },
    {
      "cell_type": "code",
      "source": [
        "lista_misturada = ['André', 'João', 'José',30, 29, 28]"
      ],
      "metadata": {
        "id": "LKqCEZ8jtH09"
      },
      "execution_count": null,
      "outputs": []
    },
    {
      "cell_type": "code",
      "source": [
        "lista_misturada"
      ],
      "metadata": {
        "colab": {
          "base_uri": "https://localhost:8080/"
        },
        "id": "CeGcKcHFtYCq",
        "outputId": "02fd4248-8ad2-47d7-9e49-6bbe67dbfad9"
      },
      "execution_count": null,
      "outputs": [
        {
          "output_type": "execute_result",
          "data": {
            "text/plain": [
              "['André', 'João', 'José', 30, 29, 28]"
            ]
          },
          "metadata": {},
          "execution_count": 87
        }
      ]
    },
    {
      "cell_type": "markdown",
      "source": [
        "*OBS: note que numeros não se usa aspas, do contrario com a presença de aspas os numeros viram strings. Assim perdendo a capacidade de ser trabalhado matematicamente. "
      ],
      "metadata": {
        "id": "ePl31oLUtbXj"
      }
    },
    {
      "cell_type": "code",
      "source": [
        "'30'+'29'"
      ],
      "metadata": {
        "colab": {
          "base_uri": "https://localhost:8080/",
          "height": 35
        },
        "id": "7F5QI49it6B1",
        "outputId": "337cdcce-d2e4-46ef-d407-0d3cdb85e763"
      },
      "execution_count": null,
      "outputs": [
        {
          "output_type": "execute_result",
          "data": {
            "text/plain": [
              "'3029'"
            ],
            "application/vnd.google.colaboratory.intrinsic+json": {
              "type": "string"
            }
          },
          "metadata": {},
          "execution_count": 88
        }
      ]
    },
    {
      "cell_type": "markdown",
      "source": [
        "Aqui a cima, houve uma concatenação. Isso porque ele entendeu que se trata de um texto "
      ],
      "metadata": {
        "id": "zelzNGFJt8kP"
      }
    },
    {
      "cell_type": "markdown",
      "source": [
        "Listas são indexaveis, só que ao contrario das strings, aqui indexamos os elementos que estão dentro da lista"
      ],
      "metadata": {
        "id": "ZNsHYzEauQGd"
      }
    },
    {
      "cell_type": "code",
      "source": [
        "nomes[0]"
      ],
      "metadata": {
        "colab": {
          "base_uri": "https://localhost:8080/",
          "height": 35
        },
        "id": "SqqdGM-7uebs",
        "outputId": "0bdba44c-afb7-4b81-dc99-021ca0332c28"
      },
      "execution_count": null,
      "outputs": [
        {
          "output_type": "execute_result",
          "data": {
            "text/plain": [
              "'André'"
            ],
            "application/vnd.google.colaboratory.intrinsic+json": {
              "type": "string"
            }
          },
          "metadata": {},
          "execution_count": 89
        }
      ]
    },
    {
      "cell_type": "markdown",
      "source": [
        "Repare que aqui ele trouxe, o primeiro elemento que e o nome Andre, e não a primeira letra "
      ],
      "metadata": {
        "id": "CX0FOkPcuj6y"
      }
    },
    {
      "cell_type": "code",
      "source": [
        "type(lista_misturada)"
      ],
      "metadata": {
        "colab": {
          "base_uri": "https://localhost:8080/"
        },
        "id": "R0LOcfAhU8Gv",
        "outputId": "b1fc20ed-fda8-42c6-9d0e-2f4457aca5d1"
      },
      "execution_count": null,
      "outputs": [
        {
          "output_type": "execute_result",
          "data": {
            "text/plain": [
              "list"
            ]
          },
          "metadata": {},
          "execution_count": 90
        }
      ]
    },
    {
      "cell_type": "code",
      "source": [
        "' os aprovados foram ' + nomes[ 0 ] +  ' e '  +  nomes [ 2 ]"
      ],
      "metadata": {
        "colab": {
          "base_uri": "https://localhost:8080/",
          "height": 35
        },
        "id": "cKAGOzc_VCrP",
        "outputId": "5bb4308b-6cb3-4fe6-bdae-9f7045712378"
      },
      "execution_count": null,
      "outputs": [
        {
          "output_type": "execute_result",
          "data": {
            "text/plain": [
              "' os aprovados foram André e José'"
            ],
            "application/vnd.google.colaboratory.intrinsic+json": {
              "type": "string"
            }
          },
          "metadata": {},
          "execution_count": 91
        }
      ]
    },
    {
      "cell_type": "markdown",
      "source": [
        "'texto dentro de aspas simples, o python reconhece como string', o '+' Operação de string que tem a função de concatenação, tem a função de concaternar o trecho de texto com o outro trecho de texto. No final o retorno dessa função sera uma 'STR'"
      ],
      "metadata": {
        "id": "8cqMRMTwVjuO"
      }
    },
    {
      "cell_type": "code",
      "source": [
        "lista3 = [28,29,30]"
      ],
      "metadata": {
        "id": "78D20a7lXGcO"
      },
      "execution_count": null,
      "outputs": []
    },
    {
      "cell_type": "code",
      "source": [
        "lista3 [0]"
      ],
      "metadata": {
        "colab": {
          "base_uri": "https://localhost:8080/"
        },
        "id": "i0t8rHLfXJwS",
        "outputId": "43cbf987-83ea-47e3-e64a-1d11bdb0e809"
      },
      "execution_count": null,
      "outputs": [
        {
          "output_type": "execute_result",
          "data": {
            "text/plain": [
              "28"
            ]
          },
          "metadata": {},
          "execution_count": 93
        }
      ]
    },
    {
      "cell_type": "markdown",
      "source": [
        "Quando trabalhamos com lista de numeros, não é possivel concatenar eles com strings.\n",
        "\n",
        " EXP:    'A minha idade é ' +  lista3[0]\n",
        "\n",
        "\n",
        "Não sendo assim possivel de concaternar texto com numeros !!\n"
      ],
      "metadata": {
        "id": "KvK9F-UvXR8r"
      }
    },
    {
      "cell_type": "code",
      "source": [
        "lista4 =['28','29','30']"
      ],
      "metadata": {
        "id": "YfeRa3SQX2dY"
      },
      "execution_count": null,
      "outputs": []
    },
    {
      "cell_type": "code",
      "source": [
        "'A minha idade é ' + lista4 [0]"
      ],
      "metadata": {
        "colab": {
          "base_uri": "https://localhost:8080/",
          "height": 35
        },
        "id": "lBlA3piiYOmf",
        "outputId": "8f904026-6d55-4803-81ad-124b55e68afc"
      },
      "execution_count": null,
      "outputs": [
        {
          "output_type": "execute_result",
          "data": {
            "text/plain": [
              "'A minha idade é 28'"
            ],
            "application/vnd.google.colaboratory.intrinsic+json": {
              "type": "string"
            }
          },
          "metadata": {},
          "execution_count": 95
        }
      ]
    },
    {
      "cell_type": "markdown",
      "source": [
        "A lista ela não é passiva de criar novos elementos. Mas podemos substituir elementos já existentes!\n",
        "\n",
        "\n",
        "Exp: lista4 [3] = '31' Exp de erro \n",
        "\n"
      ],
      "metadata": {
        "id": "NdhIHre_YYMH"
      }
    },
    {
      "cell_type": "markdown",
      "source": [
        "Porém é possivel fazer alterações nos elementos dentro de uma lista. Repare como o elemeto [1] da lista4 tinha um valor de 29 e após o novo comando ele passou a ocupar a posição 31 \n"
      ],
      "metadata": {
        "id": "GE7B3YirZced"
      }
    },
    {
      "cell_type": "code",
      "source": [
        "lista4[1] = '31'"
      ],
      "metadata": {
        "id": "IZd2p9r0Zjsb"
      },
      "execution_count": null,
      "outputs": []
    },
    {
      "cell_type": "code",
      "source": [
        "lista4"
      ],
      "metadata": {
        "colab": {
          "base_uri": "https://localhost:8080/"
        },
        "id": "jivVRTorZtdw",
        "outputId": "c1a5b64b-ff4a-4900-f5d7-60723ca94e4a"
      },
      "execution_count": null,
      "outputs": [
        {
          "output_type": "execute_result",
          "data": {
            "text/plain": [
              "['28', '31', '30']"
            ]
          },
          "metadata": {},
          "execution_count": 97
        }
      ]
    },
    {
      "cell_type": "markdown",
      "source": [
        "Existe também uma propriedade muito importante, que seria no caso a Adição de listas "
      ],
      "metadata": {
        "id": "U5lyiWmPZvVG"
      }
    },
    {
      "cell_type": "code",
      "source": [
        "nova_lista2 = nomes + lista4"
      ],
      "metadata": {
        "id": "XljVUtk3fayd"
      },
      "execution_count": null,
      "outputs": []
    },
    {
      "cell_type": "code",
      "source": [
        "nova_lista2"
      ],
      "metadata": {
        "colab": {
          "base_uri": "https://localhost:8080/"
        },
        "id": "MqeZtC64ffxy",
        "outputId": "680d7dd7-8e85-42c0-e33c-77dec1794cb6"
      },
      "execution_count": null,
      "outputs": [
        {
          "output_type": "execute_result",
          "data": {
            "text/plain": [
              "['André', 'João', 'José', '28', '31', '30']"
            ]
          },
          "metadata": {},
          "execution_count": 99
        }
      ]
    },
    {
      "cell_type": "markdown",
      "source": [
        "Multiplicação de listas é multplica em comprimento a lista. No caso 2* vai aparecer 2* cada item da lista   \n",
        "\n",
        "Exp:nova_lista2* 2\n",
        "\n"
      ],
      "metadata": {
        "id": "MFJ1ZqUVgP73"
      }
    },
    {
      "cell_type": "code",
      "source": [
        "nova_lista2*2"
      ],
      "metadata": {
        "colab": {
          "base_uri": "https://localhost:8080/"
        },
        "id": "7WznD_AIhEbu",
        "outputId": "7a542ac0-fd63-42af-faf9-4c5bbb6a661d"
      },
      "execution_count": null,
      "outputs": [
        {
          "output_type": "execute_result",
          "data": {
            "text/plain": [
              "['André',\n",
              " 'João',\n",
              " 'José',\n",
              " '28',\n",
              " '31',\n",
              " '30',\n",
              " 'André',\n",
              " 'João',\n",
              " 'José',\n",
              " '28',\n",
              " '31',\n",
              " '30']"
            ]
          },
          "metadata": {},
          "execution_count": 100
        }
      ]
    },
    {
      "cell_type": "markdown",
      "source": [
        "Com o metodo ( append )- é possivel juntar novos elementos , Exp add o numero 32 na lista4, porém ele entra na lista como numero e não como string"
      ],
      "metadata": {
        "id": "VRwjN7rZhQFH"
      }
    },
    {
      "cell_type": "code",
      "source": [
        "lista4.append(32)"
      ],
      "metadata": {
        "id": "ETtf5UmUikBO"
      },
      "execution_count": null,
      "outputs": []
    },
    {
      "cell_type": "code",
      "source": [
        "lista4"
      ],
      "metadata": {
        "colab": {
          "base_uri": "https://localhost:8080/"
        },
        "id": "3YvbLqNoivsX",
        "outputId": "b8316503-5b1d-4c62-b3d1-773bbc9b52d6"
      },
      "execution_count": null,
      "outputs": [
        {
          "output_type": "execute_result",
          "data": {
            "text/plain": [
              "['28', '31', '30', 32]"
            ]
          },
          "metadata": {},
          "execution_count": 102
        }
      ]
    },
    {
      "cell_type": "code",
      "source": [
        "type(lista4[0])"
      ],
      "metadata": {
        "colab": {
          "base_uri": "https://localhost:8080/"
        },
        "id": "1yde-yVxixyv",
        "outputId": "f6332753-653f-4f90-ffbe-9cca3e74ae21"
      },
      "execution_count": null,
      "outputs": [
        {
          "output_type": "execute_result",
          "data": {
            "text/plain": [
              "str"
            ]
          },
          "metadata": {},
          "execution_count": 103
        }
      ]
    },
    {
      "cell_type": "code",
      "source": [
        "lista4.pop()"
      ],
      "metadata": {
        "id": "WIx-JlWile8a",
        "colab": {
          "base_uri": "https://localhost:8080/"
        },
        "outputId": "46a35f0e-793d-43d0-d3dd-f173757ac504"
      },
      "execution_count": null,
      "outputs": [
        {
          "output_type": "execute_result",
          "data": {
            "text/plain": [
              "32"
            ]
          },
          "metadata": {},
          "execution_count": 104
        }
      ]
    },
    {
      "cell_type": "code",
      "source": [
        "lista4"
      ],
      "metadata": {
        "colab": {
          "base_uri": "https://localhost:8080/"
        },
        "id": "i4FNSNuIO7zy",
        "outputId": "ec049093-ff98-43b3-b189-7551b4d82a45"
      },
      "execution_count": null,
      "outputs": [
        {
          "output_type": "execute_result",
          "data": {
            "text/plain": [
              "['28', '31', '30']"
            ]
          },
          "metadata": {},
          "execution_count": 105
        }
      ]
    },
    {
      "cell_type": "markdown",
      "source": [
        "Repare que com o .pop(), o ultimo nuemro da lista4, que era \"32\" deixou de existir. "
      ],
      "metadata": {
        "id": "jTaTfuvjPe0Q"
      }
    },
    {
      "cell_type": "code",
      "source": [
        "idade = [4, 5, 87, 54, 89, 100, 53, 28, 29, 98, 33, 39, 45 , 75, 99, 101, 110, 25, 48, 69, 70]"
      ],
      "metadata": {
        "id": "s23opdM7P9IH"
      },
      "execution_count": null,
      "outputs": []
    },
    {
      "cell_type": "code",
      "source": [
        "idade.sort()"
      ],
      "metadata": {
        "id": "Am9LopKcQOxN"
      },
      "execution_count": null,
      "outputs": []
    },
    {
      "cell_type": "code",
      "source": [
        "idade"
      ],
      "metadata": {
        "colab": {
          "base_uri": "https://localhost:8080/"
        },
        "id": "ekLnt1RAQTdJ",
        "outputId": "813a1922-7b0f-4f0e-9aca-e324cff42433"
      },
      "execution_count": null,
      "outputs": [
        {
          "output_type": "execute_result",
          "data": {
            "text/plain": [
              "[4,\n",
              " 5,\n",
              " 25,\n",
              " 28,\n",
              " 29,\n",
              " 33,\n",
              " 39,\n",
              " 45,\n",
              " 48,\n",
              " 53,\n",
              " 54,\n",
              " 69,\n",
              " 70,\n",
              " 75,\n",
              " 87,\n",
              " 89,\n",
              " 98,\n",
              " 99,\n",
              " 100,\n",
              " 101,\n",
              " 110]"
            ]
          },
          "metadata": {},
          "execution_count": 108
        }
      ]
    },
    {
      "cell_type": "code",
      "source": [
        "idade.reverse()"
      ],
      "metadata": {
        "id": "qAZPGVfAQVUY"
      },
      "execution_count": null,
      "outputs": []
    },
    {
      "cell_type": "code",
      "source": [
        "idade"
      ],
      "metadata": {
        "colab": {
          "base_uri": "https://localhost:8080/"
        },
        "id": "aFRX2TwvQiKS",
        "outputId": "45e1782a-46b0-49ad-ad67-4b6f1650689d"
      },
      "execution_count": null,
      "outputs": [
        {
          "output_type": "execute_result",
          "data": {
            "text/plain": [
              "[110,\n",
              " 101,\n",
              " 100,\n",
              " 99,\n",
              " 98,\n",
              " 89,\n",
              " 87,\n",
              " 75,\n",
              " 70,\n",
              " 69,\n",
              " 54,\n",
              " 53,\n",
              " 48,\n",
              " 45,\n",
              " 39,\n",
              " 33,\n",
              " 29,\n",
              " 28,\n",
              " 25,\n",
              " 5,\n",
              " 4]"
            ]
          },
          "metadata": {},
          "execution_count": 110
        }
      ]
    },
    {
      "cell_type": "markdown",
      "source": [
        "O comando **.sort()** fez a lista ser classificada na ordem cresente.\n",
        "\n",
        " \n",
        "\n",
        "Enquanto o comando **.reverse()** Fez a lista ser classificada em ordem decrescente"
      ],
      "metadata": {
        "id": "GUd4Y6B9QjC1"
      }
    },
    {
      "cell_type": "markdown",
      "source": [
        "E possivel também colocaramos listas dentro de listas, Observe o exemplo da Matriz a baixo "
      ],
      "metadata": {
        "id": "neI4-iy7RfYg"
      }
    },
    {
      "cell_type": "code",
      "source": [
        "lista01 = [0, 1, 2]\n",
        "lista02 = [3, 4, 5]\n",
        "lista03 = [6, 7, 8] "
      ],
      "metadata": {
        "id": "H-buPE_eTegP"
      },
      "execution_count": null,
      "outputs": []
    },
    {
      "cell_type": "code",
      "source": [
        "matriz =  [lista01 , lista02 , lista03]"
      ],
      "metadata": {
        "id": "PgHXVrv-TzUc"
      },
      "execution_count": null,
      "outputs": []
    },
    {
      "cell_type": "code",
      "source": [
        "matriz"
      ],
      "metadata": {
        "colab": {
          "base_uri": "https://localhost:8080/"
        },
        "id": "MExuAtTvUBWE",
        "outputId": "76d6ec31-b6aa-4b3c-f47f-9b1dccd21a77"
      },
      "execution_count": null,
      "outputs": [
        {
          "output_type": "execute_result",
          "data": {
            "text/plain": [
              "[[0, 1, 2], [3, 4, 5], [6, 7, 8]]"
            ]
          },
          "metadata": {},
          "execution_count": 113
        }
      ]
    },
    {
      "cell_type": "code",
      "source": [
        "matriz[0]"
      ],
      "metadata": {
        "colab": {
          "base_uri": "https://localhost:8080/"
        },
        "id": "dFhjew2WUCEO",
        "outputId": "47542578-7bd4-409c-d519-887224222353"
      },
      "execution_count": null,
      "outputs": [
        {
          "output_type": "execute_result",
          "data": {
            "text/plain": [
              "[0, 1, 2]"
            ]
          },
          "metadata": {},
          "execution_count": 114
        }
      ]
    },
    {
      "cell_type": "code",
      "source": [
        "matriz[2][2]"
      ],
      "metadata": {
        "colab": {
          "base_uri": "https://localhost:8080/"
        },
        "id": "eCEuq5RZUHGn",
        "outputId": "a33b884d-f326-49aa-a0cf-ce06660f1cba"
      },
      "execution_count": null,
      "outputs": [
        {
          "output_type": "execute_result",
          "data": {
            "text/plain": [
              "8"
            ]
          },
          "metadata": {},
          "execution_count": 117
        }
      ]
    },
    {
      "cell_type": "markdown",
      "source": [
        "## 6.0 Dicionários"
      ],
      "metadata": {
        "id": "1DO3ICZIUNF8"
      }
    },
    {
      "cell_type": "markdown",
      "source": [
        "No caso de dicionários usamos as chaves \"{:}\", O que tiver dentro das chaves  vão compor o nosso dicionario !"
      ],
      "metadata": {
        "id": "Ss6B4MCAJNHA"
      }
    },
    {
      "cell_type": "code",
      "source": [
        "precos = {'PETR4':30}"
      ],
      "metadata": {
        "id": "Q4S9vozhJlIt"
      },
      "execution_count": null,
      "outputs": []
    },
    {
      "cell_type": "code",
      "source": [
        "precos"
      ],
      "metadata": {
        "colab": {
          "base_uri": "https://localhost:8080/"
        },
        "id": "grdctWmzJuGi",
        "outputId": "d772ac02-43bd-4c64-aa99-b215855a8e5a"
      },
      "execution_count": null,
      "outputs": [
        {
          "output_type": "execute_result",
          "data": {
            "text/plain": [
              "{'PETR4': 30}"
            ]
          },
          "metadata": {},
          "execution_count": 2
        }
      ]
    },
    {
      "cell_type": "code",
      "source": [
        "type(precos)"
      ],
      "metadata": {
        "colab": {
          "base_uri": "https://localhost:8080/"
        },
        "id": "T7uLywY5JwtP",
        "outputId": "070fb3d2-1ec8-4ca8-ab52-fc6f61d02bcc"
      },
      "execution_count": null,
      "outputs": [
        {
          "output_type": "execute_result",
          "data": {
            "text/plain": [
              "dict"
            ]
          },
          "metadata": {},
          "execution_count": 7
        }
      ]
    },
    {
      "cell_type": "markdown",
      "source": [
        "Ainda em dicionarios é possivel adicionar mais de uma entrada, confira no exemplo a baixo "
      ],
      "metadata": {
        "id": "TmBe8kVeJ3Zn"
      }
    },
    {
      "cell_type": "code",
      "source": [
        "precos1 = {'PETR4 ': 30,\n",
        "           'VALE3' : 102,\n",
        "           'WEGE3' : 34}"
      ],
      "metadata": {
        "id": "UCBssX3nKFMo"
      },
      "execution_count": null,
      "outputs": []
    },
    {
      "cell_type": "code",
      "source": [
        "precos1 "
      ],
      "metadata": {
        "colab": {
          "base_uri": "https://localhost:8080/"
        },
        "id": "6ik-1j21KNhI",
        "outputId": "913422d7-0d96-4d5e-aedb-21920169d425"
      },
      "execution_count": null,
      "outputs": [
        {
          "output_type": "execute_result",
          "data": {
            "text/plain": [
              "{'PETR4 ': 30, 'VALE3': 102, 'WEGE3': 34}"
            ]
          },
          "metadata": {},
          "execution_count": 11
        }
      ]
    },
    {
      "cell_type": "code",
      "source": [
        "type (precos1)"
      ],
      "metadata": {
        "colab": {
          "base_uri": "https://localhost:8080/"
        },
        "id": "JLk89L-9KtwR",
        "outputId": "324f5dbf-36aa-4de1-885e-92c32146f69b"
      },
      "execution_count": null,
      "outputs": [
        {
          "output_type": "execute_result",
          "data": {
            "text/plain": [
              "dict"
            ]
          },
          "metadata": {},
          "execution_count": 12
        }
      ]
    },
    {
      "cell_type": "markdown",
      "source": [
        "Dicionarios possuem uma estrutra no Python chamada de chaves e valores. \n",
        "\n",
        "\n",
        "**Chaves** vem sempre em primeiro : ' PETR4 '/ ' VALE3' / ' WEGE3 '\n",
        "\n",
        "e os \n",
        "\n",
        "**Valore** é o que vem sempre depois '30' / 102 / 34 "
      ],
      "metadata": {
        "id": "M0axInnjKxLS"
      }
    },
    {
      "cell_type": "markdown",
      "source": [
        "No Pyathon existe uma funções de chamadas individuais. \n",
        "\n",
        " **'.Keys'** traz so as chaves\n",
        "\n",
        " **.values** Traz só os valores\n",
        " \n",
        " **.items** Traz a chaves e os valores de forma separadas \n",
        "\n",
        " "
      ],
      "metadata": {
        "id": "GqK2vTWuLWuU"
      }
    },
    {
      "cell_type": "code",
      "source": [
        "precos1.keys ()"
      ],
      "metadata": {
        "colab": {
          "base_uri": "https://localhost:8080/"
        },
        "id": "whTTn_W9MLml",
        "outputId": "245ca717-e3c3-44e7-c69a-bb8503360600"
      },
      "execution_count": null,
      "outputs": [
        {
          "output_type": "execute_result",
          "data": {
            "text/plain": [
              "dict_keys(['PETR4 ', 'VALE3', 'WEGE3'])"
            ]
          },
          "metadata": {},
          "execution_count": 27
        }
      ]
    },
    {
      "cell_type": "code",
      "source": [
        "precos1.values()"
      ],
      "metadata": {
        "colab": {
          "base_uri": "https://localhost:8080/"
        },
        "id": "xaoScgcCMPNj",
        "outputId": "7c0fbc19-f4c2-4ce6-c77c-f44fd0c0930b"
      },
      "execution_count": null,
      "outputs": [
        {
          "output_type": "execute_result",
          "data": {
            "text/plain": [
              "dict_values([30, 102, 34])"
            ]
          },
          "metadata": {},
          "execution_count": 28
        }
      ]
    },
    {
      "cell_type": "code",
      "source": [
        "precos1.items()"
      ],
      "metadata": {
        "colab": {
          "base_uri": "https://localhost:8080/"
        },
        "id": "itZhkzZ7MYif",
        "outputId": "2e469f60-4006-4a2b-e1a8-e0c26278117b"
      },
      "execution_count": null,
      "outputs": [
        {
          "output_type": "execute_result",
          "data": {
            "text/plain": [
              "dict_items([('PETR4 ', 30), ('VALE3', 102), ('WEGE3', 34)])"
            ]
          },
          "metadata": {},
          "execution_count": 29
        }
      ]
    },
    {
      "cell_type": "markdown",
      "source": [
        "Indexação em dicionairos é um pouco diferente das listas, no dicionario ele reconhce atraves das proprias chaves "
      ],
      "metadata": {
        "id": "iLoa9pFsNElo"
      }
    },
    {
      "cell_type": "code",
      "source": [
        "precos1['PETR4 ']"
      ],
      "metadata": {
        "colab": {
          "base_uri": "https://localhost:8080/"
        },
        "id": "QyiyPPNdNam-",
        "outputId": "785daebc-8768-4007-97c3-6acc18866542"
      },
      "execution_count": null,
      "outputs": [
        {
          "output_type": "execute_result",
          "data": {
            "text/plain": [
              "30"
            ]
          },
          "metadata": {},
          "execution_count": 34
        }
      ]
    },
    {
      "cell_type": "code",
      "source": [
        "precos1 = {'PETR4 ': 30,\n",
        "           'VALE3' : [102, 120, 140, 200],\n",
        "           'WEGE3' : 34}"
      ],
      "metadata": {
        "id": "x0zZvBHTNi5w"
      },
      "execution_count": null,
      "outputs": []
    },
    {
      "cell_type": "code",
      "source": [
        "precos1['VALE3']"
      ],
      "metadata": {
        "colab": {
          "base_uri": "https://localhost:8080/"
        },
        "id": "hKnrvzcmOaPp",
        "outputId": "4a87e665-f62a-4011-9b9d-ee40d5c4280c"
      },
      "execution_count": null,
      "outputs": [
        {
          "output_type": "execute_result",
          "data": {
            "text/plain": [
              "[102, 120, 140, 200]"
            ]
          },
          "metadata": {},
          "execution_count": 37
        }
      ]
    },
    {
      "cell_type": "code",
      "source": [
        "precos1"
      ],
      "metadata": {
        "colab": {
          "base_uri": "https://localhost:8080/"
        },
        "id": "lM5GVcrQOkWm",
        "outputId": "430c4f78-275d-4b36-8a8e-9b13a4571fb8"
      },
      "execution_count": null,
      "outputs": [
        {
          "output_type": "execute_result",
          "data": {
            "text/plain": [
              "{'PETR4 ': 30, 'VALE3': [102, 120, 140, 200], 'WEGE3': 34}"
            ]
          },
          "metadata": {},
          "execution_count": 38
        }
      ]
    },
    {
      "cell_type": "markdown",
      "source": [
        "Adicionando um novo papel "
      ],
      "metadata": {
        "id": "Eiamaz8COvOP"
      }
    },
    {
      "cell_type": "code",
      "source": [
        "precos1['GOAU4'] = 50"
      ],
      "metadata": {
        "id": "dkfamB7uO28C"
      },
      "execution_count": null,
      "outputs": []
    },
    {
      "cell_type": "code",
      "source": [
        "precos1"
      ],
      "metadata": {
        "colab": {
          "base_uri": "https://localhost:8080/"
        },
        "id": "1zsoqJduPAas",
        "outputId": "82b577d1-cefc-4808-9db1-0885061edff9"
      },
      "execution_count": null,
      "outputs": [
        {
          "output_type": "execute_result",
          "data": {
            "text/plain": [
              "{'PETR4 ': 30, 'VALE3': [102, 120, 140, 200], 'WEGE3': 34, 'GOAU4': 50}"
            ]
          },
          "metadata": {},
          "execution_count": 41
        }
      ]
    },
    {
      "cell_type": "markdown",
      "source": [
        "##7.0 Tuplas "
      ],
      "metadata": {
        "id": "i8jrFRUOPDpG"
      }
    },
    {
      "cell_type": "markdown",
      "source": [
        "As tuplas são muito utilizadas quando se quer fazer registros de dados sensiveis, isso graças ao fato das tuplas serem imultaveis logo, essa é a  principal caracteristica das tuplas"
      ],
      "metadata": {
        "id": "Y1xT6UeSe-jK"
      }
    },
    {
      "cell_type": "code",
      "source": [
        "  Tupla = ()"
      ],
      "metadata": {
        "id": "2ygXqE9VhIOV"
      },
      "execution_count": null,
      "outputs": []
    },
    {
      "cell_type": "code",
      "source": [
        "tupla1 = (1,1,1,2,2,2,2,3,4,5,5,6,6,6,6,6,6,7,7,7,8,8,8,8,8,9,9,9,9,29)"
      ],
      "metadata": {
        "id": "WbQGllP-hfoI"
      },
      "execution_count": null,
      "outputs": []
    },
    {
      "cell_type": "code",
      "source": [
        "tupla1"
      ],
      "metadata": {
        "colab": {
          "base_uri": "https://localhost:8080/"
        },
        "id": "LNxUPUJJqsu5",
        "outputId": "190a7946-eff0-4857-b65b-2ccf31a56571"
      },
      "execution_count": null,
      "outputs": [
        {
          "output_type": "execute_result",
          "data": {
            "text/plain": [
              "(1,\n",
              " 1,\n",
              " 1,\n",
              " 2,\n",
              " 2,\n",
              " 2,\n",
              " 2,\n",
              " 3,\n",
              " 4,\n",
              " 5,\n",
              " 5,\n",
              " 6,\n",
              " 6,\n",
              " 6,\n",
              " 6,\n",
              " 6,\n",
              " 6,\n",
              " 7,\n",
              " 7,\n",
              " 7,\n",
              " 8,\n",
              " 8,\n",
              " 8,\n",
              " 8,\n",
              " 8,\n",
              " 9,\n",
              " 9,\n",
              " 9,\n",
              " 9,\n",
              " 29)"
            ]
          },
          "metadata": {},
          "execution_count": 13
        }
      ]
    },
    {
      "cell_type": "code",
      "source": [
        "type(tupla1)"
      ],
      "metadata": {
        "colab": {
          "base_uri": "https://localhost:8080/"
        },
        "id": "tJ9L0JHAqudU",
        "outputId": "ecfb7362-834c-4ba5-81fe-71a20a04867e"
      },
      "execution_count": null,
      "outputs": [
        {
          "output_type": "execute_result",
          "data": {
            "text/plain": [
              "tuple"
            ]
          },
          "metadata": {},
          "execution_count": 15
        }
      ]
    },
    {
      "cell_type": "code",
      "source": [
        "len(tupla1)"
      ],
      "metadata": {
        "colab": {
          "base_uri": "https://localhost:8080/"
        },
        "id": "Zo0c9vTeqzon",
        "outputId": "08990b51-0008-4b39-c549-d3462d2158d1"
      },
      "execution_count": null,
      "outputs": [
        {
          "output_type": "execute_result",
          "data": {
            "text/plain": [
              "30"
            ]
          },
          "metadata": {},
          "execution_count": 16
        }
      ]
    },
    {
      "cell_type": "markdown",
      "source": [
        "As Tuplas podem ser indexadas!! Exp abaixo"
      ],
      "metadata": {
        "id": "AJaHYPyeq6Mo"
      }
    },
    {
      "cell_type": "code",
      "source": [
        "tupla1[0]"
      ],
      "metadata": {
        "colab": {
          "base_uri": "https://localhost:8080/"
        },
        "id": "qG7j1cQ3rIw4",
        "outputId": "57bcd484-d052-43e7-9906-9d4f6e5df5a7"
      },
      "execution_count": null,
      "outputs": [
        {
          "output_type": "execute_result",
          "data": {
            "text/plain": [
              "1"
            ]
          },
          "metadata": {},
          "execution_count": 17
        }
      ]
    },
    {
      "cell_type": "code",
      "source": [
        "tupla1[16:30]"
      ],
      "metadata": {
        "colab": {
          "base_uri": "https://localhost:8080/"
        },
        "id": "YDr0VIJ9rTmm",
        "outputId": "9b5f3eec-e405-4afe-fe8f-d752141ca0b9"
      },
      "execution_count": null,
      "outputs": [
        {
          "output_type": "execute_result",
          "data": {
            "text/plain": [
              "(6, 7, 7, 7, 8, 8, 8, 8, 8, 9, 9, 9, 9, 29)"
            ]
          },
          "metadata": {},
          "execution_count": 22
        }
      ]
    },
    {
      "cell_type": "markdown",
      "source": [
        "para encontar objetos especificos dentro de uma tupla, a função '.index' é responsavel por realizar essa tarefa."
      ],
      "metadata": {
        "id": "_5MwUeRIrd8q"
      }
    },
    {
      "cell_type": "code",
      "source": [
        "tupla1.index(29)"
      ],
      "metadata": {
        "colab": {
          "base_uri": "https://localhost:8080/"
        },
        "id": "vTyChbQUsSL0",
        "outputId": "597c64fe-039f-4d27-828e-12379bd84123"
      },
      "execution_count": null,
      "outputs": [
        {
          "output_type": "execute_result",
          "data": {
            "text/plain": [
              "29"
            ]
          },
          "metadata": {},
          "execution_count": 20
        }
      ]
    },
    {
      "cell_type": "markdown",
      "source": [
        "A função '.count', ele conta quantas vezes uma objeto especifico aparece dentro de uma tupla."
      ],
      "metadata": {
        "id": "IAHWFAS8saUG"
      }
    },
    {
      "cell_type": "code",
      "source": [
        "tupla1.count(8)"
      ],
      "metadata": {
        "colab": {
          "base_uri": "https://localhost:8080/"
        },
        "id": "MkYf8V50tYtv",
        "outputId": "4718a5fe-d9ce-4909-fa94-cbf6dda5e50f"
      },
      "execution_count": null,
      "outputs": [
        {
          "output_type": "execute_result",
          "data": {
            "text/plain": [
              "5"
            ]
          },
          "metadata": {},
          "execution_count": 23
        }
      ]
    },
    {
      "cell_type": "markdown",
      "source": [
        "## 8.0 Conjuntos "
      ],
      "metadata": {
        "id": "gKrqYGjktcXn"
      }
    },
    {
      "cell_type": "markdown",
      "source": [
        "Os Conjuntos são coleções não ordenadas de elementos exclusivos. \n",
        "\n",
        "São o tipo ideal quando queremos fazer contagem de elementos unicos, o que acaba sendo mais rapdio do que uma lista.\n",
        "\n",
        "\n",
        "Quando estamos tratando dados exclusivos, ou seja mesmo que o possivel dado ele apareça varias vezes, o conjunto vai contabilizar como um individuo, ou seja entrada unica."
      ],
      "metadata": {
        "id": "Fn0mMtktvwwN"
      }
    },
    {
      "cell_type": "code",
      "source": [
        "  conjunto = set()"
      ],
      "metadata": {
        "id": "qD8Ji9IbwkI5"
      },
      "execution_count": null,
      "outputs": []
    },
    {
      "cell_type": "code",
      "source": [
        "conjunto "
      ],
      "metadata": {
        "colab": {
          "base_uri": "https://localhost:8080/"
        },
        "id": "1gPibBDiyDJT",
        "outputId": "9aeffdf5-9a96-4ace-d6d5-2b07add2e9b3"
      },
      "execution_count": null,
      "outputs": [
        {
          "output_type": "execute_result",
          "data": {
            "text/plain": [
              "set()"
            ]
          },
          "metadata": {},
          "execution_count": 25
        }
      ]
    },
    {
      "cell_type": "markdown",
      "source": [
        "Para adicionarmos elementos dentro de um conjunto, utilizamos a função '.add'."
      ],
      "metadata": {
        "id": "0pLBSKq0yEWr"
      }
    },
    {
      "cell_type": "code",
      "source": [
        "conjunto.add(9)"
      ],
      "metadata": {
        "id": "1sBHlnROyZkz"
      },
      "execution_count": null,
      "outputs": []
    },
    {
      "cell_type": "code",
      "source": [
        "conjunto"
      ],
      "metadata": {
        "colab": {
          "base_uri": "https://localhost:8080/"
        },
        "id": "XOgmfZ3AygBm",
        "outputId": "2a581dc1-ccac-4f6b-f7e0-72fb3334a26d"
      },
      "execution_count": null,
      "outputs": [
        {
          "output_type": "execute_result",
          "data": {
            "text/plain": [
              "{10, 5, 6, 7, 8, 9, 'trading com Dados'}"
            ]
          },
          "metadata": {},
          "execution_count": 32
        }
      ]
    },
    {
      "cell_type": "code",
      "source": [
        "conjunto.add(9)\n",
        "conjunto.add(9)\n",
        "conjunto.add(9)\n",
        "conjunto.add(9)\n",
        "conjunto.add(9)\n",
        "\n",
        "conjunto.add(5)\n",
        "conjunto.add(6)\n",
        "conjunto.add(7)\n",
        "conjunto.add(8)\n",
        "conjunto.add(9)\n",
        "conjunto.add(10)\n",
        "conjunto.add('trading com Dados')"
      ],
      "metadata": {
        "id": "YPtsXAIryhUF"
      },
      "execution_count": null,
      "outputs": []
    },
    {
      "cell_type": "code",
      "source": [
        "conjunto"
      ],
      "metadata": {
        "colab": {
          "base_uri": "https://localhost:8080/"
        },
        "id": "WbRyrKW9yxzs",
        "outputId": "57b9e4ef-746d-4904-eae6-889316113373"
      },
      "execution_count": null,
      "outputs": [
        {
          "output_type": "execute_result",
          "data": {
            "text/plain": [
              "{10, 5, 6, 7, 8, 9, 'trading com Dados'}"
            ]
          },
          "metadata": {},
          "execution_count": 30
        }
      ]
    },
    {
      "cell_type": "markdown",
      "source": [
        "## 9.0 Declarações Condicionais "
      ],
      "metadata": {
        "id": "ntk71XUtzpga"
      }
    },
    {
      "cell_type": "markdown",
      "source": [
        "if- condicional ' Se' . \n",
        "\n",
        "else- condicional 'senão.'"
      ],
      "metadata": {
        "id": "9SV5eC3B6uZY"
      }
    },
    {
      "cell_type": "code",
      "source": [
        "preco_weg = 37.91"
      ],
      "metadata": {
        "id": "hBeeaFgtBQHb"
      },
      "execution_count": null,
      "outputs": []
    },
    {
      "cell_type": "code",
      "source": [
        "preco_alvo = 33"
      ],
      "metadata": {
        "id": "rE5bGJUYBa73"
      },
      "execution_count": null,
      "outputs": []
    },
    {
      "cell_type": "code",
      "source": [
        "if preco_weg > preco_alvo:\n",
        "  print('Espere')"
      ],
      "metadata": {
        "colab": {
          "base_uri": "https://localhost:8080/"
        },
        "id": "AcRZmdrLBhXF",
        "outputId": "0bac0bb9-1e9c-4c46-8b34-178230fd91f9"
      },
      "execution_count": null,
      "outputs": [
        {
          "output_type": "stream",
          "name": "stdout",
          "text": [
            "Espere\n"
          ]
        }
      ]
    },
    {
      "cell_type": "code",
      "source": [
        "preco_weg = 39"
      ],
      "metadata": {
        "id": "_KNzcaJ2CAw6"
      },
      "execution_count": null,
      "outputs": []
    },
    {
      "cell_type": "code",
      "source": [
        "if preco_weg > preco_alvo:\n",
        "  print('Espere')\n",
        "else:\n",
        "  print('Compre')"
      ],
      "metadata": {
        "colab": {
          "base_uri": "https://localhost:8080/"
        },
        "id": "Uw9x727ICeJd",
        "outputId": "d54f3bb4-d10e-4964-94e5-05ae0732724d"
      },
      "execution_count": null,
      "outputs": [
        {
          "output_type": "stream",
          "name": "stdout",
          "text": [
            "Espere\n"
          ]
        }
      ]
    },
    {
      "cell_type": "code",
      "source": [
        "preco_weg = 33"
      ],
      "metadata": {
        "id": "oJmikchNDEYQ"
      },
      "execution_count": null,
      "outputs": []
    },
    {
      "cell_type": "code",
      "source": [
        "preco_alvo = 34"
      ],
      "metadata": {
        "id": "tC4UnjL8DNJx"
      },
      "execution_count": null,
      "outputs": []
    },
    {
      "cell_type": "code",
      "source": [
        "if preco_weg < 30:\n",
        "  print('Compre, preço muito descontado! ')\n",
        "elif preco_weg <= 32:\n",
        "  print('Ainda em tendencia de queda, espere um pouco mais!')\n",
        "elif preco_weg <= 33:\n",
        "  print('Iniciou tendencia de queda, espere cair até 25')\n",
        "\n",
        "else:\n",
        "  print('Espere')"
      ],
      "metadata": {
        "colab": {
          "base_uri": "https://localhost:8080/"
        },
        "id": "-SJG1O8zCeme",
        "outputId": "795bf698-d1b4-4532-f905-69d02a50fe69"
      },
      "execution_count": null,
      "outputs": [
        {
          "output_type": "stream",
          "name": "stdout",
          "text": [
            "Iniciou tendencia de queda, espere cair até 25\n"
          ]
        }
      ]
    },
    {
      "cell_type": "markdown",
      "source": [
        "Com essa estrutura somos capazes de realizar uma analise de aquisição segundo parametros pré estabelecido, em outras palavras quando for o momento ideal para uma compra de um ativo! "
      ],
      "metadata": {
        "id": "KqzLrAc3Oo07"
      }
    },
    {
      "cell_type": "markdown",
      "source": [
        "### 10 Estruturas de Repetição "
      ],
      "metadata": {
        "id": "ufky9CBjD9Wn"
      }
    },
    {
      "cell_type": "markdown",
      "source": [
        "Essas estruturas vão possibilitar que as tarefas repitidas possam ser repassadas para o python "
      ],
      "metadata": {
        "id": "ADq0IniyOeHZ"
      }
    },
    {
      "cell_type": "markdown",
      "source": [
        "### 10.1.  FOR "
      ],
      "metadata": {
        "id": "fcM7wdF5Ota7"
      }
    },
    {
      "cell_type": "markdown",
      "source": [
        "O For vem do ingles 'para', quando dado a uma condição que se repete ele realiza uma tarefa "
      ],
      "metadata": {
        "id": "hLYIvH31Oysj"
      }
    },
    {
      "cell_type": "code",
      "source": [
        "lista = ['joão', 'Jose', 'Andre', 'Marcos']"
      ],
      "metadata": {
        "id": "UF9I9krSPJ9H"
      },
      "execution_count": null,
      "outputs": []
    },
    {
      "cell_type": "code",
      "source": [
        "for elemento in lista:\n",
        "  print(elemento)"
      ],
      "metadata": {
        "colab": {
          "base_uri": "https://localhost:8080/"
        },
        "id": "7a6yXT-hPa17",
        "outputId": "af4a4894-f87a-432b-a1f5-7a3dd1cf9d5a"
      },
      "execution_count": null,
      "outputs": [
        {
          "output_type": "stream",
          "name": "stdout",
          "text": [
            "joão\n",
            "Jose\n",
            "Andre\n",
            "Marcos\n"
          ]
        }
      ]
    },
    {
      "cell_type": "markdown",
      "source": [
        "Vamos para um exemplo do Mercado Financeiro "
      ],
      "metadata": {
        "id": "oSvi7TOePl0X"
      }
    },
    {
      "cell_type": "code",
      "source": [
        "lista_ativos = ['PETR4.SA', 'WEGE3.SA', 'MGLU3.SA', 'LREN3.SA', 'RENT3.SA','VALE3.SA']"
      ],
      "metadata": {
        "id": "P0236i5DQPwX"
      },
      "execution_count": null,
      "outputs": []
    },
    {
      "cell_type": "code",
      "source": [
        "lista_ativos"
      ],
      "metadata": {
        "colab": {
          "base_uri": "https://localhost:8080/"
        },
        "id": "wTfon7jgQkeo",
        "outputId": "98873018-1ef8-4e71-fea2-0118a683d82d"
      },
      "execution_count": null,
      "outputs": [
        {
          "output_type": "execute_result",
          "data": {
            "text/plain": [
              "['PETR4.SA', 'WEGE3.SA', 'MGLU3.SA', 'LREN3.SA', 'RENT3.SA', 'VALE3.SA']"
            ]
          },
          "metadata": {},
          "execution_count": 80
        }
      ]
    },
    {
      "cell_type": "code",
      "source": [
        "for acoes in lista_ativos:\n",
        "  print(acoes)"
      ],
      "metadata": {
        "colab": {
          "base_uri": "https://localhost:8080/"
        },
        "id": "SsDFl_Z9Q9S5",
        "outputId": "5825a854-819a-42c4-cb84-f73d06a08b7e"
      },
      "execution_count": null,
      "outputs": [
        {
          "output_type": "stream",
          "name": "stdout",
          "text": [
            "PETR4.SA\n",
            "WEGE3.SA\n",
            "MGLU3.SA\n",
            "LREN3.SA\n",
            "RENT3.SA\n",
            "VALE3.SA\n"
          ]
        }
      ]
    },
    {
      "cell_type": "markdown",
      "source": [
        "O '.SA' vai simular uma extração de dados, isso direto do yahoofince, a biblioteca do Yhaoofince usa o '.SA' no final da empresa como padrão"
      ],
      "metadata": {
        "id": "0MqqLOkCRHW2"
      }
    },
    {
      "cell_type": "markdown",
      "source": [
        "### 10.1.1 Bibliotecas "
      ],
      "metadata": {
        "id": "w5NZUa9ZRlqY"
      }
    },
    {
      "cell_type": "code",
      "source": [
        "!pip install yfinance"
      ],
      "metadata": {
        "colab": {
          "base_uri": "https://localhost:8080/",
          "height": 972
        },
        "id": "BougkcxDRzdq",
        "outputId": "753f3055-a6d7-45f7-a907-68474c61b23c"
      },
      "execution_count": null,
      "outputs": [
        {
          "output_type": "stream",
          "name": "stdout",
          "text": [
            "Looking in indexes: https://pypi.org/simple, https://us-python.pkg.dev/colab-wheels/public/simple/\n",
            "Collecting yfinance\n",
            "  Downloading yfinance-0.2.9-py2.py3-none-any.whl (55 kB)\n",
            "\u001b[2K     \u001b[90m━━━━━━━━━━━━━━━━━━━━━━━━━━━━━━━━━━━━━━━━\u001b[0m \u001b[32m55.9/55.9 KB\u001b[0m \u001b[31m3.8 MB/s\u001b[0m eta \u001b[36m0:00:00\u001b[0m\n",
            "\u001b[?25hRequirement already satisfied: appdirs>=1.4.4 in /usr/local/lib/python3.8/dist-packages (from yfinance) (1.4.4)\n",
            "Requirement already satisfied: multitasking>=0.0.7 in /usr/local/lib/python3.8/dist-packages (from yfinance) (0.0.11)\n",
            "Requirement already satisfied: pandas>=1.3.0 in /usr/local/lib/python3.8/dist-packages (from yfinance) (1.3.5)\n",
            "Requirement already satisfied: pytz>=2022.5 in /usr/local/lib/python3.8/dist-packages (from yfinance) (2022.7.1)\n",
            "Requirement already satisfied: lxml>=4.9.1 in /usr/local/lib/python3.8/dist-packages (from yfinance) (4.9.2)\n",
            "Collecting frozendict>=2.3.4\n",
            "  Downloading frozendict-2.3.4-cp38-cp38-manylinux_2_17_x86_64.manylinux2014_x86_64.whl (110 kB)\n",
            "\u001b[2K     \u001b[90m━━━━━━━━━━━━━━━━━━━━━━━━━━━━━━━━━━━━━━\u001b[0m \u001b[32m111.0/111.0 KB\u001b[0m \u001b[31m10.1 MB/s\u001b[0m eta \u001b[36m0:00:00\u001b[0m\n",
            "\u001b[?25hCollecting html5lib>=1.1\n",
            "  Downloading html5lib-1.1-py2.py3-none-any.whl (112 kB)\n",
            "\u001b[2K     \u001b[90m━━━━━━━━━━━━━━━━━━━━━━━━━━━━━━━━━━━━━━\u001b[0m \u001b[32m112.2/112.2 KB\u001b[0m \u001b[31m15.3 MB/s\u001b[0m eta \u001b[36m0:00:00\u001b[0m\n",
            "\u001b[?25hCollecting beautifulsoup4>=4.11.1\n",
            "  Downloading beautifulsoup4-4.11.2-py3-none-any.whl (129 kB)\n",
            "\u001b[2K     \u001b[90m━━━━━━━━━━━━━━━━━━━━━━━━━━━━━━━━━━━━━━\u001b[0m \u001b[32m129.4/129.4 KB\u001b[0m \u001b[31m13.0 MB/s\u001b[0m eta \u001b[36m0:00:00\u001b[0m\n",
            "\u001b[?25hRequirement already satisfied: numpy>=1.16.5 in /usr/local/lib/python3.8/dist-packages (from yfinance) (1.21.6)\n",
            "Collecting cryptography>=3.3.2\n",
            "  Downloading cryptography-39.0.0-cp36-abi3-manylinux_2_28_x86_64.whl (4.2 MB)\n",
            "\u001b[2K     \u001b[90m━━━━━━━━━━━━━━━━━━━━━━━━━━━━━━━━━━━━━━━━\u001b[0m \u001b[32m4.2/4.2 MB\u001b[0m \u001b[31m60.8 MB/s\u001b[0m eta \u001b[36m0:00:00\u001b[0m\n",
            "\u001b[?25hCollecting requests>=2.26\n",
            "  Downloading requests-2.28.2-py3-none-any.whl (62 kB)\n",
            "\u001b[2K     \u001b[90m━━━━━━━━━━━━━━━━━━━━━━━━━━━━━━━━━━━━━━━━\u001b[0m \u001b[32m62.8/62.8 KB\u001b[0m \u001b[31m8.7 MB/s\u001b[0m eta \u001b[36m0:00:00\u001b[0m\n",
            "\u001b[?25hCollecting soupsieve>1.2\n",
            "  Downloading soupsieve-2.3.2.post1-py3-none-any.whl (37 kB)\n",
            "Requirement already satisfied: cffi>=1.12 in /usr/local/lib/python3.8/dist-packages (from cryptography>=3.3.2->yfinance) (1.15.1)\n",
            "Requirement already satisfied: webencodings in /usr/local/lib/python3.8/dist-packages (from html5lib>=1.1->yfinance) (0.5.1)\n",
            "Requirement already satisfied: six>=1.9 in /usr/local/lib/python3.8/dist-packages (from html5lib>=1.1->yfinance) (1.15.0)\n",
            "Requirement already satisfied: python-dateutil>=2.7.3 in /usr/local/lib/python3.8/dist-packages (from pandas>=1.3.0->yfinance) (2.8.2)\n",
            "Requirement already satisfied: urllib3<1.27,>=1.21.1 in /usr/local/lib/python3.8/dist-packages (from requests>=2.26->yfinance) (1.24.3)\n",
            "Requirement already satisfied: charset-normalizer<4,>=2 in /usr/local/lib/python3.8/dist-packages (from requests>=2.26->yfinance) (2.1.1)\n",
            "Requirement already satisfied: certifi>=2017.4.17 in /usr/local/lib/python3.8/dist-packages (from requests>=2.26->yfinance) (2022.12.7)\n",
            "Requirement already satisfied: idna<4,>=2.5 in /usr/local/lib/python3.8/dist-packages (from requests>=2.26->yfinance) (2.10)\n",
            "Requirement already satisfied: pycparser in /usr/local/lib/python3.8/dist-packages (from cffi>=1.12->cryptography>=3.3.2->yfinance) (2.21)\n",
            "Installing collected packages: soupsieve, requests, html5lib, frozendict, cryptography, beautifulsoup4, yfinance\n",
            "  Attempting uninstall: requests\n",
            "    Found existing installation: requests 2.25.1\n",
            "    Uninstalling requests-2.25.1:\n",
            "      Successfully uninstalled requests-2.25.1\n",
            "  Attempting uninstall: html5lib\n",
            "    Found existing installation: html5lib 1.0.1\n",
            "    Uninstalling html5lib-1.0.1:\n",
            "      Successfully uninstalled html5lib-1.0.1\n",
            "  Attempting uninstall: beautifulsoup4\n",
            "    Found existing installation: beautifulsoup4 4.6.3\n",
            "    Uninstalling beautifulsoup4-4.6.3:\n",
            "      Successfully uninstalled beautifulsoup4-4.6.3\n",
            "Successfully installed beautifulsoup4-4.11.2 cryptography-39.0.0 frozendict-2.3.4 html5lib-1.1 requests-2.28.2 soupsieve-2.3.2.post1 yfinance-0.2.9\n"
          ]
        },
        {
          "output_type": "display_data",
          "data": {
            "application/vnd.colab-display-data+json": {
              "pip_warning": {
                "packages": [
                  "requests"
                ]
              }
            }
          },
          "metadata": {}
        }
      ]
    },
    {
      "cell_type": "code",
      "source": [
        "import yfinance as yf\n",
        "import pandas as pd "
      ],
      "metadata": {
        "id": "MpA6EnOoR7eR"
      },
      "execution_count": null,
      "outputs": []
    },
    {
      "cell_type": "code",
      "source": [
        "dados = yf.download('MGLU3.SA', start = '2020-07-01', end = '2022-12-29')"
      ],
      "metadata": {
        "colab": {
          "base_uri": "https://localhost:8080/"
        },
        "id": "ZTAoiIYMSV7h",
        "outputId": "2068c2b6-0d90-49f7-e7a0-3ec7c9cf6692"
      },
      "execution_count": null,
      "outputs": [
        {
          "output_type": "stream",
          "name": "stdout",
          "text": [
            "\r[*********************100%***********************]  1 of 1 completed\n"
          ]
        }
      ]
    },
    {
      "cell_type": "code",
      "source": [
        "dados.head()"
      ],
      "metadata": {
        "colab": {
          "base_uri": "https://localhost:8080/",
          "height": 237
        },
        "id": "2A8ItM1ES7DC",
        "outputId": "86ba7d1c-6343-4bd8-9f83-d5af78b8fe43"
      },
      "execution_count": null,
      "outputs": [
        {
          "output_type": "execute_result",
          "data": {
            "text/plain": [
              "                                Open       High        Low      Close  \\\n",
              "Date                                                                    \n",
              "2020-07-01 00:00:00-03:00  17.995001  18.125000  17.725000  18.075001   \n",
              "2020-07-02 00:00:00-03:00  18.187500  18.312500  17.525000  17.525000   \n",
              "2020-07-03 00:00:00-03:00  17.549999  18.012501  17.325001  18.000000   \n",
              "2020-07-06 00:00:00-03:00  18.202499  18.295000  17.900000  17.997499   \n",
              "2020-07-07 00:00:00-03:00  17.975000  18.697500  17.767500  18.680000   \n",
              "\n",
              "                           Adj Close    Volume  \n",
              "Date                                            \n",
              "2020-07-01 00:00:00-03:00  17.938591  35457200  \n",
              "2020-07-02 00:00:00-03:00  17.392742  43729600  \n",
              "2020-07-03 00:00:00-03:00  17.864159  28379600  \n",
              "2020-07-06 00:00:00-03:00  17.861677  32636000  \n",
              "2020-07-07 00:00:00-03:00  18.539026  49730000  "
            ],
            "text/html": [
              "\n",
              "  <div id=\"df-9b23adba-0876-4238-9526-4ee7701985dc\">\n",
              "    <div class=\"colab-df-container\">\n",
              "      <div>\n",
              "<style scoped>\n",
              "    .dataframe tbody tr th:only-of-type {\n",
              "        vertical-align: middle;\n",
              "    }\n",
              "\n",
              "    .dataframe tbody tr th {\n",
              "        vertical-align: top;\n",
              "    }\n",
              "\n",
              "    .dataframe thead th {\n",
              "        text-align: right;\n",
              "    }\n",
              "</style>\n",
              "<table border=\"1\" class=\"dataframe\">\n",
              "  <thead>\n",
              "    <tr style=\"text-align: right;\">\n",
              "      <th></th>\n",
              "      <th>Open</th>\n",
              "      <th>High</th>\n",
              "      <th>Low</th>\n",
              "      <th>Close</th>\n",
              "      <th>Adj Close</th>\n",
              "      <th>Volume</th>\n",
              "    </tr>\n",
              "    <tr>\n",
              "      <th>Date</th>\n",
              "      <th></th>\n",
              "      <th></th>\n",
              "      <th></th>\n",
              "      <th></th>\n",
              "      <th></th>\n",
              "      <th></th>\n",
              "    </tr>\n",
              "  </thead>\n",
              "  <tbody>\n",
              "    <tr>\n",
              "      <th>2020-07-01 00:00:00-03:00</th>\n",
              "      <td>17.995001</td>\n",
              "      <td>18.125000</td>\n",
              "      <td>17.725000</td>\n",
              "      <td>18.075001</td>\n",
              "      <td>17.938591</td>\n",
              "      <td>35457200</td>\n",
              "    </tr>\n",
              "    <tr>\n",
              "      <th>2020-07-02 00:00:00-03:00</th>\n",
              "      <td>18.187500</td>\n",
              "      <td>18.312500</td>\n",
              "      <td>17.525000</td>\n",
              "      <td>17.525000</td>\n",
              "      <td>17.392742</td>\n",
              "      <td>43729600</td>\n",
              "    </tr>\n",
              "    <tr>\n",
              "      <th>2020-07-03 00:00:00-03:00</th>\n",
              "      <td>17.549999</td>\n",
              "      <td>18.012501</td>\n",
              "      <td>17.325001</td>\n",
              "      <td>18.000000</td>\n",
              "      <td>17.864159</td>\n",
              "      <td>28379600</td>\n",
              "    </tr>\n",
              "    <tr>\n",
              "      <th>2020-07-06 00:00:00-03:00</th>\n",
              "      <td>18.202499</td>\n",
              "      <td>18.295000</td>\n",
              "      <td>17.900000</td>\n",
              "      <td>17.997499</td>\n",
              "      <td>17.861677</td>\n",
              "      <td>32636000</td>\n",
              "    </tr>\n",
              "    <tr>\n",
              "      <th>2020-07-07 00:00:00-03:00</th>\n",
              "      <td>17.975000</td>\n",
              "      <td>18.697500</td>\n",
              "      <td>17.767500</td>\n",
              "      <td>18.680000</td>\n",
              "      <td>18.539026</td>\n",
              "      <td>49730000</td>\n",
              "    </tr>\n",
              "  </tbody>\n",
              "</table>\n",
              "</div>\n",
              "      <button class=\"colab-df-convert\" onclick=\"convertToInteractive('df-9b23adba-0876-4238-9526-4ee7701985dc')\"\n",
              "              title=\"Convert this dataframe to an interactive table.\"\n",
              "              style=\"display:none;\">\n",
              "        \n",
              "  <svg xmlns=\"http://www.w3.org/2000/svg\" height=\"24px\"viewBox=\"0 0 24 24\"\n",
              "       width=\"24px\">\n",
              "    <path d=\"M0 0h24v24H0V0z\" fill=\"none\"/>\n",
              "    <path d=\"M18.56 5.44l.94 2.06.94-2.06 2.06-.94-2.06-.94-.94-2.06-.94 2.06-2.06.94zm-11 1L8.5 8.5l.94-2.06 2.06-.94-2.06-.94L8.5 2.5l-.94 2.06-2.06.94zm10 10l.94 2.06.94-2.06 2.06-.94-2.06-.94-.94-2.06-.94 2.06-2.06.94z\"/><path d=\"M17.41 7.96l-1.37-1.37c-.4-.4-.92-.59-1.43-.59-.52 0-1.04.2-1.43.59L10.3 9.45l-7.72 7.72c-.78.78-.78 2.05 0 2.83L4 21.41c.39.39.9.59 1.41.59.51 0 1.02-.2 1.41-.59l7.78-7.78 2.81-2.81c.8-.78.8-2.07 0-2.86zM5.41 20L4 18.59l7.72-7.72 1.47 1.35L5.41 20z\"/>\n",
              "  </svg>\n",
              "      </button>\n",
              "      \n",
              "  <style>\n",
              "    .colab-df-container {\n",
              "      display:flex;\n",
              "      flex-wrap:wrap;\n",
              "      gap: 12px;\n",
              "    }\n",
              "\n",
              "    .colab-df-convert {\n",
              "      background-color: #E8F0FE;\n",
              "      border: none;\n",
              "      border-radius: 50%;\n",
              "      cursor: pointer;\n",
              "      display: none;\n",
              "      fill: #1967D2;\n",
              "      height: 32px;\n",
              "      padding: 0 0 0 0;\n",
              "      width: 32px;\n",
              "    }\n",
              "\n",
              "    .colab-df-convert:hover {\n",
              "      background-color: #E2EBFA;\n",
              "      box-shadow: 0px 1px 2px rgba(60, 64, 67, 0.3), 0px 1px 3px 1px rgba(60, 64, 67, 0.15);\n",
              "      fill: #174EA6;\n",
              "    }\n",
              "\n",
              "    [theme=dark] .colab-df-convert {\n",
              "      background-color: #3B4455;\n",
              "      fill: #D2E3FC;\n",
              "    }\n",
              "\n",
              "    [theme=dark] .colab-df-convert:hover {\n",
              "      background-color: #434B5C;\n",
              "      box-shadow: 0px 1px 3px 1px rgba(0, 0, 0, 0.15);\n",
              "      filter: drop-shadow(0px 1px 2px rgba(0, 0, 0, 0.3));\n",
              "      fill: #FFFFFF;\n",
              "    }\n",
              "  </style>\n",
              "\n",
              "      <script>\n",
              "        const buttonEl =\n",
              "          document.querySelector('#df-9b23adba-0876-4238-9526-4ee7701985dc button.colab-df-convert');\n",
              "        buttonEl.style.display =\n",
              "          google.colab.kernel.accessAllowed ? 'block' : 'none';\n",
              "\n",
              "        async function convertToInteractive(key) {\n",
              "          const element = document.querySelector('#df-9b23adba-0876-4238-9526-4ee7701985dc');\n",
              "          const dataTable =\n",
              "            await google.colab.kernel.invokeFunction('convertToInteractive',\n",
              "                                                     [key], {});\n",
              "          if (!dataTable) return;\n",
              "\n",
              "          const docLinkHtml = 'Like what you see? Visit the ' +\n",
              "            '<a target=\"_blank\" href=https://colab.research.google.com/notebooks/data_table.ipynb>data table notebook</a>'\n",
              "            + ' to learn more about interactive tables.';\n",
              "          element.innerHTML = '';\n",
              "          dataTable['output_type'] = 'display_data';\n",
              "          await google.colab.output.renderOutput(dataTable, element);\n",
              "          const docLink = document.createElement('div');\n",
              "          docLink.innerHTML = docLinkHtml;\n",
              "          element.appendChild(docLink);\n",
              "        }\n",
              "      </script>\n",
              "    </div>\n",
              "  </div>\n",
              "  "
            ]
          },
          "metadata": {},
          "execution_count": 92
        }
      ]
    },
    {
      "cell_type": "markdown",
      "source": [
        "Vamos trablhar com a coluna do, Adj close- Ela representa o Preço de fechamento de cada papel, ela está ajustada para pagamentos de dividendos, splits, desdobramentos"
      ],
      "metadata": {
        "id": "paSfWY2PS_6I"
      }
    },
    {
      "cell_type": "code",
      "source": [
        "dados = yf.download('MGLU3.SA', start = '2020-07-01', end = '2022-12-29')['Adj Close']"
      ],
      "metadata": {
        "colab": {
          "base_uri": "https://localhost:8080/"
        },
        "id": "nfBfYRmzT0sM",
        "outputId": "04692c46-5e7d-4d59-c914-5bdba38cb4a5"
      },
      "execution_count": null,
      "outputs": [
        {
          "output_type": "stream",
          "name": "stdout",
          "text": [
            "\r[*********************100%***********************]  1 of 1 completed\n"
          ]
        }
      ]
    },
    {
      "cell_type": "code",
      "source": [
        "dados.head()"
      ],
      "metadata": {
        "colab": {
          "base_uri": "https://localhost:8080/"
        },
        "id": "Lsp30eGFT7oF",
        "outputId": "9a58aeca-3aa0-4f63-ef48-229a05f4d19e"
      },
      "execution_count": null,
      "outputs": [
        {
          "output_type": "execute_result",
          "data": {
            "text/plain": [
              "Date\n",
              "2020-07-01 00:00:00-03:00    17.938593\n",
              "2020-07-02 00:00:00-03:00    17.392742\n",
              "2020-07-03 00:00:00-03:00    17.864157\n",
              "2020-07-06 00:00:00-03:00    17.861677\n",
              "2020-07-07 00:00:00-03:00    18.539026\n",
              "Name: Adj Close, dtype: float64"
            ]
          },
          "metadata": {},
          "execution_count": 95
        }
      ]
    },
    {
      "cell_type": "markdown",
      "source": [
        "Agora imagina que temos a seguinte missão, precisamos extrair a cotação para todos aqueles papeis de ativos de uma vez e em uma só tabela.\n",
        "\n",
        "Para isso Vamos fazer uso da função 'FOR'"
      ],
      "metadata": {
        "id": "nuT0tyGIUC8A"
      }
    },
    {
      "cell_type": "code",
      "source": [
        "df= pd.DataFrame()"
      ],
      "metadata": {
        "id": "gAM4FJ9_UxnU"
      },
      "execution_count": null,
      "outputs": []
    },
    {
      "cell_type": "code",
      "source": [
        "for acoes in lista_ativos:\n",
        " df [acoes] = yf.download(acoes, start = '2020-07-01', end = '2022-12-29')['Adj Close']"
      ],
      "metadata": {
        "colab": {
          "base_uri": "https://localhost:8080/"
        },
        "id": "B6dN8tg4Ua8s",
        "outputId": "4cb70189-44f4-43de-ac79-1779cd62841b"
      },
      "execution_count": null,
      "outputs": [
        {
          "output_type": "stream",
          "name": "stdout",
          "text": [
            "[*********************100%***********************]  1 of 1 completed\n",
            "[*********************100%***********************]  1 of 1 completed\n",
            "[*********************100%***********************]  1 of 1 completed\n",
            "[*********************100%***********************]  1 of 1 completed\n",
            "[*********************100%***********************]  1 of 1 completed\n",
            "[*********************100%***********************]  1 of 1 completed\n"
          ]
        }
      ]
    },
    {
      "cell_type": "code",
      "source": [
        " df.head()"
      ],
      "metadata": {
        "colab": {
          "base_uri": "https://localhost:8080/",
          "height": 237
        },
        "id": "0fy6a8xbUkMD",
        "outputId": "6fe860ef-4206-44fd-b737-8a14b8b3cab8"
      },
      "execution_count": null,
      "outputs": [
        {
          "output_type": "execute_result",
          "data": {
            "text/plain": [
              "                            PETR4.SA   WEGE3.SA   MGLU3.SA   LREN3.SA  \\\n",
              "Date                                                                    \n",
              "2020-07-01 00:00:00-03:00  10.312016  25.465675  17.938593  39.240791   \n",
              "2020-07-02 00:00:00-03:00  10.478261  25.940218  17.392744  39.269192   \n",
              "2020-07-03 00:00:00-03:00  10.440263  26.148441  17.864159  38.833500   \n",
              "2020-07-06 00:00:00-03:00  10.692008  25.761055  17.861677  40.273190   \n",
              "2020-07-07 00:00:00-03:00  10.559011  26.104853  18.539026  40.481564   \n",
              "\n",
              "                            RENT3.SA   VALE3.SA  \n",
              "Date                                             \n",
              "2020-07-01 00:00:00-03:00  40.923141  40.604481  \n",
              "2020-07-02 00:00:00-03:00  40.961792  41.311745  \n",
              "2020-07-03 00:00:00-03:00  41.261353  41.140511  \n",
              "2020-07-06 00:00:00-03:00  41.792812  42.115791  \n",
              "2020-07-07 00:00:00-03:00  42.527203  41.966892  "
            ],
            "text/html": [
              "\n",
              "  <div id=\"df-b6be9510-787a-4187-a7aa-f894bd46fe72\">\n",
              "    <div class=\"colab-df-container\">\n",
              "      <div>\n",
              "<style scoped>\n",
              "    .dataframe tbody tr th:only-of-type {\n",
              "        vertical-align: middle;\n",
              "    }\n",
              "\n",
              "    .dataframe tbody tr th {\n",
              "        vertical-align: top;\n",
              "    }\n",
              "\n",
              "    .dataframe thead th {\n",
              "        text-align: right;\n",
              "    }\n",
              "</style>\n",
              "<table border=\"1\" class=\"dataframe\">\n",
              "  <thead>\n",
              "    <tr style=\"text-align: right;\">\n",
              "      <th></th>\n",
              "      <th>PETR4.SA</th>\n",
              "      <th>WEGE3.SA</th>\n",
              "      <th>MGLU3.SA</th>\n",
              "      <th>LREN3.SA</th>\n",
              "      <th>RENT3.SA</th>\n",
              "      <th>VALE3.SA</th>\n",
              "    </tr>\n",
              "    <tr>\n",
              "      <th>Date</th>\n",
              "      <th></th>\n",
              "      <th></th>\n",
              "      <th></th>\n",
              "      <th></th>\n",
              "      <th></th>\n",
              "      <th></th>\n",
              "    </tr>\n",
              "  </thead>\n",
              "  <tbody>\n",
              "    <tr>\n",
              "      <th>2020-07-01 00:00:00-03:00</th>\n",
              "      <td>10.312016</td>\n",
              "      <td>25.465675</td>\n",
              "      <td>17.938593</td>\n",
              "      <td>39.240791</td>\n",
              "      <td>40.923141</td>\n",
              "      <td>40.604481</td>\n",
              "    </tr>\n",
              "    <tr>\n",
              "      <th>2020-07-02 00:00:00-03:00</th>\n",
              "      <td>10.478261</td>\n",
              "      <td>25.940218</td>\n",
              "      <td>17.392744</td>\n",
              "      <td>39.269192</td>\n",
              "      <td>40.961792</td>\n",
              "      <td>41.311745</td>\n",
              "    </tr>\n",
              "    <tr>\n",
              "      <th>2020-07-03 00:00:00-03:00</th>\n",
              "      <td>10.440263</td>\n",
              "      <td>26.148441</td>\n",
              "      <td>17.864159</td>\n",
              "      <td>38.833500</td>\n",
              "      <td>41.261353</td>\n",
              "      <td>41.140511</td>\n",
              "    </tr>\n",
              "    <tr>\n",
              "      <th>2020-07-06 00:00:00-03:00</th>\n",
              "      <td>10.692008</td>\n",
              "      <td>25.761055</td>\n",
              "      <td>17.861677</td>\n",
              "      <td>40.273190</td>\n",
              "      <td>41.792812</td>\n",
              "      <td>42.115791</td>\n",
              "    </tr>\n",
              "    <tr>\n",
              "      <th>2020-07-07 00:00:00-03:00</th>\n",
              "      <td>10.559011</td>\n",
              "      <td>26.104853</td>\n",
              "      <td>18.539026</td>\n",
              "      <td>40.481564</td>\n",
              "      <td>42.527203</td>\n",
              "      <td>41.966892</td>\n",
              "    </tr>\n",
              "  </tbody>\n",
              "</table>\n",
              "</div>\n",
              "      <button class=\"colab-df-convert\" onclick=\"convertToInteractive('df-b6be9510-787a-4187-a7aa-f894bd46fe72')\"\n",
              "              title=\"Convert this dataframe to an interactive table.\"\n",
              "              style=\"display:none;\">\n",
              "        \n",
              "  <svg xmlns=\"http://www.w3.org/2000/svg\" height=\"24px\"viewBox=\"0 0 24 24\"\n",
              "       width=\"24px\">\n",
              "    <path d=\"M0 0h24v24H0V0z\" fill=\"none\"/>\n",
              "    <path d=\"M18.56 5.44l.94 2.06.94-2.06 2.06-.94-2.06-.94-.94-2.06-.94 2.06-2.06.94zm-11 1L8.5 8.5l.94-2.06 2.06-.94-2.06-.94L8.5 2.5l-.94 2.06-2.06.94zm10 10l.94 2.06.94-2.06 2.06-.94-2.06-.94-.94-2.06-.94 2.06-2.06.94z\"/><path d=\"M17.41 7.96l-1.37-1.37c-.4-.4-.92-.59-1.43-.59-.52 0-1.04.2-1.43.59L10.3 9.45l-7.72 7.72c-.78.78-.78 2.05 0 2.83L4 21.41c.39.39.9.59 1.41.59.51 0 1.02-.2 1.41-.59l7.78-7.78 2.81-2.81c.8-.78.8-2.07 0-2.86zM5.41 20L4 18.59l7.72-7.72 1.47 1.35L5.41 20z\"/>\n",
              "  </svg>\n",
              "      </button>\n",
              "      \n",
              "  <style>\n",
              "    .colab-df-container {\n",
              "      display:flex;\n",
              "      flex-wrap:wrap;\n",
              "      gap: 12px;\n",
              "    }\n",
              "\n",
              "    .colab-df-convert {\n",
              "      background-color: #E8F0FE;\n",
              "      border: none;\n",
              "      border-radius: 50%;\n",
              "      cursor: pointer;\n",
              "      display: none;\n",
              "      fill: #1967D2;\n",
              "      height: 32px;\n",
              "      padding: 0 0 0 0;\n",
              "      width: 32px;\n",
              "    }\n",
              "\n",
              "    .colab-df-convert:hover {\n",
              "      background-color: #E2EBFA;\n",
              "      box-shadow: 0px 1px 2px rgba(60, 64, 67, 0.3), 0px 1px 3px 1px rgba(60, 64, 67, 0.15);\n",
              "      fill: #174EA6;\n",
              "    }\n",
              "\n",
              "    [theme=dark] .colab-df-convert {\n",
              "      background-color: #3B4455;\n",
              "      fill: #D2E3FC;\n",
              "    }\n",
              "\n",
              "    [theme=dark] .colab-df-convert:hover {\n",
              "      background-color: #434B5C;\n",
              "      box-shadow: 0px 1px 3px 1px rgba(0, 0, 0, 0.15);\n",
              "      filter: drop-shadow(0px 1px 2px rgba(0, 0, 0, 0.3));\n",
              "      fill: #FFFFFF;\n",
              "    }\n",
              "  </style>\n",
              "\n",
              "      <script>\n",
              "        const buttonEl =\n",
              "          document.querySelector('#df-b6be9510-787a-4187-a7aa-f894bd46fe72 button.colab-df-convert');\n",
              "        buttonEl.style.display =\n",
              "          google.colab.kernel.accessAllowed ? 'block' : 'none';\n",
              "\n",
              "        async function convertToInteractive(key) {\n",
              "          const element = document.querySelector('#df-b6be9510-787a-4187-a7aa-f894bd46fe72');\n",
              "          const dataTable =\n",
              "            await google.colab.kernel.invokeFunction('convertToInteractive',\n",
              "                                                     [key], {});\n",
              "          if (!dataTable) return;\n",
              "\n",
              "          const docLinkHtml = 'Like what you see? Visit the ' +\n",
              "            '<a target=\"_blank\" href=https://colab.research.google.com/notebooks/data_table.ipynb>data table notebook</a>'\n",
              "            + ' to learn more about interactive tables.';\n",
              "          element.innerHTML = '';\n",
              "          dataTable['output_type'] = 'display_data';\n",
              "          await google.colab.output.renderOutput(dataTable, element);\n",
              "          const docLink = document.createElement('div');\n",
              "          docLink.innerHTML = docLinkHtml;\n",
              "          element.appendChild(docLink);\n",
              "        }\n",
              "      </script>\n",
              "    </div>\n",
              "  </div>\n",
              "  "
            ]
          },
          "metadata": {},
          "execution_count": 101
        }
      ]
    },
    {
      "cell_type": "code",
      "source": [
        "df.plot()"
      ],
      "metadata": {
        "colab": {
          "base_uri": "https://localhost:8080/",
          "height": 295
        },
        "id": "u2OlbVETVkqI",
        "outputId": "820d4e76-815a-48a5-a9b3-716216b1effe"
      },
      "execution_count": null,
      "outputs": [
        {
          "output_type": "execute_result",
          "data": {
            "text/plain": [
              "<matplotlib.axes._subplots.AxesSubplot at 0x7f92224723a0>"
            ]
          },
          "metadata": {},
          "execution_count": 102
        },
        {
          "output_type": "display_data",
          "data": {
            "text/plain": [
              "<Figure size 432x288 with 1 Axes>"
            ],
            "image/png": "[encoded data removed]"
          },
          "metadata": {
            "needs_background": "light"
          }
        }
      ]
    },
    {
      "cell_type": "markdown",
      "source": [
        "### 10.2 While "
      ],
      "metadata": {
        "id": "XZrNqah7Vul_"
      }
    },
    {
      "cell_type": "markdown",
      "source": [
        "O While vem do ingles 'enquanto', o que por sua vez é muito sugestivo. Exp: Enquanto alguma condição for verdadeira ele vai realizar uma ação. Quando essa ação nao for mais verdadeira, ele vai tomar outra Ação"
      ],
      "metadata": {
        "id": "_j7qa2ar9nk7"
      }
    },
    {
      "cell_type": "markdown",
      "source": [
        "Imagine uma varivael que lhe traga um valor constante de um determinado Papel"
      ],
      "metadata": {
        "id": "u2HNTgaZ-NgL"
      }
    },
    {
      "cell_type": "markdown",
      "source": [
        "Com o auxilio dessa estrutura a baixo  é possivel acompanhar e realizar a venda de um ativo no momento em que esse ativo bater o valor que seja previsto em suas analises de mercado para compra ou venda "
      ],
      "metadata": {
        "id": "fE3RJ_L6LOMU"
      }
    },
    {
      "cell_type": "code",
      "source": [
        "preco_vale = 30"
      ],
      "metadata": {
        "id": "thS9cQBTAvN9"
      },
      "execution_count": null,
      "outputs": []
    },
    {
      "cell_type": "code",
      "source": [
        "while preco_vale < 39:\n",
        "  print(\"Ainda não atingiu o preço alvo, espere. O preço atual é: \", preco_vale)\n",
        "  preco_vale = preco_vale*1.01\n",
        " \n",
        "else:\n",
        "   print(\"preço alvo atingido, hora de vender! Preço da venda: \", preco_vale)"
      ],
      "metadata": {
        "colab": {
          "base_uri": "https://localhost:8080/"
        },
        "id": "8bItDfUsBK7L",
        "outputId": "13a0de4d-23e6-4dc9-ea82-d343cb01d7d5"
      },
      "execution_count": null,
      "outputs": [
        {
          "output_type": "stream",
          "name": "stdout",
          "text": [
            "Ainda não atingiu o preço alvo, espere. O preço atual é:  30\n",
            "Ainda não atingiu o preço alvo, espere. O preço atual é:  30.3\n",
            "Ainda não atingiu o preço alvo, espere. O preço atual é:  30.603\n",
            "Ainda não atingiu o preço alvo, espere. O preço atual é:  30.90903\n",
            "Ainda não atingiu o preço alvo, espere. O preço atual é:  31.218120300000002\n",
            "Ainda não atingiu o preço alvo, espere. O preço atual é:  31.530301503000004\n",
            "Ainda não atingiu o preço alvo, espere. O preço atual é:  31.845604518030004\n",
            "Ainda não atingiu o preço alvo, espere. O preço atual é:  32.164060563210306\n",
            "Ainda não atingiu o preço alvo, espere. O preço atual é:  32.48570116884241\n",
            "Ainda não atingiu o preço alvo, espere. O preço atual é:  32.81055818053083\n",
            "Ainda não atingiu o preço alvo, espere. O preço atual é:  33.138663762336144\n",
            "Ainda não atingiu o preço alvo, espere. O preço atual é:  33.470050399959504\n",
            "Ainda não atingiu o preço alvo, espere. O preço atual é:  33.804750903959096\n",
            "Ainda não atingiu o preço alvo, espere. O preço atual é:  34.14279841299869\n",
            "Ainda não atingiu o preço alvo, espere. O preço atual é:  34.48422639712867\n",
            "Ainda não atingiu o preço alvo, espere. O preço atual é:  34.82906866109996\n",
            "Ainda não atingiu o preço alvo, espere. O preço atual é:  35.17735934771096\n",
            "Ainda não atingiu o preço alvo, espere. O preço atual é:  35.529132941188074\n",
            "Ainda não atingiu o preço alvo, espere. O preço atual é:  35.88442427059996\n",
            "Ainda não atingiu o preço alvo, espere. O preço atual é:  36.243268513305956\n",
            "Ainda não atingiu o preço alvo, espere. O preço atual é:  36.605701198439014\n",
            "Ainda não atingiu o preço alvo, espere. O preço atual é:  36.9717582104234\n",
            "Ainda não atingiu o preço alvo, espere. O preço atual é:  37.34147579252764\n",
            "Ainda não atingiu o preço alvo, espere. O preço atual é:  37.714890550452914\n",
            "Ainda não atingiu o preço alvo, espere. O preço atual é:  38.09203945595744\n",
            "Ainda não atingiu o preço alvo, espere. O preço atual é:  38.472959850517015\n",
            "Ainda não atingiu o preço alvo, espere. O preço atual é:  38.85768944902218\n",
            "preço alvo atingido, hora de vender! Preço da venda:  39.2462663435124\n"
          ]
        }
      ]
    },
    {
      "cell_type": "markdown",
      "source": [
        "Agora imagine que você quer fazer um investimento de 10.000R$, porém a cada operação que fazemos devemos registrar ela em algum lugar. Então aqui vamos constuir um while que mostra o quanto estamos perto para bater o nosso valor estipulado"
      ],
      "metadata": {
        "id": "rmAkUQrnC6fk"
      }
    },
    {
      "cell_type": "markdown",
      "source": [
        "Com essa pequena estrutua a baixo é possivel automatizar os investimentos a medida que formos registrando os nossos investimentos \n"
      ],
      "metadata": {
        "id": "ygnhUSdzK6wV"
      }
    },
    {
      "cell_type": "code",
      "source": [
        "investimento_unitario = 0\n",
        "investimento_total = 0"
      ],
      "metadata": {
        "id": "MwjMtyP7H-nu"
      },
      "execution_count": null,
      "outputs": []
    },
    {
      "cell_type": "code",
      "source": [
        "while investimento_total < 10000:\n",
        " investimento_unitario = int(input(\"Digite o valor que foi investido na operação\"))\n",
        " investimento_total = investimento_total + investimento_unitario\n",
        "\n",
        "else:\n",
        "  print(\"Limite total previsto para investir foi atingido\")\n",
        "  print(\"você excedeu\", investimento_total-10000, \"Do valor previsto\")\n",
        "\n",
        "print(\"Você investiu o total de R$\", investimento_total)"
      ],
      "metadata": {
        "colab": {
          "base_uri": "https://localhost:8080/"
        },
        "id": "V1YlWDCJIKst",
        "outputId": "f5f3065c-7229-4e38-a0c7-080d15f97b39"
      },
      "execution_count": null,
      "outputs": [
        {
          "output_type": "stream",
          "name": "stdout",
          "text": [
            "Digite o valor que foi investido na operação3500\n",
            "Digite o valor que foi investido na operação2000\n",
            "Digite o valor que foi investido na operação5000\n",
            "Limite total previsto para investir foi atingido\n",
            "você excedeu 500 Do valor previsto\n",
            "Você investiu o total de R$ 10500\n"
          ]
        }
      ]
    },
    {
      "cell_type": "markdown",
      "source": [
        "### 11.0 Alguns Outros Operadores que são uteis nas tarefas de estrutura de repetição"
      ],
      "metadata": {
        "id": "l7SEx4qRKNXv"
      }
    },
    {
      "cell_type": "markdown",
      "source": [
        "11.1 Range, no iglês ele possui uma conotação de intervalo. "
      ],
      "metadata": {
        "id": "Tf2LR1qQPSRH"
      }
    },
    {
      "cell_type": "code",
      "source": [
        "range(0,11)"
      ],
      "metadata": {
        "colab": {
          "base_uri": "https://localhost:8080/"
        },
        "id": "oJ9wvlAIPgM_",
        "outputId": "758bf37d-ae49-4873-eeeb-c2bd720cefaf"
      },
      "execution_count": null,
      "outputs": [
        {
          "output_type": "execute_result",
          "data": {
            "text/plain": [
              "range(0, 11)"
            ]
          },
          "metadata": {},
          "execution_count": 16
        }
      ]
    },
    {
      "cell_type": "code",
      "source": [
        "list(range(0, 11))"
      ],
      "metadata": {
        "colab": {
          "base_uri": "https://localhost:8080/"
        },
        "id": "g1MCZ0gFQ1TN",
        "outputId": "98b8df0c-77ce-45da-aacd-58f9357712a3"
      },
      "execution_count": null,
      "outputs": [
        {
          "output_type": "execute_result",
          "data": {
            "text/plain": [
              "[0, 1, 2, 3, 4, 5, 6, 7, 8, 9, 10]"
            ]
          },
          "metadata": {},
          "execution_count": 19
        }
      ]
    },
    {
      "cell_type": "code",
      "source": [
        "for i in range(0, 11):\n",
        "  print(i)  "
      ],
      "metadata": {
        "colab": {
          "base_uri": "https://localhost:8080/"
        },
        "id": "W9bwdHwVRS_s",
        "outputId": "b142df8f-1899-44f7-8b48-108eea729c57"
      },
      "execution_count": null,
      "outputs": [
        {
          "output_type": "stream",
          "name": "stdout",
          "text": [
            "0\n",
            "1\n",
            "2\n",
            "3\n",
            "4\n",
            "5\n",
            "6\n",
            "7\n",
            "8\n",
            "9\n",
            "10\n"
          ]
        }
      ]
    },
    {
      "cell_type": "markdown",
      "source": [
        "Lembrando de uma caracteristica do paython que o 1° numero do intervalo no caso o  ( 0 ) é inclusivo, e o 2° numero (11) é exclusivo. Logo ele não vai ate o numero 11 propriamente dito, vai ate o numero (10)"
      ],
      "metadata": {
        "id": "yaPUAJHiRpga"
      }
    },
    {
      "cell_type": "markdown",
      "source": [
        "###11.2 Enumerate "
      ],
      "metadata": {
        "id": "vm7aYa4dSTGG"
      }
    },
    {
      "cell_type": "markdown",
      "source": [
        "É responsavel por enumerar os caracters dentro de uma estrutura"
      ],
      "metadata": {
        "id": "s_cpAy8L5s-1"
      }
    },
    {
      "cell_type": "markdown",
      "source": [
        "Para criar uma estrutura de repitição com o FOR pra exibir cada um dos caracteres dentro da ação. \n",
        "\n",
        "Primeiro passo, vamos criar uma variavel que se chama 'Index_count = 0' que começa com 0. Essa interação é responsavel por mostrar essa variavel chamada de 'Index_count = 0', e por fazer a interação ou indice de cada letra da acao(PETR4).\n",
        "\n",
        "Depois vamos criar um loop com o: \"FOR\", para cada letra na minha string acao, escreva ('No indice', index_count, ' O caracter é', letra)\n",
        "\n",
        "No index_count estamos falando que: A cada interação ou a cada loop que entrar com o \"For\" ele vai acresentando o valor do index count em 1"
      ],
      "metadata": {
        "id": "UFuolLIaDH60"
      }
    },
    {
      "cell_type": "code",
      "source": [
        "acao = 'PETR4'"
      ],
      "metadata": {
        "id": "QKrTGeYF50Le"
      },
      "execution_count": null,
      "outputs": []
    },
    {
      "cell_type": "code",
      "source": [
        "index_count = 0\n",
        "\n",
        "for letra in acao:\n",
        "  print(\"No indice\", index_count, \"O caractere é \", letra)\n",
        "  index_count += 1"
      ],
      "metadata": {
        "colab": {
          "base_uri": "https://localhost:8080/"
        },
        "id": "uXRr9GKODBpo",
        "outputId": "9255279f-d76b-4076-a263-540d7afd70ab"
      },
      "execution_count": null,
      "outputs": [
        {
          "output_type": "stream",
          "name": "stdout",
          "text": [
            "No indice 0 O caractere é  P\n",
            "No indice 1 O caractere é  E\n",
            "No indice 2 O caractere é  T\n",
            "No indice 3 O caractere é  R\n",
            "No indice 4 O caractere é  4\n"
          ]
        }
      ]
    },
    {
      "cell_type": "markdown",
      "source": [
        "Agora com o uso do operado 'enumerate'"
      ],
      "metadata": {
        "id": "_dJEKVBMHXOU"
      }
    },
    {
      "cell_type": "code",
      "source": [
        "enumerate(acao)"
      ],
      "metadata": {
        "colab": {
          "base_uri": "https://localhost:8080/"
        },
        "id": "1pSYq4bxHmSG",
        "outputId": "63b525d5-e39d-499d-b4b2-66c32706796e"
      },
      "execution_count": null,
      "outputs": [
        {
          "output_type": "execute_result",
          "data": {
            "text/plain": [
              "<enumerate at 0x7efcfa27b640>"
            ]
          },
          "metadata": {},
          "execution_count": 6
        }
      ]
    },
    {
      "cell_type": "markdown",
      "source": [
        "Aqui em cima podemos vê uma mensagem de erro de exibição. \n",
        "\n",
        "Isso porque até como vimos anteriormente no Range, por se tratar de um operador que armazena as informações na memoria do Python ele não esta explicitando o que esta fazendo. Para ele poder explicitar o que está sendo feito é necessario colocarlo dentro de uma lista."
      ],
      "metadata": {
        "id": "fHIZo-G6Hqd5"
      }
    },
    {
      "cell_type": "code",
      "source": [
        "list(enumerate(acao))"
      ],
      "metadata": {
        "colab": {
          "base_uri": "https://localhost:8080/"
        },
        "id": "APOeVtihIkiq",
        "outputId": "1949184c-1bca-4a38-cc36-aae0610e808e"
      },
      "execution_count": null,
      "outputs": [
        {
          "output_type": "execute_result",
          "data": {
            "text/plain": [
              "[(0, 'P'), (1, 'E'), (2, 'T'), (3, 'R'), (4, '4')]"
            ]
          },
          "metadata": {},
          "execution_count": 7
        }
      ]
    },
    {
      "cell_type": "markdown",
      "source": [
        "Tambem é possivel usar a função \"Enumerate\" junto com a função \"For\" "
      ],
      "metadata": {
        "id": "s10lzBmCInhe"
      }
    },
    {
      "cell_type": "code",
      "source": [
        "for i, letra in enumerate(acao):\n",
        "  print(\"No indice\", i,  \"O caractere é \", letra)"
      ],
      "metadata": {
        "colab": {
          "base_uri": "https://localhost:8080/"
        },
        "id": "fZKHqTYCI5hC",
        "outputId": "56aef912-bd46-4d1e-fcb2-bc9138d95780"
      },
      "execution_count": null,
      "outputs": [
        {
          "output_type": "stream",
          "name": "stdout",
          "text": [
            "No indice 0 O caractere é  P\n",
            "No indice 1 O caractere é  E\n",
            "No indice 2 O caractere é  T\n",
            "No indice 3 O caractere é  R\n",
            "No indice 4 O caractere é  4\n"
          ]
        }
      ]
    },
    {
      "cell_type": "markdown",
      "source": [
        "###11.3 Zip"
      ],
      "metadata": {
        "id": "LsUGxAZFJYUv"
      }
    },
    {
      "cell_type": "markdown",
      "source": [
        "Supondo que temos duas listas abaixo. Uma com nome de ações e outra com os setores de cada ação "
      ],
      "metadata": {
        "id": "pONVK40EhKbs"
      }
    },
    {
      "cell_type": "code",
      "source": [
        "acoes = ['PETR4', 'WEGE3', 'MGLU3', 'JHSF3', 'GOAU4']\n",
        "setores = ['Petróleo', 'Motores', 'Varejo','Construção','Metalurgia']"
      ],
      "metadata": {
        "id": "VMdzhKz-hb5c"
      },
      "execution_count": null,
      "outputs": []
    },
    {
      "cell_type": "code",
      "source": [
        "list(zip(acoes, setores)) "
      ],
      "metadata": {
        "colab": {
          "base_uri": "https://localhost:8080/"
        },
        "id": "hve7XY_zh8uS",
        "outputId": "cd993d11-7042-4486-857d-1164afcf5f74"
      },
      "execution_count": null,
      "outputs": [
        {
          "output_type": "execute_result",
          "data": {
            "text/plain": [
              "[('PETR4', 'Petróleo'),\n",
              " ('WEGE3', 'Motores'),\n",
              " ('MGLU3', 'Varejo'),\n",
              " ('JHSF3', 'Construção'),\n",
              " ('GOAU4', 'Metalurgia')]"
            ]
          },
          "metadata": {},
          "execution_count": 6
        }
      ]
    },
    {
      "cell_type": "code",
      "source": [
        "for acao, setor in list(zip(acoes, setores)):\n",
        "  print('O papel', acao,'pertence ao setor', setor)"
      ],
      "metadata": {
        "colab": {
          "base_uri": "https://localhost:8080/"
        },
        "id": "RrQXMG07iFWu",
        "outputId": "3b777b6c-28fa-4960-8473-5add82aefa82"
      },
      "execution_count": null,
      "outputs": [
        {
          "output_type": "stream",
          "name": "stdout",
          "text": [
            "O papel PETR4 pertence ao setor Petróleo\n",
            "O papel WEGE3 pertence ao setor Motores\n",
            "O papel MGLU3 pertence ao setor Varejo\n",
            "O papel JHSF3 pertence ao setor Construção\n",
            "O papel GOAU4 pertence ao setor Metalurgia\n"
          ]
        }
      ]
    },
    {
      "cell_type": "code",
      "source": [
        "for acao, setor in list(zip(acoes, setores)):\n",
        "  print(f'O papel {acao} pertence ao setor  {setor}')"
      ],
      "metadata": {
        "colab": {
          "base_uri": "https://localhost:8080/"
        },
        "id": "7z6FdlvVi1HP",
        "outputId": "f6c02634-5e3c-4dcd-8dae-f571ea5c8836"
      },
      "execution_count": null,
      "outputs": [
        {
          "output_type": "stream",
          "name": "stdout",
          "text": [
            "O papel PETR4 pertence ao setor  Petróleo\n",
            "O papel WEGE3 pertence ao setor  Motores\n",
            "O papel MGLU3 pertence ao setor  Varejo\n",
            "O papel JHSF3 pertence ao setor  Construção\n",
            "O papel GOAU4 pertence ao setor  Metalurgia\n"
          ]
        }
      ]
    },
    {
      "cell_type": "markdown",
      "source": [
        "## 11.4 Operador  IN"
      ],
      "metadata": {
        "id": "d3vNdTFmjIcd"
      }
    },
    {
      "cell_type": "code",
      "source": [
        "'VIVR3' in acoes "
      ],
      "metadata": {
        "colab": {
          "base_uri": "https://localhost:8080/"
        },
        "id": "uSg0cMLikt-K",
        "outputId": "aba5498b-769b-4d39-b9c4-a24e92617c3e"
      },
      "execution_count": null,
      "outputs": [
        {
          "output_type": "execute_result",
          "data": {
            "text/plain": [
              "False"
            ]
          },
          "metadata": {},
          "execution_count": 14
        }
      ]
    },
    {
      "cell_type": "code",
      "source": [
        "'WEGE3' in acoes"
      ],
      "metadata": {
        "colab": {
          "base_uri": "https://localhost:8080/"
        },
        "id": "xpfTz33Kk0qi",
        "outputId": "628102db-a3f9-48be-a3fb-08f1d8f79c64"
      },
      "execution_count": null,
      "outputs": [
        {
          "output_type": "execute_result",
          "data": {
            "text/plain": [
              "True"
            ]
          },
          "metadata": {},
          "execution_count": 16
        }
      ]
    },
    {
      "cell_type": "markdown",
      "source": [
        "## 11.5 Random "
      ],
      "metadata": {
        "id": "rAefgbZyk473"
      }
    },
    {
      "cell_type": "markdown",
      "source": [
        "Do ingles aleatorio ou randomico. Com ele é possivel criar listas ou trazer varios elementos aleatorios de acordo com algumas condições pre estabelecidas."
      ],
      "metadata": {
        "id": "p8xmFaNAlC9M"
      }
    },
    {
      "cell_type": "markdown",
      "source": [
        "imagine a seguinte tarefa, precisamos criar uma lista com 10 numeros aleatorios e esses numeros aleatorios tem de está entre (0 e 100 )"
      ],
      "metadata": {
        "id": "jhWqOszald4j"
      }
    },
    {
      "cell_type": "code",
      "source": [
        "from random import randint, shuffle"
      ],
      "metadata": {
        "id": "noqm4npvlVar"
      },
      "execution_count": null,
      "outputs": []
    },
    {
      "cell_type": "markdown",
      "source": [
        "randint ( Cria numeros alatorios )"
      ],
      "metadata": {
        "id": "bCAKtMcqlsta"
      }
    },
    {
      "cell_type": "code",
      "source": [
        "randint (0,100)"
      ],
      "metadata": {
        "colab": {
          "base_uri": "https://localhost:8080/"
        },
        "id": "tubr9Kuhlzhm",
        "outputId": "494fb4d7-ce50-46e5-fc07-63c2e467442a"
      },
      "execution_count": null,
      "outputs": [
        {
          "output_type": "execute_result",
          "data": {
            "text/plain": [
              "79"
            ]
          },
          "metadata": {},
          "execution_count": 20
        }
      ]
    },
    {
      "cell_type": "markdown",
      "source": [
        "Agora imagine (10) numero alatorios em ordem crescente.\n",
        "\n",
        "Pra isso primeiro é necessario criar um Loop ( For).\n",
        "\n",
        "Mas antes é necessario criar uma lista para alocar esses numeros \n"
      ],
      "metadata": {
        "id": "MQI-RtRAl5ep"
      }
    },
    {
      "cell_type": "code",
      "source": [
        "lista_rand = []\n",
        "\n",
        "for i in range(0,10):\n",
        "  lista_rand.append(randint(0,100))"
      ],
      "metadata": {
        "id": "zXxYu9hGmCYc"
      },
      "execution_count": null,
      "outputs": []
    },
    {
      "cell_type": "code",
      "source": [
        "lista_rand "
      ],
      "metadata": {
        "colab": {
          "base_uri": "https://localhost:8080/"
        },
        "id": "N4SH_7-zmf2l",
        "outputId": "436eb519-ffa9-4e5c-b196-2db0f16ac169"
      },
      "execution_count": null,
      "outputs": [
        {
          "output_type": "execute_result",
          "data": {
            "text/plain": [
              "[67, 95, 12, 92, 79, 92, 8, 84, 18, 64]"
            ]
          },
          "metadata": {},
          "execution_count": 25
        }
      ]
    },
    {
      "cell_type": "markdown",
      "source": [
        "Com a função shuffle, é possivel embaralhar a ordem de uma lista ou local que foi alocado as informações "
      ],
      "metadata": {
        "id": "nek6o11IqFwY"
      }
    },
    {
      "cell_type": "code",
      "source": [
        "shuffle(lista_rand)"
      ],
      "metadata": {
        "id": "MAD0EbgdnhXk"
      },
      "execution_count": null,
      "outputs": []
    },
    {
      "cell_type": "code",
      "source": [
        "lista_rand"
      ],
      "metadata": {
        "colab": {
          "base_uri": "https://localhost:8080/"
        },
        "id": "U_olu0UXp73S",
        "outputId": "fed84456-f14f-4a8b-e849-a36992bec285"
      },
      "execution_count": null,
      "outputs": [
        {
          "output_type": "execute_result",
          "data": {
            "text/plain": [
              "[79, 64, 95, 12, 92, 18, 67, 84, 92, 8]"
            ]
          },
          "metadata": {},
          "execution_count": 29
        }
      ]
    },
    {
      "cell_type": "markdown",
      "source": [
        "##11.6 min e max "
      ],
      "metadata": {
        "id": "SbN5H7yMqB_z"
      }
    },
    {
      "cell_type": "markdown",
      "source": [
        "Imagine que você quer o numero minimo da 'Lista_rand'"
      ],
      "metadata": {
        "id": "JSqxGKCesGWj"
      }
    },
    {
      "cell_type": "code",
      "source": [
        "min(lista_rand)"
      ],
      "metadata": {
        "colab": {
          "base_uri": "https://localhost:8080/"
        },
        "id": "riHLUf22sLHq",
        "outputId": "61887a0e-23cd-438a-ce5f-291c51b67ae4"
      },
      "execution_count": null,
      "outputs": [
        {
          "output_type": "execute_result",
          "data": {
            "text/plain": [
              "8"
            ]
          },
          "metadata": {},
          "execution_count": 31
        }
      ]
    },
    {
      "cell_type": "markdown",
      "source": [
        "Imagine que você quer o numero maximo da 'Lista_rand'"
      ],
      "metadata": {
        "id": "16RR0o0HsO-7"
      }
    },
    {
      "cell_type": "code",
      "source": [
        "max(lista_rand)"
      ],
      "metadata": {
        "colab": {
          "base_uri": "https://localhost:8080/"
        },
        "id": "K17vFdAzsVCW",
        "outputId": "e38eabc6-194f-47ee-ed91-c9e37636f0f6"
      },
      "execution_count": null,
      "outputs": [
        {
          "output_type": "execute_result",
          "data": {
            "text/plain": [
              "95"
            ]
          },
          "metadata": {},
          "execution_count": 33
        }
      ]
    },
    {
      "cell_type": "markdown",
      "source": [
        "## 11.7 input "
      ],
      "metadata": {
        "id": "rpMKDSb9sXoC"
      }
    },
    {
      "cell_type": "markdown",
      "source": [
        "O input é uma função que busca trazer o input do usario que está excultando o codigo "
      ],
      "metadata": {
        "id": "2VvIlUZusij-"
      }
    },
    {
      "cell_type": "markdown",
      "source": [
        "Imagine que você quer fazer uma interação com o usario que deseja realizar a compra de uma ação "
      ],
      "metadata": {
        "id": "UoGZoYs5s5eJ"
      }
    },
    {
      "cell_type": "code",
      "source": [
        "acao = input('Por favor insira o nome da ação que você deseja comprar: ')"
      ],
      "metadata": {
        "colab": {
          "base_uri": "https://localhost:8080/"
        },
        "id": "68PhPHKUtEDu",
        "outputId": "1828b4f5-541f-4ca7-bbb1-4e4c12ef0a81"
      },
      "execution_count": null,
      "outputs": [
        {
          "name": "stdout",
          "output_type": "stream",
          "text": [
            "Por favor insira o nome da ação que você deseja comprar: MGLU3\n"
          ]
        }
      ]
    },
    {
      "cell_type": "code",
      "source": [
        "acao"
      ],
      "metadata": {
        "colab": {
          "base_uri": "https://localhost:8080/",
          "height": 35
        },
        "id": "KpTOKAzntQDX",
        "outputId": "c3101644-494f-4e9c-f610-e627ae10e6eb"
      },
      "execution_count": null,
      "outputs": [
        {
          "output_type": "execute_result",
          "data": {
            "text/plain": [
              "'MGLU3'"
            ],
            "application/vnd.google.colaboratory.intrinsic+json": {
              "type": "string"
            }
          },
          "metadata": {},
          "execution_count": 36
        }
      ]
    },
    {
      "cell_type": "code",
      "source": [
        "print(f'O Você deseja comprar o papel {acao}')"
      ],
      "metadata": {
        "colab": {
          "base_uri": "https://localhost:8080/"
        },
        "id": "gvBwIRwftXf9",
        "outputId": "5764639d-62f3-4e69-8144-d3b719c5de64"
      },
      "execution_count": null,
      "outputs": [
        {
          "output_type": "stream",
          "name": "stdout",
          "text": [
            "O Você deseja comprar o papel MGLU3\n"
          ]
        }
      ]
    },
    {
      "cell_type": "markdown",
      "source": [
        "## 12.0 List Comprehension (Compreensão de Lista)"
      ],
      "metadata": {
        "id": "SR-E4987tnOC"
      }
    },
    {
      "cell_type": "code",
      "source": [
        "acao = 'MGLU3'"
      ],
      "metadata": {
        "id": "SJEeO-9TveTP"
      },
      "execution_count": null,
      "outputs": []
    },
    {
      "cell_type": "markdown",
      "source": [
        "fragmentando em letras com uso do loop "
      ],
      "metadata": {
        "id": "3T_gsZRLuXXu"
      }
    },
    {
      "cell_type": "code",
      "source": [
        "for caractere in acao:\n",
        "  print(caractere)"
      ],
      "metadata": {
        "colab": {
          "base_uri": "https://localhost:8080/"
        },
        "id": "a1o9GGcbueJo",
        "outputId": "b4494fac-9f26-46ae-901d-c15c6fe43a0d"
      },
      "execution_count": null,
      "outputs": [
        {
          "output_type": "stream",
          "name": "stdout",
          "text": [
            "M\n",
            "G\n",
            "L\n",
            "U\n",
            "3\n"
          ]
        }
      ]
    },
    {
      "cell_type": "markdown",
      "source": [
        "Agora cada letra em elementos separados dentro de uma lista"
      ],
      "metadata": {
        "id": "8LXbghPgukrY"
      }
    },
    {
      "cell_type": "code",
      "source": [
        "lista_caracteres =[]"
      ],
      "metadata": {
        "id": "-JgIwzmUu3l8"
      },
      "execution_count": null,
      "outputs": []
    },
    {
      "cell_type": "code",
      "source": [
        "for caractere in acao:\n",
        " lista_caracteres.append(caractere)"
      ],
      "metadata": {
        "id": "2yIA9WsjvAdn"
      },
      "execution_count": null,
      "outputs": []
    },
    {
      "cell_type": "code",
      "source": [
        "lista_caracteres"
      ],
      "metadata": {
        "colab": {
          "base_uri": "https://localhost:8080/"
        },
        "id": "TuUFQ6ksvPOf",
        "outputId": "842adcd0-174e-40c9-de6b-a76fa3638373"
      },
      "execution_count": null,
      "outputs": [
        {
          "output_type": "execute_result",
          "data": {
            "text/plain": [
              "['M', 'G', 'L', 'U', '3']"
            ]
          },
          "metadata": {},
          "execution_count": 8
        }
      ]
    },
    {
      "cell_type": "code",
      "source": [
        "[caractere for caractere in acao]"
      ],
      "metadata": {
        "id": "2IrvD_ctvRbn",
        "colab": {
          "base_uri": "https://localhost:8080/"
        },
        "outputId": "e0694020-8926-4403-a604-44b956538692"
      },
      "execution_count": null,
      "outputs": [
        {
          "output_type": "execute_result",
          "data": {
            "text/plain": [
              "['M', 'G', 'L', 'U', '3']"
            ]
          },
          "metadata": {},
          "execution_count": 9
        }
      ]
    },
    {
      "cell_type": "code",
      "source": [
        "list_num = []\n",
        "\n",
        "for num in range(0,11):\n",
        " list_num.append(num**2)"
      ],
      "metadata": {
        "id": "9Zuir-lKjCVX"
      },
      "execution_count": null,
      "outputs": []
    },
    {
      "cell_type": "code",
      "source": [
        "list_num"
      ],
      "metadata": {
        "colab": {
          "base_uri": "https://localhost:8080/"
        },
        "id": "DUA8xj2lj2kV",
        "outputId": "e07ef3b3-c536-48c7-adbd-5125e9f25371"
      },
      "execution_count": null,
      "outputs": [
        {
          "output_type": "execute_result",
          "data": {
            "text/plain": [
              "[0, 1, 4, 9, 16, 25, 36, 49, 64, 81, 100]"
            ]
          },
          "metadata": {},
          "execution_count": 16
        }
      ]
    },
    {
      "cell_type": "markdown",
      "source": [
        "  Transformando agoa em uma compreensão de lista << "
      ],
      "metadata": {
        "id": "eSSYuX2Nkjk5"
      }
    },
    {
      "cell_type": "code",
      "source": [
        "[num**2 for num in range(0,11)]"
      ],
      "metadata": {
        "colab": {
          "base_uri": "https://localhost:8080/"
        },
        "id": "4JJRntPuk1sf",
        "outputId": "c9715694-997a-4c29-c31b-e79e2d413b54"
      },
      "execution_count": null,
      "outputs": [
        {
          "output_type": "execute_result",
          "data": {
            "text/plain": [
              "[0, 1, 4, 9, 16, 25, 36, 49, 64, 81, 100]"
            ]
          },
          "metadata": {},
          "execution_count": 17
        }
      ]
    },
    {
      "cell_type": "markdown",
      "source": [
        "O mesmo resultado com menos codigo"
      ],
      "metadata": {
        "id": "YJtulkwXlCIv"
      }
    },
    {
      "cell_type": "markdown",
      "source": [
        "## 13.0 Funções e Métodos"
      ],
      "metadata": {
        "id": "S9iL8DA-mMsi"
      }
    },
    {
      "cell_type": "markdown",
      "source": [
        "Vamos usar agora um dos principais componetes do python vistos ate agora \n",
        "\n",
        "Essencialmente metodos são funções, mas nem todas as funções são metodos. "
      ],
      "metadata": {
        "id": "0sOwo8f-mVAQ"
      }
    },
    {
      "cell_type": "markdown",
      "source": [
        "Funções são comandos que recebem um ou mais imput ou argumentos, e fazendo uso desses imputs é retornado um resultado um output, baseado com o que colocamos de argumentos. \n",
        "\n",
        "\n",
        "Basicamente as funçoes são componetes no python que exercem a tarefa de modificar e criar novos elementos com base em condições previas e com base em argumentos que passamos para essa funções. \n",
        "\n",
        "\n",
        "Para reconhecer uma função, quando a chamamos podemos reconhecer a presença de () "
      ],
      "metadata": {
        "id": "lFDQBTzJmleg"
      }
    },
    {
      "cell_type": "markdown",
      "source": [
        "Vamos criar uma função que vai falar o nome "
      ],
      "metadata": {
        "id": "h_Omio_5mkes"
      }
    },
    {
      "cell_type": "code",
      "source": [
        "def fala_nome():\n",
        "  print('Meu nome é Alexandre')"
      ],
      "metadata": {
        "id": "WYpAX3ARoMZR"
      },
      "execution_count": null,
      "outputs": []
    },
    {
      "cell_type": "code",
      "source": [
        "fala_nome()"
      ],
      "metadata": {
        "colab": {
          "base_uri": "https://localhost:8080/"
        },
        "id": "tbdypiHloXjk",
        "outputId": "1b62d605-ad56-40e5-f844-45687589d879"
      },
      "execution_count": null,
      "outputs": [
        {
          "output_type": "stream",
          "name": "stdout",
          "text": [
            "Meu nome é Alexandre\n"
          ]
        }
      ]
    },
    {
      "cell_type": "code",
      "source": [
        "def soma_numeros(num1, num2):\n",
        "  soma = num1 + num2\n",
        "  return soma"
      ],
      "metadata": {
        "id": "rRmYJHpcoZOc"
      },
      "execution_count": null,
      "outputs": []
    },
    {
      "cell_type": "code",
      "source": [
        "soma_numeros(500, 81851)"
      ],
      "metadata": {
        "colab": {
          "base_uri": "https://localhost:8080/"
        },
        "id": "VfbzRpG31O_5",
        "outputId": "e010241c-cbeb-438f-c05a-c69925945bf7"
      },
      "execution_count": null,
      "outputs": [
        {
          "output_type": "execute_result",
          "data": {
            "text/plain": [
              "82351"
            ]
          },
          "metadata": {},
          "execution_count": 26
        }
      ]
    },
    {
      "cell_type": "markdown",
      "source": [
        "Ainda é possivel usar esse valor de soma_numeros, em uma nova variavel."
      ],
      "metadata": {
        "id": "__XFaa4k1X2J"
      }
    },
    {
      "cell_type": "code",
      "source": [
        "novo_objeto = soma_numeros(500, 81851)"
      ],
      "metadata": {
        "id": "9iLfpApF14Jm"
      },
      "execution_count": null,
      "outputs": []
    },
    {
      "cell_type": "code",
      "source": [
        "novo_objeto"
      ],
      "metadata": {
        "colab": {
          "base_uri": "https://localhost:8080/"
        },
        "id": "zk-86E9p1_dv",
        "outputId": "8ba3cd3e-1765-4154-f43d-1bd7a4a60179"
      },
      "execution_count": null,
      "outputs": [
        {
          "output_type": "execute_result",
          "data": {
            "text/plain": [
              "82351"
            ]
          },
          "metadata": {},
          "execution_count": 29
        }
      ]
    },
    {
      "cell_type": "markdown",
      "source": [
        "vamos agora complicar um pouco mais:\n",
        "\n",
        "Imagine que estamos participando de um projeto que é preciso receber nomes de papeis diferentes, e de acordo com os papeis que forem inseridos na função vamos retornar o valor em tempo real do valor daqule papel."
      ],
      "metadata": {
        "id": "1CAAjmjH2CqT"
      }
    },
    {
      "cell_type": "code",
      "source": [
        "def preco(acao):\n",
        "  if (acao == 'PETR4'):\n",
        "    print('O preço agora é 30,89R$')\n",
        "  elif (acao == 'VALE3'):\n",
        "    print('O preço agora é 112,20R$')\n",
        "  elif (acao == 'WEG3'):\n",
        "    print('O preço agora é 39R$')\n",
        "  elif (acao == 'MGLU3'):\n",
        "    print('O preço agora é 50,89R$')\n",
        "  else:\n",
        "    print('O papel é desconhecido')"
      ],
      "metadata": {
        "id": "ZsqazsXA2lvu"
      },
      "execution_count": null,
      "outputs": []
    },
    {
      "cell_type": "code",
      "source": [
        "preco('PETR4')"
      ],
      "metadata": {
        "colab": {
          "base_uri": "https://localhost:8080/"
        },
        "id": "s3h72pBk5Cg6",
        "outputId": "340ba742-f021-4ac4-d95b-20e8a24a6bc3"
      },
      "execution_count": null,
      "outputs": [
        {
          "output_type": "stream",
          "name": "stdout",
          "text": [
            "O preço agora é 30,89R$\n"
          ]
        }
      ]
    },
    {
      "cell_type": "markdown",
      "source": [
        " Essa estrutura pode ser automatizada, recbendo alguns termos mais complexos. Mas essa função retorna um output que o usuario determinou "
      ],
      "metadata": {
        "id": "-mZTHLlZ5JBp"
      }
    },
    {
      "cell_type": "markdown",
      "source": [
        "## 13.1 Criando Docstring em uma função "
      ],
      "metadata": {
        "id": "zLodtgaw5Vr4"
      }
    },
    {
      "cell_type": "markdown",
      "source": [
        "O comando Docsrting ajuda a gente saber o que aquela função esta realizando."
      ],
      "metadata": {
        "id": "NTkdLspi5jfF"
      }
    },
    {
      "cell_type": "markdown",
      "source": [
        "Imagine que futuramente estamos expandindo um grande projeto dentro de uma empresa, que precisa catalogar todas essas ações principalmente para ter bem catalogado esse historico de codigos"
      ],
      "metadata": {
        "id": "enPvP8ac54De"
      }
    },
    {
      "cell_type": "code",
      "source": [
        "def preco(acao):\n",
        "\n",
        "  ''' ESSA FUNÇÃO DEVE SER UTILIZADA PARA RETORNAR A COTAÇÃO EM TEMPO REAL DE UM PAPEL '''\n",
        "\n",
        "  if (acao == 'PETR4'):\n",
        "    print('O preço agora é 30,89R$')\n",
        "  elif (acao == 'VALE3'):\n",
        "    print('O preço agora é 112,20R$')\n",
        "  elif (acao == 'WEG3'):\n",
        "    print('O preço agora é 39R$')\n",
        "  elif (acao == 'MGLU3'):\n",
        "    print('O preço agora é 50,89R$')\n",
        "  else:\n",
        "    print('O papel é desconhecido')"
      ],
      "metadata": {
        "id": "Ldlr7Dmc6P3q"
      },
      "execution_count": null,
      "outputs": []
    },
    {
      "cell_type": "code",
      "source": [
        "preco() "
      ],
      "metadata": {
        "id": "5r-eWmHB6gqW"
      },
      "execution_count": null,
      "outputs": []
    },
    {
      "cell_type": "markdown",
      "source": [
        "Os Métodos são funções, so que são funções exclusivas para determinados tipos de objetos \n",
        "\n",
        "Exp: Existem metodos que só são utilizados com listas.\n",
        " "
      ],
      "metadata": {
        "id": "_8sRDN4a6mlB"
      }
    },
    {
      "cell_type": "code",
      "source": [
        "numeros = [1, 2, 6, 7, 8, 9, 10]"
      ],
      "metadata": {
        "id": "teHRqXnvlKCt"
      },
      "execution_count": null,
      "outputs": []
    },
    {
      "cell_type": "markdown",
      "source": [
        "Apartit do momento que você chamar essa lista 'numeros'com a presença do '.', o Google colab já vai sugerir varias funções exclusivas para essa lista.\n",
        "\n",
        "Ex. append(5)- Essa função vai acrescentar o numero 5 a lista "
      ],
      "metadata": {
        "id": "SWZYl4UelinH"
      }
    },
    {
      "cell_type": "code",
      "source": [
        "numeros.append(5)"
      ],
      "metadata": {
        "id": "GFBIsa2RmI4T"
      },
      "execution_count": null,
      "outputs": []
    },
    {
      "cell_type": "code",
      "source": [
        "numeros"
      ],
      "metadata": {
        "colab": {
          "base_uri": "https://localhost:8080/"
        },
        "id": "OJw7uPdmmNmf",
        "outputId": "557aee2f-e28c-495b-9bf2-3a087b157e21"
      },
      "execution_count": null,
      "outputs": [
        {
          "output_type": "execute_result",
          "data": {
            "text/plain": [
              "[1, 2, 6, 7, 8, 9, 10, 5]"
            ]
          },
          "metadata": {},
          "execution_count": 3
        }
      ]
    },
    {
      "cell_type": "markdown",
      "source": [
        "Essa vantagem do google colab vem com a vantagem de exibir os métodos na propria digitação, basta colocar o ponto.\n",
        "\n",
        "Se tiver utilizando o jupyter, para exbir o metodo após o ponto é preciso apertar 'Shift'.'Tab' \n",
        "\n",
        "\n",
        "E no caso de está usando outra 'ide' e ainda sim queira sabaer de todos os metodos disponiveis, bastar utilizar o comando 'dir()', com a lista dentro do parenteses. \n",
        "\n",
        "Exp a baixo"
      ],
      "metadata": {
        "id": "cdxTXQKnmOaS"
      }
    },
    {
      "cell_type": "code",
      "source": [
        "dir(numeros)"
      ],
      "metadata": {
        "colab": {
          "base_uri": "https://localhost:8080/"
        },
        "id": "5w9xFuULquk6",
        "outputId": "ba777169-6760-478c-de43-b153470e845a"
      },
      "execution_count": null,
      "outputs": [
        {
          "output_type": "execute_result",
          "data": {
            "text/plain": [
              "['__add__',\n",
              " '__class__',\n",
              " '__contains__',\n",
              " '__delattr__',\n",
              " '__delitem__',\n",
              " '__dir__',\n",
              " '__doc__',\n",
              " '__eq__',\n",
              " '__format__',\n",
              " '__ge__',\n",
              " '__getattribute__',\n",
              " '__getitem__',\n",
              " '__gt__',\n",
              " '__hash__',\n",
              " '__iadd__',\n",
              " '__imul__',\n",
              " '__init__',\n",
              " '__init_subclass__',\n",
              " '__iter__',\n",
              " '__le__',\n",
              " '__len__',\n",
              " '__lt__',\n",
              " '__mul__',\n",
              " '__ne__',\n",
              " '__new__',\n",
              " '__reduce__',\n",
              " '__reduce_ex__',\n",
              " '__repr__',\n",
              " '__reversed__',\n",
              " '__rmul__',\n",
              " '__setattr__',\n",
              " '__setitem__',\n",
              " '__sizeof__',\n",
              " '__str__',\n",
              " '__subclasshook__',\n",
              " 'append',\n",
              " 'clear',\n",
              " 'copy',\n",
              " 'count',\n",
              " 'extend',\n",
              " 'index',\n",
              " 'insert',\n",
              " 'pop',\n",
              " 'remove',\n",
              " 'reverse',\n",
              " 'sort']"
            ]
          },
          "metadata": {},
          "execution_count": 4
        }
      ]
    },
    {
      "cell_type": "markdown",
      "source": [
        "### 14.0 Funções embutidas"
      ],
      "metadata": {
        "id": "Co_YjN_gqxfl"
      }
    },
    {
      "cell_type": "markdown",
      "source": [
        "No paython temos essa noção, onde podemos passar uma função para dentro de uma outra função. E para que essa função seja execultada em mais de um objeto ao mesmo tempo. "
      ],
      "metadata": {
        "id": "dSYh7zOJ0qwq"
      }
    },
    {
      "cell_type": "markdown",
      "source": [
        "MAP- Como o nome já diz ela vem do ingles 'mapa', e literamente ela mapeia objetos iteraveis, para que você consiga execultar uma função em todos os objetos que são iteraveis\n",
        "\n",
        "Exp. Se você tem uma lista você consegue aplicar uma função para todos os objetos dentro dessa lista, sem ter que execultar essa função varias vezes\n",
        "\n",
        "Observe o Exemplo a baixo:\n"
      ],
      "metadata": {
        "id": "Zl_ig1lw1Dol"
      }
    },
    {
      "cell_type": "code",
      "source": [
        "def potencia(num, pot):\n",
        "  return num**pot"
      ],
      "metadata": {
        "id": "bf049P_m3CQH"
      },
      "execution_count": null,
      "outputs": []
    },
    {
      "cell_type": "markdown",
      "source": [
        "No python temos uma caracteristica muito importante, que é o fato de podermos pré definir o valor de um argumento:\n",
        "\n",
        "Então podemos colocar 'POT = 2', e dessa forma caso não fosse apresentado outro argumento dentro da função, ele ira priorizar o primeiro argumento setado no caso 'POT = 2'"
      ],
      "metadata": {
        "id": "uRH9-tcD3PGG"
      }
    },
    {
      "cell_type": "code",
      "source": [
        "def potencia(num, pot=2):\n",
        "  return num**pot"
      ],
      "metadata": {
        "id": "1jbpUfwH3eFK"
      },
      "execution_count": null,
      "outputs": []
    },
    {
      "cell_type": "code",
      "source": [
        "potencia(4)"
      ],
      "metadata": {
        "colab": {
          "base_uri": "https://localhost:8080/"
        },
        "id": "9VOPI1FK9KCH",
        "outputId": "6cf9ced1-0e35-423f-fe4d-3389db503143"
      },
      "execution_count": null,
      "outputs": [
        {
          "output_type": "execute_result",
          "data": {
            "text/plain": [
              "16"
            ]
          },
          "metadata": {},
          "execution_count": 21
        }
      ]
    },
    {
      "cell_type": "markdown",
      "source": [
        "Também é possivel determinar uma potencia"
      ],
      "metadata": {
        "id": "pgiAzWyl9VMR"
      }
    },
    {
      "cell_type": "code",
      "source": [
        "potencia(4,3)"
      ],
      "metadata": {
        "colab": {
          "base_uri": "https://localhost:8080/"
        },
        "id": "SfpPW9s29NL8",
        "outputId": "e8917231-b148-4fee-90e9-57082031dfd0"
      },
      "execution_count": null,
      "outputs": [
        {
          "output_type": "execute_result",
          "data": {
            "text/plain": [
              "64"
            ]
          },
          "metadata": {},
          "execution_count": 22
        }
      ]
    },
    {
      "cell_type": "code",
      "source": [
        "lista_numeros = [1, 2, 3, 4, 5, 6]"
      ],
      "metadata": {
        "id": "U9I_XoVZ9vFa"
      },
      "execution_count": null,
      "outputs": []
    },
    {
      "cell_type": "code",
      "source": [
        "list(map(potencia, lista_numeros))"
      ],
      "metadata": {
        "colab": {
          "base_uri": "https://localhost:8080/"
        },
        "id": "XxJP6Dj-_WnV",
        "outputId": "067f5a0e-a7ba-4f9a-b0fc-ddb286353c80"
      },
      "execution_count": null,
      "outputs": [
        {
          "output_type": "execute_result",
          "data": {
            "text/plain": [
              "[1, 4, 9, 16, 25, 36]"
            ]
          },
          "metadata": {},
          "execution_count": 24
        }
      ]
    },
    {
      "cell_type": "markdown",
      "source": [
        "## 14.1 Função Filter "
      ],
      "metadata": {
        "id": "O0MpSvSc_fIN"
      }
    },
    {
      "cell_type": "markdown",
      "source": [
        "A filter é parecida com a função Map, so que ao inves de aplicar uma função em varios objetos ela filtra os objetos com condições pré determinadas "
      ],
      "metadata": {
        "id": "NKIZNgMp-8lQ"
      }
    },
    {
      "cell_type": "code",
      "source": [
        "def checar_par(num):\n",
        "  return num%2 ==0"
      ],
      "metadata": {
        "id": "Vba76q___VgX"
      },
      "execution_count": null,
      "outputs": []
    },
    {
      "cell_type": "code",
      "source": [
        "checar_par(2)"
      ],
      "metadata": {
        "colab": {
          "base_uri": "https://localhost:8080/"
        },
        "id": "5hl6oUgl_hq9",
        "outputId": "66b0049a-8922-4b99-ae46-d36cd0e09703"
      },
      "execution_count": null,
      "outputs": [
        {
          "output_type": "execute_result",
          "data": {
            "text/plain": [
              "True"
            ]
          },
          "metadata": {},
          "execution_count": 26
        }
      ]
    },
    {
      "cell_type": "code",
      "source": [
        "list(filter(checar_par, lista_numeros))"
      ],
      "metadata": {
        "colab": {
          "base_uri": "https://localhost:8080/"
        },
        "id": "9NmmFF4r_ltB",
        "outputId": "0afda898-70fd-49af-d32b-ae03b366b329"
      },
      "execution_count": null,
      "outputs": [
        {
          "output_type": "execute_result",
          "data": {
            "text/plain": [
              "[2, 4, 6]"
            ]
          },
          "metadata": {},
          "execution_count": 27
        }
      ]
    },
    {
      "cell_type": "markdown",
      "source": [
        "## 15.0 Funções Anônimas: Lambda"
      ],
      "metadata": {
        "id": "_13deuBS_6eW"
      }
    },
    {
      "cell_type": "code",
      "source": [
        "def quadrado(num):\n",
        "  return num**2"
      ],
      "metadata": {
        "id": "zpbWJqYhCbzE"
      },
      "execution_count": null,
      "outputs": []
    },
    {
      "cell_type": "code",
      "source": [
        "quadrado (4) "
      ],
      "metadata": {
        "colab": {
          "base_uri": "https://localhost:8080/"
        },
        "id": "OZhuFssLCicA",
        "outputId": "1c2064d3-637a-4fb3-9ab6-817f789b2fe6"
      },
      "execution_count": null,
      "outputs": [
        {
          "output_type": "execute_result",
          "data": {
            "text/plain": [
              "16"
            ]
          },
          "metadata": {},
          "execution_count": 29
        }
      ]
    },
    {
      "cell_type": "code",
      "source": [
        "lambda num: num**2"
      ],
      "metadata": {
        "colab": {
          "base_uri": "https://localhost:8080/"
        },
        "id": "gLWJayZlCq_k",
        "outputId": "797dd671-ea74-4f34-fc4f-8a2b9cf9e7ed"
      },
      "execution_count": null,
      "outputs": [
        {
          "output_type": "execute_result",
          "data": {
            "text/plain": [
              "<function __main__.<lambda>(num)>"
            ]
          },
          "metadata": {},
          "execution_count": 30
        }
      ]
    },
    {
      "cell_type": "code",
      "source": [
        "quadrado_lambda = lambda num: num**2\n"
      ],
      "metadata": {
        "id": "VKptzG1ICxPD"
      },
      "execution_count": null,
      "outputs": []
    },
    {
      "cell_type": "code",
      "source": [
        "quadrado_lambda (5)"
      ],
      "metadata": {
        "colab": {
          "base_uri": "https://localhost:8080/"
        },
        "id": "i74KLX15C43W",
        "outputId": "d53689ea-3679-4126-f08a-780ea3d8d9c9"
      },
      "execution_count": null,
      "outputs": [
        {
          "output_type": "execute_result",
          "data": {
            "text/plain": [
              "25"
            ]
          },
          "metadata": {},
          "execution_count": 32
        }
      ]
    },
    {
      "cell_type": "code",
      "source": [
        "list(map(quadrado_lambda, lista_numeros))"
      ],
      "metadata": {
        "colab": {
          "base_uri": "https://localhost:8080/"
        },
        "id": "wQlZt04xC6-4",
        "outputId": "114ea953-97bf-44e7-dd15-57b899e024f9"
      },
      "execution_count": null,
      "outputs": [
        {
          "output_type": "execute_result",
          "data": {
            "text/plain": [
              "[1, 4, 9, 16, 25, 36]"
            ]
          },
          "metadata": {},
          "execution_count": 33
        }
      ]
    },
    {
      "cell_type": "code",
      "source": [
        "list(filter(lambda num: num%2 ==0, lista_numeros))"
      ],
      "metadata": {
        "colab": {
          "base_uri": "https://localhost:8080/"
        },
        "id": "t0RqwHwdDCGz",
        "outputId": "b95d40bf-b083-401f-dd3f-d2ceb0f5bf4a"
      },
      "execution_count": null,
      "outputs": [
        {
          "output_type": "execute_result",
          "data": {
            "text/plain": [
              "[2, 4, 6]"
            ]
          },
          "metadata": {},
          "execution_count": 34
        }
      ]
    },
    {
      "cell_type": "markdown",
      "source": [
        "## 16.0 Escopo das variáveis"
      ],
      "metadata": {
        "id": "HcPLOKw2DpPX"
      }
    },
    {
      "cell_type": "markdown",
      "source": [
        "Uma coisa que devemos ficamos muito atentos quando criamos codigos muito grandes, são os valores que estamos atribuindo as variaveis. É necessario termos atenção porque podemos atrubir um valor a uma determinada variavel dentro de uma função, e um outro valor fora de uma função. Nesse caso o python vai entender que são variaveis separadas."
      ],
      "metadata": {
        "id": "f3tWU07PG4wV"
      }
    },
    {
      "cell_type": "code",
      "source": [
        "## Escopo Global\n",
        "\n",
        "x = 25"
      ],
      "metadata": {
        "id": "nxGdJlDZA5KV"
      },
      "execution_count": 2,
      "outputs": []
    },
    {
      "cell_type": "code",
      "source": [
        "def printer():\n",
        " x = 50\n",
        " return x"
      ],
      "metadata": {
        "id": "aX80r03WA7lx"
      },
      "execution_count": 8,
      "outputs": []
    },
    {
      "cell_type": "code",
      "source": [
        "x"
      ],
      "metadata": {
        "colab": {
          "base_uri": "https://localhost:8080/"
        },
        "id": "90di-sofBmeV",
        "outputId": "0d50d4b4-b35f-4aa8-8efd-b8962a14d411"
      },
      "execution_count": 9,
      "outputs": [
        {
          "output_type": "execute_result",
          "data": {
            "text/plain": [
              "25"
            ]
          },
          "metadata": {},
          "execution_count": 9
        }
      ]
    },
    {
      "cell_type": "markdown",
      "source": [
        "Valores que São defindo dentro de funções não são valores globais "
      ],
      "metadata": {
        "id": "6PkmAxZdCS_n"
      }
    },
    {
      "cell_type": "code",
      "source": [
        "printer()"
      ],
      "metadata": {
        "colab": {
          "base_uri": "https://localhost:8080/"
        },
        "id": "gzMDg4oGBvqw",
        "outputId": "d2471cf2-291d-44a4-a25a-cb363adfd270"
      },
      "execution_count": 10,
      "outputs": [
        {
          "output_type": "execute_result",
          "data": {
            "text/plain": [
              "50"
            ]
          },
          "metadata": {},
          "execution_count": 10
        }
      ]
    },
    {
      "cell_type": "markdown",
      "source": [
        "### 17.0  Args"
      ],
      "metadata": {
        "id": "8pHgjALn4TO_"
      }
    },
    {
      "cell_type": "code",
      "source": [
        "def soma_varios(a,b,c):\n",
        "  soma =sum((a,b,c))\n",
        "  return soma "
      ],
      "metadata": {
        "id": "kzCbvb1b4YSf"
      },
      "execution_count": 1,
      "outputs": []
    },
    {
      "cell_type": "code",
      "source": [
        "soma_varios (1,2,3)"
      ],
      "metadata": {
        "colab": {
          "base_uri": "https://localhost:8080/"
        },
        "id": "slQ9eXE14yUA",
        "outputId": "e6c14a9d-dbff-4f4b-dc47-b2030aec111b"
      },
      "execution_count": 4,
      "outputs": [
        {
          "output_type": "execute_result",
          "data": {
            "text/plain": [
              "6"
            ]
          },
          "metadata": {},
          "execution_count": 4
        }
      ]
    },
    {
      "cell_type": "code",
      "source": [
        "def soma_varios(a,b,c,d,e):\n",
        "  soma =sum((a,b,c,d,e))\n",
        "  return soma "
      ],
      "metadata": {
        "id": "IHtQ3XT6407O"
      },
      "execution_count": 5,
      "outputs": []
    },
    {
      "cell_type": "code",
      "source": [
        "soma_varios(1,5,6,8,4)"
      ],
      "metadata": {
        "colab": {
          "base_uri": "https://localhost:8080/"
        },
        "id": "T5iOrQm_5Nst",
        "outputId": "5470b078-e27b-4987-fada-0589d92b77c2"
      },
      "execution_count": 6,
      "outputs": [
        {
          "output_type": "execute_result",
          "data": {
            "text/plain": [
              "24"
            ]
          },
          "metadata": {},
          "execution_count": 6
        }
      ]
    },
    {
      "cell_type": "code",
      "source": [],
      "metadata": {
        "id": "9s1viC736By-"
      },
      "execution_count": null,
      "outputs": []
    },
    {
      "cell_type": "markdown",
      "source": [
        "Com a função args é possivel fazer operações de soma com numeros sem limites definidos ..\n",
        "\n",
        "Com o comando args conseguimos colocar uma quantidade de numeros arbitrarios sem ficar preocupado com quantia de argumentos que foi expecificada para a função.\n",
        "\n",
        "Basta colocar o args dentro do argumento da função."
      ],
      "metadata": {
        "id": "v0cbaT6s6AY6"
      }
    },
    {
      "cell_type": "code",
      "source": [
        "def soma_varios(*args):\n",
        "  soma = sum(args)\n",
        "  return soma"
      ],
      "metadata": {
        "id": "1Zi4-Z9d5Qiv"
      },
      "execution_count": 7,
      "outputs": []
    },
    {
      "cell_type": "code",
      "source": [
        "soma_varios(100+51515+181141.51+28151)"
      ],
      "metadata": {
        "colab": {
          "base_uri": "https://localhost:8080/"
        },
        "id": "hTUJoWFC595q",
        "outputId": "e08d2594-2fec-4819-aa19-96df2701aaf7"
      },
      "execution_count": 8,
      "outputs": [
        {
          "output_type": "execute_result",
          "data": {
            "text/plain": [
              "260907.51"
            ]
          },
          "metadata": {},
          "execution_count": 8
        }
      ]
    },
    {
      "cell_type": "markdown",
      "source": [
        "### 18.0 Kwargs (*)\n"
      ],
      "metadata": {
        "id": "e96tq4Xt7LHb"
      }
    },
    {
      "cell_type": "markdown",
      "source": [
        "Kwargs são como dicionarios, nele utilizamos pares de chaves e valores dentro das funções."
      ],
      "metadata": {
        "id": "evWrIOFfNd3z"
      }
    },
    {
      "cell_type": "markdown",
      "source": [
        "Suponha que queremos criar uma função chamada compra de ações que de acordo com o input do usuario vai dizer a ação que ele comprou e ou caso não mencione nenhuma ação vai retornar que essa pessoa não comprou nenhuma ação ou não é investidor "
      ],
      "metadata": {
        "id": "yJb92__YNwdh"
      }
    },
    {
      "cell_type": "code",
      "source": [
        "def compra_de_acoes(**kwargs):\n",
        "  if 'acao' in kwargs:\n",
        "    print('A ação comprada foi ', kwargs['acao'])\n",
        "  else:\n",
        "    print('O cliente não investe em ações')"
      ],
      "metadata": {
        "id": "cd1-E29_OQAl"
      },
      "execution_count": 18,
      "outputs": []
    },
    {
      "cell_type": "code",
      "source": [
        "compra_de_acoes(acao = 'PETR4')"
      ],
      "metadata": {
        "colab": {
          "base_uri": "https://localhost:8080/"
        },
        "id": "84KRVn_vPMSz",
        "outputId": "9c15f262-b60c-46d7-c9be-4a9343ebff2f"
      },
      "execution_count": 19,
      "outputs": [
        {
          "output_type": "stream",
          "name": "stdout",
          "text": [
            "A ação comprada foi  PETR4\n"
          ]
        }
      ]
    },
    {
      "cell_type": "code",
      "source": [
        "compra_de_acoes()"
      ],
      "metadata": {
        "colab": {
          "base_uri": "https://localhost:8080/"
        },
        "id": "LEd2tSvfQhTa",
        "outputId": "cf5646ef-2e1e-4ea0-b990-5b95138a0ec5"
      },
      "execution_count": 20,
      "outputs": [
        {
          "output_type": "stream",
          "name": "stdout",
          "text": [
            "O cliente não investe em ações\n"
          ]
        }
      ]
    },
    {
      "cell_type": "code",
      "source": [
        "def compra_de_acoes(**kwargs):\n",
        "  if 'acao' in kwargs:\n",
        "    print('A ação comprada foi ', kwargs['acao'])\n",
        "  else:\n",
        "    print('O cliente não investe em ações')"
      ],
      "metadata": {
        "id": "wwwW6EStQzgt"
      },
      "execution_count": 21,
      "outputs": []
    },
    {
      "cell_type": "code",
      "source": [
        "compra_de_acoes(acao = 'MGLU3')"
      ],
      "metadata": {
        "colab": {
          "base_uri": "https://localhost:8080/"
        },
        "id": "K5mNDHO_RraG",
        "outputId": "f9e90612-5aee-495e-90fb-5094dffd8344"
      },
      "execution_count": 22,
      "outputs": [
        {
          "output_type": "stream",
          "name": "stdout",
          "text": [
            "A ação comprada foi  MGLU3\n"
          ]
        }
      ]
    },
    {
      "cell_type": "markdown",
      "source": [
        "É possivel ainda usar Args e kwargs no mesmo comando ou na mesma celula.\n",
        "\n",
        "Suponha que precisamos criar um painel para uma corretora que vai exibir de forma dinamica as posições que os clientes estão montando"
      ],
      "metadata": {
        "id": "lvqUshMaRxIW"
      }
    },
    {
      "cell_type": "code",
      "source": [
        "def montagem_de_posicao(*args,**kwargs):\n",
        "  if 'acao' and 'lote' in kwargs:\n",
        "    print('O Cliente montou uma posição de ', ' é ' .join(kwargs['acao']))\n",
        "    print('Ele comprou ', ' e ' .join(args), 'papéis, respectivamente')\n",
        "    print('Todas elas foram compradas no lote', kwargs['lote'])"
      ],
      "metadata": {
        "id": "stuiuGYMUYTN"
      },
      "execution_count": 29,
      "outputs": []
    },
    {
      "cell_type": "code",
      "source": [
        "montagem_de_posicao('100', '200', acao = ('PETR4', 'VALE3'), lote = 'inteiro' )"
      ],
      "metadata": {
        "colab": {
          "base_uri": "https://localhost:8080/"
        },
        "id": "cMn9hLqeVzWh",
        "outputId": "9fcb6dd5-cf2c-4d1a-9a63-b5ae8f318dfe"
      },
      "execution_count": 30,
      "outputs": [
        {
          "output_type": "stream",
          "name": "stdout",
          "text": [
            "O Cliente montou uma posição de  PETR4 é VALE3\n",
            "Ele comprou  100 e 200 papéis, respectivamente\n",
            "Todas elas foram compradas no lote inteiro\n"
          ]
        }
      ]
    },
    {
      "cell_type": "code",
      "source": [
        "  "
      ],
      "metadata": {
        "id": "y5drRyIRWJTE"
      },
      "execution_count": 25,
      "outputs": []
    },
    {
      "cell_type": "code",
      "source": [],
      "metadata": {
        "id": "UdhW4fScWhuG"
      },
      "execution_count": null,
      "outputs": []
    }
  ]
}