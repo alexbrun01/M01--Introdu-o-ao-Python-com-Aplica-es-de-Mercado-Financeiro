{
  "cells": [
    {
      "cell_type": "markdown",
      "metadata": {
        "id": "view-in-github",
        "colab_type": "text"
      },
      "source": [
        "<a href=\"https://colab.research.google.com/github/alexbrun01/httpsM01--Introdu-o-ao-Python-com-Aplica-es-de-Mercado-Financeiro/blob/main/M01_pt2_Introdu%C3%A7%C3%A3o_a_Bibliotecas.ipynb\" target=\"_parent\"><img src=\"https://colab.research.google.com/assets/colab-badge.svg\" alt=\"Open In Colab\"/></a>"
      ]
    },
    {
      "cell_type": "markdown",
      "metadata": {
        "id": "uXNRnmV2Wg1G"
      },
      "source": [
        "## 1. Importando bibliotecas"
      ]
    },
    {
      "cell_type": "code",
      "execution_count": null,
      "metadata": {
        "colab": {
          "background_save": true
        },
        "id": "QE_iba7pnXeH"
      },
      "outputs": [],
      "source": [
        "import pandas as pd\n",
        "import numpy as np "
      ]
    },
    {
      "cell_type": "markdown",
      "metadata": {
        "id": "rtM5Qq4incZq"
      },
      "source": [
        "## 2. Numpy "
      ]
    },
    {
      "cell_type": "markdown",
      "metadata": {
        "id": "3E16C4NmP8ot"
      },
      "source": [
        "Array, é algo parecido com uma lista, mas é utilizado para trabalhar matematicamente. "
      ]
    },
    {
      "cell_type": "code",
      "execution_count": null,
      "metadata": {
        "colab": {
          "background_save": true
        },
        "id": "SJTIXBshnqJq"
      },
      "outputs": [],
      "source": [
        "array_1 = np.array([1,2,3,4])"
      ]
    },
    {
      "cell_type": "markdown",
      "metadata": {
        "id": "_Ay6brkXRDnz"
      },
      "source": [
        "array são indexivael "
      ]
    },
    {
      "cell_type": "code",
      "execution_count": null,
      "metadata": {
        "colab": {
          "background_save": true
        },
        "id": "2fnIaPojoOXt"
      },
      "outputs": [],
      "source": [
        "array_1"
      ]
    },
    {
      "cell_type": "code",
      "execution_count": null,
      "metadata": {
        "colab": {
          "background_save": true
        },
        "id": "i7B4LDqFRtb-"
      },
      "outputs": [],
      "source": [
        "array_1[1]"
      ]
    },
    {
      "cell_type": "markdown",
      "metadata": {
        "id": "lZY5WEiMQ4As"
      },
      "source": [
        "Os arrays possui atributos unicos, como por exemplo de um array ser criado com condições específicas. Observe abaixo  "
      ]
    },
    {
      "cell_type": "markdown",
      "metadata": {
        "id": "7oxzfYY_QE7R"
      },
      "source": [
        "No comando np.zeros a quantidade de vezes que o numero zero vai se repetir, e é inserido o numero de vezes dentro \" () \"  "
      ]
    },
    {
      "cell_type": "code",
      "execution_count": null,
      "metadata": {
        "colab": {
          "background_save": true
        },
        "id": "PJn6TzO5oQWa"
      },
      "outputs": [],
      "source": [
        "np.zeros(10)"
      ]
    },
    {
      "cell_type": "markdown",
      "metadata": {
        "id": "vX1uOyl4Sh7q"
      },
      "source": [
        "Esse ponto atrás do zero é por padrão os arrays do numpy, cria objetos como se fossem float e não como inteiros(intgs). \n",
        "\n",
        "Diferente de como viamos nas listas. Possui a presença do ponto, mas ainda sim siginifica zero."
      ]
    },
    {
      "cell_type": "markdown",
      "metadata": {
        "id": "oQC2PmGTiAqg"
      },
      "source": [
        "arrys possui atributos muito interessantes , o qual é denominado nesse exemplo com o a = np\n",
        "\n",
        "A função \"shape\" retorna a forma do array "
      ]
    },
    {
      "cell_type": "code",
      "execution_count": null,
      "metadata": {
        "colab": {
          "background_save": true
        },
        "id": "Qfx29rcPiZ2B"
      },
      "outputs": [],
      "source": [
        "a = np.zeros(10)"
      ]
    },
    {
      "cell_type": "code",
      "execution_count": null,
      "metadata": {
        "colab": {
          "background_save": true
        },
        "id": "IwM7hMGZTxAO"
      },
      "outputs": [],
      "source": [
        "a.shape"
      ]
    },
    {
      "cell_type": "markdown",
      "metadata": {
        "id": "ONoDjx1GUW2o"
      },
      "source": [
        "Sabemos que o array possui (10,0)= numeros. Porém ele possui uma dimensão só, logo é diferente de uma matriz. Logo com auxilo da função shape é possivel modificar a forma, ao inves de se trabalhar apenas como linha, agora é possivel transformar em coluna "
      ]
    },
    {
      "cell_type": "code",
      "execution_count": null,
      "metadata": {
        "colab": {
          "background_save": true
        },
        "id": "M8s0YEdRiJsv"
      },
      "outputs": [],
      "source": [
        "a"
      ]
    },
    {
      "cell_type": "markdown",
      "metadata": {
        "id": "Ypg8uiW4VEEa"
      },
      "source": [
        "No exemplo a cima temos (10) numeros em uma linha, logo possui uma dimensão. Agora vamos tornala em matriz com duas dimensões "
      ]
    },
    {
      "cell_type": "code",
      "execution_count": null,
      "metadata": {
        "id": "pVfJGAO1j4m7"
      },
      "outputs": [],
      "source": [
        "a.shape = (10,1)"
      ]
    },
    {
      "cell_type": "code",
      "execution_count": null,
      "metadata": {
        "colab": {
          "base_uri": "https://localhost:8080/"
        },
        "id": "8MkIunffj_MQ",
        "outputId": "e494d595-c6d9-4849-feb2-5d412edfa481"
      },
      "outputs": [
        {
          "data": {
            "text/plain": [
              "array([[0.],\n",
              "       [0.],\n",
              "       [0.],\n",
              "       [0.],\n",
              "       [0.],\n",
              "       [0.],\n",
              "       [0.],\n",
              "       [0.],\n",
              "       [0.],\n",
              "       [0.]])"
            ]
          },
          "execution_count": 181,
          "metadata": {},
          "output_type": "execute_result"
        }
      ],
      "source": [
        "a"
      ]
    },
    {
      "cell_type": "markdown",
      "metadata": {
        "id": "poml7GEZVZay"
      },
      "source": [
        "Da mesma forma como criamos arrays com (0), Também podemos criar um outro array com outro numero"
      ]
    },
    {
      "cell_type": "code",
      "execution_count": null,
      "metadata": {
        "id": "3MMb-sHunDju"
      },
      "outputs": [],
      "source": [
        "b = np.ones(20)"
      ]
    },
    {
      "cell_type": "code",
      "execution_count": null,
      "metadata": {
        "colab": {
          "base_uri": "https://localhost:8080/"
        },
        "id": "_QNun_mRnO9M",
        "outputId": "563aa470-3d7d-46a7-e37d-536006186f73"
      },
      "outputs": [
        {
          "data": {
            "text/plain": [
              "array([1., 1., 1., 1., 1., 1., 1., 1., 1., 1., 1., 1., 1., 1., 1., 1., 1.,\n",
              "       1., 1., 1.])"
            ]
          },
          "execution_count": 183,
          "metadata": {},
          "output_type": "execute_result"
        }
      ],
      "source": [
        "b"
      ]
    },
    {
      "cell_type": "code",
      "execution_count": null,
      "metadata": {
        "id": "pdtttUAmnaug"
      },
      "outputs": [],
      "source": [
        "#Tambem é possivel criar arrays com conjuntos vazios "
      ]
    },
    {
      "cell_type": "code",
      "execution_count": null,
      "metadata": {
        "id": "yO-pnwpFnq3w"
      },
      "outputs": [],
      "source": [
        "c = np.empty (4)"
      ]
    },
    {
      "cell_type": "code",
      "execution_count": null,
      "metadata": {
        "colab": {
          "base_uri": "https://localhost:8080/"
        },
        "id": "A86LRKg0nwZ4",
        "outputId": "ce90f5a1-70d1-4d8e-ff52-f02200071c7d"
      },
      "outputs": [
        {
          "data": {
            "text/plain": [
              "array([2.6000691e-316, 0.0000000e+000, 5.4347221e-322, 0.0000000e+000])"
            ]
          },
          "execution_count": 186,
          "metadata": {},
          "output_type": "execute_result"
        }
      ],
      "source": [
        "c"
      ]
    },
    {
      "cell_type": "code",
      "execution_count": null,
      "metadata": {
        "id": "bqCaqMScnxX5"
      },
      "outputs": [],
      "source": [
        "lista = [1, 2, 3, 4, 5]"
      ]
    },
    {
      "cell_type": "code",
      "execution_count": null,
      "metadata": {
        "id": "XFunEWHh6Xfn"
      },
      "outputs": [],
      "source": [
        "e = np.array(lista)"
      ]
    },
    {
      "cell_type": "code",
      "execution_count": null,
      "metadata": {
        "colab": {
          "base_uri": "https://localhost:8080/"
        },
        "id": "J9vv9D-Z6nhO",
        "outputId": "4a2368ea-a586-43ad-b001-f372834b3ca0"
      },
      "outputs": [
        {
          "data": {
            "text/plain": [
              "numpy.ndarray"
            ]
          },
          "execution_count": 189,
          "metadata": {},
          "output_type": "execute_result"
        }
      ],
      "source": [
        "type(e)"
      ]
    },
    {
      "cell_type": "markdown",
      "metadata": {
        "id": "rHUytkHI60Te"
      },
      "source": [
        "Uma propriedade interessante é a possibilidade criar lita de listas com os arrays "
      ]
    },
    {
      "cell_type": "code",
      "execution_count": null,
      "metadata": {
        "id": "CyH1rEYN6-PR"
      },
      "outputs": [],
      "source": [
        "lista_listas = [[1, 2, 3, 4, 15], [ 7, 8, 9, 5]]"
      ]
    },
    {
      "cell_type": "code",
      "execution_count": null,
      "metadata": {
        "colab": {
          "base_uri": "https://localhost:8080/"
        },
        "id": "p4cj_5cm7Nea",
        "outputId": "76476f41-56cf-42b7-9150-0090c4680542"
      },
      "outputs": [
        {
          "name": "stderr",
          "output_type": "stream",
          "text": [
            "<ipython-input-191-481555d87f21>:1: VisibleDeprecationWarning: Creating an ndarray from ragged nested sequences (which is a list-or-tuple of lists-or-tuples-or ndarrays with different lengths or shapes) is deprecated. If you meant to do this, you must specify 'dtype=object' when creating the ndarray.\n",
            "  f = np.array(lista_listas)\n"
          ]
        }
      ],
      "source": [
        "f = np.array(lista_listas)"
      ]
    },
    {
      "cell_type": "code",
      "execution_count": null,
      "metadata": {
        "colab": {
          "base_uri": "https://localhost:8080/"
        },
        "id": "K9_Rr4O47n12",
        "outputId": "051e2ef7-2fc6-40b7-ee0b-c5165c490874"
      },
      "outputs": [
        {
          "data": {
            "text/plain": [
              "array([list([1, 2, 3, 4, 15]), list([7, 8, 9, 5])], dtype=object)"
            ]
          },
          "execution_count": 192,
          "metadata": {},
          "output_type": "execute_result"
        }
      ],
      "source": [
        "f"
      ]
    },
    {
      "cell_type": "markdown",
      "metadata": {
        "id": "4eNXZsow7xwV"
      },
      "source": [
        "É possivel ainda criar uma lista de numeros aleatorios com condições pré determinadas "
      ]
    },
    {
      "cell_type": "code",
      "execution_count": null,
      "metadata": {
        "colab": {
          "base_uri": "https://localhost:8080/"
        },
        "id": "NItLFqhr8IOU",
        "outputId": "517aaab3-488e-4690-d0b7-066090ff169e"
      },
      "outputs": [
        {
          "data": {
            "text/plain": [
              "array([4, 8, 2, 3, 9])"
            ]
          },
          "execution_count": 193,
          "metadata": {},
          "output_type": "execute_result"
        }
      ],
      "source": [
        "#O minimo seja 0. O maximo seja 10 e tamanho desse array é de 5 elementos \n",
        "np.random.randint(0, 10, size = 5 )\n"
      ]
    },
    {
      "cell_type": "code",
      "execution_count": null,
      "metadata": {
        "id": "nghL9wtS8T-B"
      },
      "outputs": [],
      "source": [
        "# lembrando que ainda é possivel indexar \n",
        "g = np.random.randint(0, 10, size = 5 )\n"
      ]
    },
    {
      "cell_type": "code",
      "execution_count": null,
      "metadata": {
        "colab": {
          "base_uri": "https://localhost:8080/"
        },
        "id": "qBYLVhA284f3",
        "outputId": "c841c5e4-3cc7-4b02-f227-04fa02e28f63"
      },
      "outputs": [
        {
          "data": {
            "text/plain": [
              "3"
            ]
          },
          "execution_count": 195,
          "metadata": {},
          "output_type": "execute_result"
        }
      ],
      "source": [
        "g[0]"
      ]
    },
    {
      "cell_type": "code",
      "execution_count": null,
      "metadata": {
        "colab": {
          "base_uri": "https://localhost:8080/"
        },
        "id": "P_w4Vwik9F4e",
        "outputId": "5ed6fc90-8629-4880-a87d-4b5bd6940621"
      },
      "outputs": [
        {
          "data": {
            "text/plain": [
              "1"
            ]
          },
          "execution_count": 196,
          "metadata": {},
          "output_type": "execute_result"
        }
      ],
      "source": [
        "g[-1]"
      ]
    },
    {
      "cell_type": "markdown",
      "metadata": {
        "id": "5ds2q2TN9NGe"
      },
      "source": [
        "## 2.2 Operações matemáticas com arrays"
      ]
    },
    {
      "cell_type": "code",
      "execution_count": null,
      "metadata": {
        "colab": {
          "base_uri": "https://localhost:8080/"
        },
        "id": "BbzYU0zq9uam",
        "outputId": "79a8c267-ce7b-4532-c596-79b60aea5da7"
      },
      "outputs": [
        {
          "data": {
            "text/plain": [
              "array([ 13,  24, 105, 206, 507])"
            ]
          },
          "execution_count": 197,
          "metadata": {},
          "output_type": "execute_result"
        }
      ],
      "source": [
        "a = np.array([10, 20, 100, 200, 500])\n",
        "b = np.array([3, 4, 5, 6, 7])\n",
        "\n",
        "np.add(a, b)"
      ]
    },
    {
      "cell_type": "code",
      "execution_count": null,
      "metadata": {
        "colab": {
          "base_uri": "https://localhost:8080/"
        },
        "id": "nQVkOpYB-Miv",
        "outputId": "e6feb9d5-0e18-4fc5-d2c8-50341c6887ca"
      },
      "outputs": [
        {
          "output_type": "execute_result",
          "data": {
            "text/plain": [
              "array([ 13,  24, 105, 206, 507])"
            ]
          },
          "metadata": {},
          "execution_count": 81
        }
      ],
      "source": [
        "a + b"
      ]
    },
    {
      "cell_type": "code",
      "execution_count": null,
      "metadata": {
        "colab": {
          "background_save": true
        },
        "id": "8w50gmsK-Xcm"
      },
      "outputs": [],
      "source": [
        "np.subtract(a, b)"
      ]
    },
    {
      "cell_type": "code",
      "execution_count": null,
      "metadata": {
        "colab": {
          "base_uri": "https://localhost:8080/"
        },
        "id": "q9hZdcqP-wTp",
        "outputId": "19301968-1940-4aac-d8c2-6a29b9231a43"
      },
      "outputs": [
        {
          "output_type": "execute_result",
          "data": {
            "text/plain": [
              "array([  7,  16,  95, 194, 493])"
            ]
          },
          "metadata": {},
          "execution_count": 82
        }
      ],
      "source": [
        "a - b"
      ]
    },
    {
      "cell_type": "code",
      "execution_count": null,
      "metadata": {
        "colab": {
          "background_save": true
        },
        "id": "oV-AUMXq-ef2"
      },
      "outputs": [],
      "source": [
        "np.multiply(a,b)"
      ]
    },
    {
      "cell_type": "code",
      "execution_count": null,
      "metadata": {
        "colab": {
          "background_save": true
        },
        "id": "6J3DvQqd-o52"
      },
      "outputs": [],
      "source": [
        "a * b"
      ]
    },
    {
      "cell_type": "code",
      "execution_count": null,
      "metadata": {
        "colab": {
          "background_save": true
        },
        "id": "vKhyl1fT-uve"
      },
      "outputs": [],
      "source": [
        "np.divide(a, b)"
      ]
    },
    {
      "cell_type": "code",
      "execution_count": null,
      "metadata": {
        "colab": {
          "background_save": true
        },
        "id": "rcQih3Yn-3Zu"
      },
      "outputs": [],
      "source": [
        "a/b"
      ]
    },
    {
      "cell_type": "markdown",
      "metadata": {
        "id": "ZT450xet-49l"
      },
      "source": [
        "### Pandas \n"
      ]
    },
    {
      "cell_type": "markdown",
      "metadata": {
        "id": "_nG2XvtTHa01"
      },
      "source": [
        "A principal função da biblioteca pandas é a manipulação de dados \n"
      ]
    },
    {
      "cell_type": "code",
      "execution_count": null,
      "metadata": {
        "id": "GGjeDHr7HgI9"
      },
      "outputs": [],
      "source": [
        "dados = pd.read_csv('WEGE3.SA.csv')"
      ]
    },
    {
      "cell_type": "code",
      "execution_count": null,
      "metadata": {
        "colab": {
          "base_uri": "https://localhost:8080/",
          "height": 423
        },
        "id": "6aj6DZP8HrPm",
        "outputId": "c7ac1fb2-34d5-4cf9-d633-60ae737aace5"
      },
      "outputs": [
        {
          "output_type": "execute_result",
          "data": {
            "text/plain": [
              "           Date       Open       High        Low      Close  Adj Close  \\\n",
              "0    2022-03-02  29.400000  30.790001  29.350000  30.250000  29.754951   \n",
              "1    2022-03-03  30.250000  31.389999  30.129999  31.250000  30.738590   \n",
              "2    2022-03-04  31.250000  32.279999  31.070000  31.510000  30.994331   \n",
              "3    2022-03-07  31.010000  31.969999  30.850000  31.080000  30.571369   \n",
              "4    2022-03-08  31.080000  32.099998  31.080000  31.570000  31.053349   \n",
              "..          ...        ...        ...        ...        ...        ...   \n",
              "245  2023-02-22  39.500000  39.669998  38.360001  38.400002  38.400002   \n",
              "246  2023-02-23  38.490002  39.540001  38.250000  39.240002  39.240002   \n",
              "247  2023-02-24  39.049999  39.279999  38.349998  38.860001  38.860001   \n",
              "248  2023-02-27  38.919998  39.360001  38.470001  38.799999  38.799999   \n",
              "249  2023-02-28  38.790001  39.299999  38.770000  38.990002  38.990002   \n",
              "\n",
              "       Volume  \n",
              "0    10503800  \n",
              "1    10167600  \n",
              "2     9286000  \n",
              "3    11272000  \n",
              "4     9613000  \n",
              "..        ...  \n",
              "245   8043500  \n",
              "246   9948300  \n",
              "247   5112700  \n",
              "248   4714600  \n",
              "249   2605100  \n",
              "\n",
              "[250 rows x 7 columns]"
            ],
            "text/html": [
              "\n",
              "  <div id=\"df-2b763e5a-1da9-4608-b5fe-f8c9dacc079d\">\n",
              "    <div class=\"colab-df-container\">\n",
              "      <div>\n",
              "<style scoped>\n",
              "    .dataframe tbody tr th:only-of-type {\n",
              "        vertical-align: middle;\n",
              "    }\n",
              "\n",
              "    .dataframe tbody tr th {\n",
              "        vertical-align: top;\n",
              "    }\n",
              "\n",
              "    .dataframe thead th {\n",
              "        text-align: right;\n",
              "    }\n",
              "</style>\n",
              "<table border=\"1\" class=\"dataframe\">\n",
              "  <thead>\n",
              "    <tr style=\"text-align: right;\">\n",
              "      <th></th>\n",
              "      <th>Date</th>\n",
              "      <th>Open</th>\n",
              "      <th>High</th>\n",
              "      <th>Low</th>\n",
              "      <th>Close</th>\n",
              "      <th>Adj Close</th>\n",
              "      <th>Volume</th>\n",
              "    </tr>\n",
              "  </thead>\n",
              "  <tbody>\n",
              "    <tr>\n",
              "      <th>0</th>\n",
              "      <td>2022-03-02</td>\n",
              "      <td>29.400000</td>\n",
              "      <td>30.790001</td>\n",
              "      <td>29.350000</td>\n",
              "      <td>30.250000</td>\n",
              "      <td>29.754951</td>\n",
              "      <td>10503800</td>\n",
              "    </tr>\n",
              "    <tr>\n",
              "      <th>1</th>\n",
              "      <td>2022-03-03</td>\n",
              "      <td>30.250000</td>\n",
              "      <td>31.389999</td>\n",
              "      <td>30.129999</td>\n",
              "      <td>31.250000</td>\n",
              "      <td>30.738590</td>\n",
              "      <td>10167600</td>\n",
              "    </tr>\n",
              "    <tr>\n",
              "      <th>2</th>\n",
              "      <td>2022-03-04</td>\n",
              "      <td>31.250000</td>\n",
              "      <td>32.279999</td>\n",
              "      <td>31.070000</td>\n",
              "      <td>31.510000</td>\n",
              "      <td>30.994331</td>\n",
              "      <td>9286000</td>\n",
              "    </tr>\n",
              "    <tr>\n",
              "      <th>3</th>\n",
              "      <td>2022-03-07</td>\n",
              "      <td>31.010000</td>\n",
              "      <td>31.969999</td>\n",
              "      <td>30.850000</td>\n",
              "      <td>31.080000</td>\n",
              "      <td>30.571369</td>\n",
              "      <td>11272000</td>\n",
              "    </tr>\n",
              "    <tr>\n",
              "      <th>4</th>\n",
              "      <td>2022-03-08</td>\n",
              "      <td>31.080000</td>\n",
              "      <td>32.099998</td>\n",
              "      <td>31.080000</td>\n",
              "      <td>31.570000</td>\n",
              "      <td>31.053349</td>\n",
              "      <td>9613000</td>\n",
              "    </tr>\n",
              "    <tr>\n",
              "      <th>...</th>\n",
              "      <td>...</td>\n",
              "      <td>...</td>\n",
              "      <td>...</td>\n",
              "      <td>...</td>\n",
              "      <td>...</td>\n",
              "      <td>...</td>\n",
              "      <td>...</td>\n",
              "    </tr>\n",
              "    <tr>\n",
              "      <th>245</th>\n",
              "      <td>2023-02-22</td>\n",
              "      <td>39.500000</td>\n",
              "      <td>39.669998</td>\n",
              "      <td>38.360001</td>\n",
              "      <td>38.400002</td>\n",
              "      <td>38.400002</td>\n",
              "      <td>8043500</td>\n",
              "    </tr>\n",
              "    <tr>\n",
              "      <th>246</th>\n",
              "      <td>2023-02-23</td>\n",
              "      <td>38.490002</td>\n",
              "      <td>39.540001</td>\n",
              "      <td>38.250000</td>\n",
              "      <td>39.240002</td>\n",
              "      <td>39.240002</td>\n",
              "      <td>9948300</td>\n",
              "    </tr>\n",
              "    <tr>\n",
              "      <th>247</th>\n",
              "      <td>2023-02-24</td>\n",
              "      <td>39.049999</td>\n",
              "      <td>39.279999</td>\n",
              "      <td>38.349998</td>\n",
              "      <td>38.860001</td>\n",
              "      <td>38.860001</td>\n",
              "      <td>5112700</td>\n",
              "    </tr>\n",
              "    <tr>\n",
              "      <th>248</th>\n",
              "      <td>2023-02-27</td>\n",
              "      <td>38.919998</td>\n",
              "      <td>39.360001</td>\n",
              "      <td>38.470001</td>\n",
              "      <td>38.799999</td>\n",
              "      <td>38.799999</td>\n",
              "      <td>4714600</td>\n",
              "    </tr>\n",
              "    <tr>\n",
              "      <th>249</th>\n",
              "      <td>2023-02-28</td>\n",
              "      <td>38.790001</td>\n",
              "      <td>39.299999</td>\n",
              "      <td>38.770000</td>\n",
              "      <td>38.990002</td>\n",
              "      <td>38.990002</td>\n",
              "      <td>2605100</td>\n",
              "    </tr>\n",
              "  </tbody>\n",
              "</table>\n",
              "<p>250 rows × 7 columns</p>\n",
              "</div>\n",
              "      <button class=\"colab-df-convert\" onclick=\"convertToInteractive('df-2b763e5a-1da9-4608-b5fe-f8c9dacc079d')\"\n",
              "              title=\"Convert this dataframe to an interactive table.\"\n",
              "              style=\"display:none;\">\n",
              "        \n",
              "  <svg xmlns=\"http://www.w3.org/2000/svg\" height=\"24px\"viewBox=\"0 0 24 24\"\n",
              "       width=\"24px\">\n",
              "    <path d=\"M0 0h24v24H0V0z\" fill=\"none\"/>\n",
              "    <path d=\"M18.56 5.44l.94 2.06.94-2.06 2.06-.94-2.06-.94-.94-2.06-.94 2.06-2.06.94zm-11 1L8.5 8.5l.94-2.06 2.06-.94-2.06-.94L8.5 2.5l-.94 2.06-2.06.94zm10 10l.94 2.06.94-2.06 2.06-.94-2.06-.94-.94-2.06-.94 2.06-2.06.94z\"/><path d=\"M17.41 7.96l-1.37-1.37c-.4-.4-.92-.59-1.43-.59-.52 0-1.04.2-1.43.59L10.3 9.45l-7.72 7.72c-.78.78-.78 2.05 0 2.83L4 21.41c.39.39.9.59 1.41.59.51 0 1.02-.2 1.41-.59l7.78-7.78 2.81-2.81c.8-.78.8-2.07 0-2.86zM5.41 20L4 18.59l7.72-7.72 1.47 1.35L5.41 20z\"/>\n",
              "  </svg>\n",
              "      </button>\n",
              "      \n",
              "  <style>\n",
              "    .colab-df-container {\n",
              "      display:flex;\n",
              "      flex-wrap:wrap;\n",
              "      gap: 12px;\n",
              "    }\n",
              "\n",
              "    .colab-df-convert {\n",
              "      background-color: #E8F0FE;\n",
              "      border: none;\n",
              "      border-radius: 50%;\n",
              "      cursor: pointer;\n",
              "      display: none;\n",
              "      fill: #1967D2;\n",
              "      height: 32px;\n",
              "      padding: 0 0 0 0;\n",
              "      width: 32px;\n",
              "    }\n",
              "\n",
              "    .colab-df-convert:hover {\n",
              "      background-color: #E2EBFA;\n",
              "      box-shadow: 0px 1px 2px rgba(60, 64, 67, 0.3), 0px 1px 3px 1px rgba(60, 64, 67, 0.15);\n",
              "      fill: #174EA6;\n",
              "    }\n",
              "\n",
              "    [theme=dark] .colab-df-convert {\n",
              "      background-color: #3B4455;\n",
              "      fill: #D2E3FC;\n",
              "    }\n",
              "\n",
              "    [theme=dark] .colab-df-convert:hover {\n",
              "      background-color: #434B5C;\n",
              "      box-shadow: 0px 1px 3px 1px rgba(0, 0, 0, 0.15);\n",
              "      filter: drop-shadow(0px 1px 2px rgba(0, 0, 0, 0.3));\n",
              "      fill: #FFFFFF;\n",
              "    }\n",
              "  </style>\n",
              "\n",
              "      <script>\n",
              "        const buttonEl =\n",
              "          document.querySelector('#df-2b763e5a-1da9-4608-b5fe-f8c9dacc079d button.colab-df-convert');\n",
              "        buttonEl.style.display =\n",
              "          google.colab.kernel.accessAllowed ? 'block' : 'none';\n",
              "\n",
              "        async function convertToInteractive(key) {\n",
              "          const element = document.querySelector('#df-2b763e5a-1da9-4608-b5fe-f8c9dacc079d');\n",
              "          const dataTable =\n",
              "            await google.colab.kernel.invokeFunction('convertToInteractive',\n",
              "                                                     [key], {});\n",
              "          if (!dataTable) return;\n",
              "\n",
              "          const docLinkHtml = 'Like what you see? Visit the ' +\n",
              "            '<a target=\"_blank\" href=https://colab.research.google.com/notebooks/data_table.ipynb>data table notebook</a>'\n",
              "            + ' to learn more about interactive tables.';\n",
              "          element.innerHTML = '';\n",
              "          dataTable['output_type'] = 'display_data';\n",
              "          await google.colab.output.renderOutput(dataTable, element);\n",
              "          const docLink = document.createElement('div');\n",
              "          docLink.innerHTML = docLinkHtml;\n",
              "          element.appendChild(docLink);\n",
              "        }\n",
              "      </script>\n",
              "    </div>\n",
              "  </div>\n",
              "  "
            ]
          },
          "metadata": {},
          "execution_count": 50
        }
      ],
      "source": [
        "dados "
      ]
    },
    {
      "cell_type": "code",
      "execution_count": null,
      "metadata": {
        "id": "vWz0feV6HxyN"
      },
      "outputs": [],
      "source": [
        "#para exbir as 5 primeiras linhas usamos o comando head"
      ]
    },
    {
      "cell_type": "code",
      "execution_count": null,
      "metadata": {
        "colab": {
          "base_uri": "https://localhost:8080/",
          "height": 363
        },
        "id": "5HI7MBCrIdqV",
        "outputId": "b81c5c27-3562-4500-d324-4d8c3e7d1e8f"
      },
      "outputs": [
        {
          "output_type": "execute_result",
          "data": {
            "text/plain": [
              "         Date       Open       High        Low      Close  Adj Close    Volume\n",
              "0  2022-03-02  29.400000  30.790001  29.350000  30.250000  29.754951  10503800\n",
              "1  2022-03-03  30.250000  31.389999  30.129999  31.250000  30.738590  10167600\n",
              "2  2022-03-04  31.250000  32.279999  31.070000  31.510000  30.994331   9286000\n",
              "3  2022-03-07  31.010000  31.969999  30.850000  31.080000  30.571369  11272000\n",
              "4  2022-03-08  31.080000  32.099998  31.080000  31.570000  31.053349   9613000\n",
              "5  2022-03-09  31.850000  32.849998  31.530001  32.669998  32.135345   8949000\n",
              "6  2022-03-10  32.369999  32.389999  31.180000  31.719999  31.200897   6884800\n",
              "7  2022-03-11  31.820000  32.070000  31.110001  31.389999  30.876297   4591900\n",
              "8  2022-03-14  31.389999  31.559999  30.940001  31.020000  30.512350   4247300\n",
              "9  2022-03-15  30.900000  31.959999  30.100000  30.200001  29.705772  10034200"
            ],
            "text/html": [
              "\n",
              "  <div id=\"df-b1e5a4cc-df82-44f7-bc4c-c1bdf57fe600\">\n",
              "    <div class=\"colab-df-container\">\n",
              "      <div>\n",
              "<style scoped>\n",
              "    .dataframe tbody tr th:only-of-type {\n",
              "        vertical-align: middle;\n",
              "    }\n",
              "\n",
              "    .dataframe tbody tr th {\n",
              "        vertical-align: top;\n",
              "    }\n",
              "\n",
              "    .dataframe thead th {\n",
              "        text-align: right;\n",
              "    }\n",
              "</style>\n",
              "<table border=\"1\" class=\"dataframe\">\n",
              "  <thead>\n",
              "    <tr style=\"text-align: right;\">\n",
              "      <th></th>\n",
              "      <th>Date</th>\n",
              "      <th>Open</th>\n",
              "      <th>High</th>\n",
              "      <th>Low</th>\n",
              "      <th>Close</th>\n",
              "      <th>Adj Close</th>\n",
              "      <th>Volume</th>\n",
              "    </tr>\n",
              "  </thead>\n",
              "  <tbody>\n",
              "    <tr>\n",
              "      <th>0</th>\n",
              "      <td>2022-03-02</td>\n",
              "      <td>29.400000</td>\n",
              "      <td>30.790001</td>\n",
              "      <td>29.350000</td>\n",
              "      <td>30.250000</td>\n",
              "      <td>29.754951</td>\n",
              "      <td>10503800</td>\n",
              "    </tr>\n",
              "    <tr>\n",
              "      <th>1</th>\n",
              "      <td>2022-03-03</td>\n",
              "      <td>30.250000</td>\n",
              "      <td>31.389999</td>\n",
              "      <td>30.129999</td>\n",
              "      <td>31.250000</td>\n",
              "      <td>30.738590</td>\n",
              "      <td>10167600</td>\n",
              "    </tr>\n",
              "    <tr>\n",
              "      <th>2</th>\n",
              "      <td>2022-03-04</td>\n",
              "      <td>31.250000</td>\n",
              "      <td>32.279999</td>\n",
              "      <td>31.070000</td>\n",
              "      <td>31.510000</td>\n",
              "      <td>30.994331</td>\n",
              "      <td>9286000</td>\n",
              "    </tr>\n",
              "    <tr>\n",
              "      <th>3</th>\n",
              "      <td>2022-03-07</td>\n",
              "      <td>31.010000</td>\n",
              "      <td>31.969999</td>\n",
              "      <td>30.850000</td>\n",
              "      <td>31.080000</td>\n",
              "      <td>30.571369</td>\n",
              "      <td>11272000</td>\n",
              "    </tr>\n",
              "    <tr>\n",
              "      <th>4</th>\n",
              "      <td>2022-03-08</td>\n",
              "      <td>31.080000</td>\n",
              "      <td>32.099998</td>\n",
              "      <td>31.080000</td>\n",
              "      <td>31.570000</td>\n",
              "      <td>31.053349</td>\n",
              "      <td>9613000</td>\n",
              "    </tr>\n",
              "    <tr>\n",
              "      <th>5</th>\n",
              "      <td>2022-03-09</td>\n",
              "      <td>31.850000</td>\n",
              "      <td>32.849998</td>\n",
              "      <td>31.530001</td>\n",
              "      <td>32.669998</td>\n",
              "      <td>32.135345</td>\n",
              "      <td>8949000</td>\n",
              "    </tr>\n",
              "    <tr>\n",
              "      <th>6</th>\n",
              "      <td>2022-03-10</td>\n",
              "      <td>32.369999</td>\n",
              "      <td>32.389999</td>\n",
              "      <td>31.180000</td>\n",
              "      <td>31.719999</td>\n",
              "      <td>31.200897</td>\n",
              "      <td>6884800</td>\n",
              "    </tr>\n",
              "    <tr>\n",
              "      <th>7</th>\n",
              "      <td>2022-03-11</td>\n",
              "      <td>31.820000</td>\n",
              "      <td>32.070000</td>\n",
              "      <td>31.110001</td>\n",
              "      <td>31.389999</td>\n",
              "      <td>30.876297</td>\n",
              "      <td>4591900</td>\n",
              "    </tr>\n",
              "    <tr>\n",
              "      <th>8</th>\n",
              "      <td>2022-03-14</td>\n",
              "      <td>31.389999</td>\n",
              "      <td>31.559999</td>\n",
              "      <td>30.940001</td>\n",
              "      <td>31.020000</td>\n",
              "      <td>30.512350</td>\n",
              "      <td>4247300</td>\n",
              "    </tr>\n",
              "    <tr>\n",
              "      <th>9</th>\n",
              "      <td>2022-03-15</td>\n",
              "      <td>30.900000</td>\n",
              "      <td>31.959999</td>\n",
              "      <td>30.100000</td>\n",
              "      <td>30.200001</td>\n",
              "      <td>29.705772</td>\n",
              "      <td>10034200</td>\n",
              "    </tr>\n",
              "  </tbody>\n",
              "</table>\n",
              "</div>\n",
              "      <button class=\"colab-df-convert\" onclick=\"convertToInteractive('df-b1e5a4cc-df82-44f7-bc4c-c1bdf57fe600')\"\n",
              "              title=\"Convert this dataframe to an interactive table.\"\n",
              "              style=\"display:none;\">\n",
              "        \n",
              "  <svg xmlns=\"http://www.w3.org/2000/svg\" height=\"24px\"viewBox=\"0 0 24 24\"\n",
              "       width=\"24px\">\n",
              "    <path d=\"M0 0h24v24H0V0z\" fill=\"none\"/>\n",
              "    <path d=\"M18.56 5.44l.94 2.06.94-2.06 2.06-.94-2.06-.94-.94-2.06-.94 2.06-2.06.94zm-11 1L8.5 8.5l.94-2.06 2.06-.94-2.06-.94L8.5 2.5l-.94 2.06-2.06.94zm10 10l.94 2.06.94-2.06 2.06-.94-2.06-.94-.94-2.06-.94 2.06-2.06.94z\"/><path d=\"M17.41 7.96l-1.37-1.37c-.4-.4-.92-.59-1.43-.59-.52 0-1.04.2-1.43.59L10.3 9.45l-7.72 7.72c-.78.78-.78 2.05 0 2.83L4 21.41c.39.39.9.59 1.41.59.51 0 1.02-.2 1.41-.59l7.78-7.78 2.81-2.81c.8-.78.8-2.07 0-2.86zM5.41 20L4 18.59l7.72-7.72 1.47 1.35L5.41 20z\"/>\n",
              "  </svg>\n",
              "      </button>\n",
              "      \n",
              "  <style>\n",
              "    .colab-df-container {\n",
              "      display:flex;\n",
              "      flex-wrap:wrap;\n",
              "      gap: 12px;\n",
              "    }\n",
              "\n",
              "    .colab-df-convert {\n",
              "      background-color: #E8F0FE;\n",
              "      border: none;\n",
              "      border-radius: 50%;\n",
              "      cursor: pointer;\n",
              "      display: none;\n",
              "      fill: #1967D2;\n",
              "      height: 32px;\n",
              "      padding: 0 0 0 0;\n",
              "      width: 32px;\n",
              "    }\n",
              "\n",
              "    .colab-df-convert:hover {\n",
              "      background-color: #E2EBFA;\n",
              "      box-shadow: 0px 1px 2px rgba(60, 64, 67, 0.3), 0px 1px 3px 1px rgba(60, 64, 67, 0.15);\n",
              "      fill: #174EA6;\n",
              "    }\n",
              "\n",
              "    [theme=dark] .colab-df-convert {\n",
              "      background-color: #3B4455;\n",
              "      fill: #D2E3FC;\n",
              "    }\n",
              "\n",
              "    [theme=dark] .colab-df-convert:hover {\n",
              "      background-color: #434B5C;\n",
              "      box-shadow: 0px 1px 3px 1px rgba(0, 0, 0, 0.15);\n",
              "      filter: drop-shadow(0px 1px 2px rgba(0, 0, 0, 0.3));\n",
              "      fill: #FFFFFF;\n",
              "    }\n",
              "  </style>\n",
              "\n",
              "      <script>\n",
              "        const buttonEl =\n",
              "          document.querySelector('#df-b1e5a4cc-df82-44f7-bc4c-c1bdf57fe600 button.colab-df-convert');\n",
              "        buttonEl.style.display =\n",
              "          google.colab.kernel.accessAllowed ? 'block' : 'none';\n",
              "\n",
              "        async function convertToInteractive(key) {\n",
              "          const element = document.querySelector('#df-b1e5a4cc-df82-44f7-bc4c-c1bdf57fe600');\n",
              "          const dataTable =\n",
              "            await google.colab.kernel.invokeFunction('convertToInteractive',\n",
              "                                                     [key], {});\n",
              "          if (!dataTable) return;\n",
              "\n",
              "          const docLinkHtml = 'Like what you see? Visit the ' +\n",
              "            '<a target=\"_blank\" href=https://colab.research.google.com/notebooks/data_table.ipynb>data table notebook</a>'\n",
              "            + ' to learn more about interactive tables.';\n",
              "          element.innerHTML = '';\n",
              "          dataTable['output_type'] = 'display_data';\n",
              "          await google.colab.output.renderOutput(dataTable, element);\n",
              "          const docLink = document.createElement('div');\n",
              "          docLink.innerHTML = docLinkHtml;\n",
              "          element.appendChild(docLink);\n",
              "        }\n",
              "      </script>\n",
              "    </div>\n",
              "  </div>\n",
              "  "
            ]
          },
          "metadata": {},
          "execution_count": 52
        }
      ],
      "source": [
        "# É possivel ainda parametrizar quantas linha queremos vizualizar, nesse caso usamos (10) primeiras Linhas \n",
        "dados.head(10)"
      ]
    },
    {
      "cell_type": "code",
      "execution_count": null,
      "metadata": {
        "colab": {
          "base_uri": "https://localhost:8080/"
        },
        "id": "JGItXAz0If1l",
        "outputId": "bd14d08c-4daf-4b32-c145-1906e5456ed9"
      },
      "outputs": [
        {
          "output_type": "execute_result",
          "data": {
            "text/plain": [
              "(250, 7)"
            ]
          },
          "metadata": {},
          "execution_count": 53
        }
      ],
      "source": [
        "# Se quisermos descobrir quantas linhas e quantas colunas temos nessa tabela usamos a função \".shape\"\n",
        "dados.shape\n"
      ]
    },
    {
      "cell_type": "code",
      "execution_count": null,
      "metadata": {
        "colab": {
          "base_uri": "https://localhost:8080/"
        },
        "id": "K6DcPuVVJHzt",
        "outputId": "935e7246-033f-4f09-8788-bc61735d66e6"
      },
      "outputs": [
        {
          "output_type": "execute_result",
          "data": {
            "text/plain": [
              "Date          object\n",
              "Open         float64\n",
              "High         float64\n",
              "Low          float64\n",
              "Close        float64\n",
              "Adj Close    float64\n",
              "Volume         int64\n",
              "dtype: object"
            ]
          },
          "metadata": {},
          "execution_count": 54
        }
      ],
      "source": [
        "# Para descobrirmos o tipo de informação que vai em cada coluna usamos o comando \"dtypes\"\n",
        "dados.dtypes"
      ]
    },
    {
      "cell_type": "code",
      "execution_count": null,
      "metadata": {
        "id": "B5tWQ9NSJbit"
      },
      "outputs": [],
      "source": [
        "# OHLC - Abertura / Maxima / Minima / Fechamento "
      ]
    },
    {
      "cell_type": "code",
      "execution_count": null,
      "metadata": {
        "colab": {
          "base_uri": "https://localhost:8080/"
        },
        "id": "WaXTwjNAJsE3",
        "outputId": "0114bc2f-2ae3-47e8-9117-ea45745c9187"
      },
      "outputs": [
        {
          "output_type": "execute_result",
          "data": {
            "text/plain": [
              "pandas.core.frame.DataFrame"
            ]
          },
          "metadata": {},
          "execution_count": 56
        }
      ],
      "source": [
        "# para indentificarmos o tipo de objeto utilizamos a função \"Type \"\n",
        "type(dados)"
      ]
    },
    {
      "cell_type": "code",
      "execution_count": null,
      "metadata": {
        "colab": {
          "base_uri": "https://localhost:8080/",
          "height": 206
        },
        "id": "01NcCMnAJ3sd",
        "outputId": "22923aee-4e4e-478a-a74e-c3714a565fb8"
      },
      "outputs": [
        {
          "output_type": "execute_result",
          "data": {
            "text/plain": [
              "           Date       Open       High        Low      Close  Adj Close  \\\n",
              "245  2023-02-22  39.500000  39.669998  38.360001  38.400002  38.400002   \n",
              "246  2023-02-23  38.490002  39.540001  38.250000  39.240002  39.240002   \n",
              "247  2023-02-24  39.049999  39.279999  38.349998  38.860001  38.860001   \n",
              "248  2023-02-27  38.919998  39.360001  38.470001  38.799999  38.799999   \n",
              "249  2023-02-28  38.790001  39.299999  38.770000  38.990002  38.990002   \n",
              "\n",
              "      Volume  \n",
              "245  8043500  \n",
              "246  9948300  \n",
              "247  5112700  \n",
              "248  4714600  \n",
              "249  2605100  "
            ],
            "text/html": [
              "\n",
              "  <div id=\"df-d8726202-9fb1-428e-a63d-3c8e4f8c5c2d\">\n",
              "    <div class=\"colab-df-container\">\n",
              "      <div>\n",
              "<style scoped>\n",
              "    .dataframe tbody tr th:only-of-type {\n",
              "        vertical-align: middle;\n",
              "    }\n",
              "\n",
              "    .dataframe tbody tr th {\n",
              "        vertical-align: top;\n",
              "    }\n",
              "\n",
              "    .dataframe thead th {\n",
              "        text-align: right;\n",
              "    }\n",
              "</style>\n",
              "<table border=\"1\" class=\"dataframe\">\n",
              "  <thead>\n",
              "    <tr style=\"text-align: right;\">\n",
              "      <th></th>\n",
              "      <th>Date</th>\n",
              "      <th>Open</th>\n",
              "      <th>High</th>\n",
              "      <th>Low</th>\n",
              "      <th>Close</th>\n",
              "      <th>Adj Close</th>\n",
              "      <th>Volume</th>\n",
              "    </tr>\n",
              "  </thead>\n",
              "  <tbody>\n",
              "    <tr>\n",
              "      <th>245</th>\n",
              "      <td>2023-02-22</td>\n",
              "      <td>39.500000</td>\n",
              "      <td>39.669998</td>\n",
              "      <td>38.360001</td>\n",
              "      <td>38.400002</td>\n",
              "      <td>38.400002</td>\n",
              "      <td>8043500</td>\n",
              "    </tr>\n",
              "    <tr>\n",
              "      <th>246</th>\n",
              "      <td>2023-02-23</td>\n",
              "      <td>38.490002</td>\n",
              "      <td>39.540001</td>\n",
              "      <td>38.250000</td>\n",
              "      <td>39.240002</td>\n",
              "      <td>39.240002</td>\n",
              "      <td>9948300</td>\n",
              "    </tr>\n",
              "    <tr>\n",
              "      <th>247</th>\n",
              "      <td>2023-02-24</td>\n",
              "      <td>39.049999</td>\n",
              "      <td>39.279999</td>\n",
              "      <td>38.349998</td>\n",
              "      <td>38.860001</td>\n",
              "      <td>38.860001</td>\n",
              "      <td>5112700</td>\n",
              "    </tr>\n",
              "    <tr>\n",
              "      <th>248</th>\n",
              "      <td>2023-02-27</td>\n",
              "      <td>38.919998</td>\n",
              "      <td>39.360001</td>\n",
              "      <td>38.470001</td>\n",
              "      <td>38.799999</td>\n",
              "      <td>38.799999</td>\n",
              "      <td>4714600</td>\n",
              "    </tr>\n",
              "    <tr>\n",
              "      <th>249</th>\n",
              "      <td>2023-02-28</td>\n",
              "      <td>38.790001</td>\n",
              "      <td>39.299999</td>\n",
              "      <td>38.770000</td>\n",
              "      <td>38.990002</td>\n",
              "      <td>38.990002</td>\n",
              "      <td>2605100</td>\n",
              "    </tr>\n",
              "  </tbody>\n",
              "</table>\n",
              "</div>\n",
              "      <button class=\"colab-df-convert\" onclick=\"convertToInteractive('df-d8726202-9fb1-428e-a63d-3c8e4f8c5c2d')\"\n",
              "              title=\"Convert this dataframe to an interactive table.\"\n",
              "              style=\"display:none;\">\n",
              "        \n",
              "  <svg xmlns=\"http://www.w3.org/2000/svg\" height=\"24px\"viewBox=\"0 0 24 24\"\n",
              "       width=\"24px\">\n",
              "    <path d=\"M0 0h24v24H0V0z\" fill=\"none\"/>\n",
              "    <path d=\"M18.56 5.44l.94 2.06.94-2.06 2.06-.94-2.06-.94-.94-2.06-.94 2.06-2.06.94zm-11 1L8.5 8.5l.94-2.06 2.06-.94-2.06-.94L8.5 2.5l-.94 2.06-2.06.94zm10 10l.94 2.06.94-2.06 2.06-.94-2.06-.94-.94-2.06-.94 2.06-2.06.94z\"/><path d=\"M17.41 7.96l-1.37-1.37c-.4-.4-.92-.59-1.43-.59-.52 0-1.04.2-1.43.59L10.3 9.45l-7.72 7.72c-.78.78-.78 2.05 0 2.83L4 21.41c.39.39.9.59 1.41.59.51 0 1.02-.2 1.41-.59l7.78-7.78 2.81-2.81c.8-.78.8-2.07 0-2.86zM5.41 20L4 18.59l7.72-7.72 1.47 1.35L5.41 20z\"/>\n",
              "  </svg>\n",
              "      </button>\n",
              "      \n",
              "  <style>\n",
              "    .colab-df-container {\n",
              "      display:flex;\n",
              "      flex-wrap:wrap;\n",
              "      gap: 12px;\n",
              "    }\n",
              "\n",
              "    .colab-df-convert {\n",
              "      background-color: #E8F0FE;\n",
              "      border: none;\n",
              "      border-radius: 50%;\n",
              "      cursor: pointer;\n",
              "      display: none;\n",
              "      fill: #1967D2;\n",
              "      height: 32px;\n",
              "      padding: 0 0 0 0;\n",
              "      width: 32px;\n",
              "    }\n",
              "\n",
              "    .colab-df-convert:hover {\n",
              "      background-color: #E2EBFA;\n",
              "      box-shadow: 0px 1px 2px rgba(60, 64, 67, 0.3), 0px 1px 3px 1px rgba(60, 64, 67, 0.15);\n",
              "      fill: #174EA6;\n",
              "    }\n",
              "\n",
              "    [theme=dark] .colab-df-convert {\n",
              "      background-color: #3B4455;\n",
              "      fill: #D2E3FC;\n",
              "    }\n",
              "\n",
              "    [theme=dark] .colab-df-convert:hover {\n",
              "      background-color: #434B5C;\n",
              "      box-shadow: 0px 1px 3px 1px rgba(0, 0, 0, 0.15);\n",
              "      filter: drop-shadow(0px 1px 2px rgba(0, 0, 0, 0.3));\n",
              "      fill: #FFFFFF;\n",
              "    }\n",
              "  </style>\n",
              "\n",
              "      <script>\n",
              "        const buttonEl =\n",
              "          document.querySelector('#df-d8726202-9fb1-428e-a63d-3c8e4f8c5c2d button.colab-df-convert');\n",
              "        buttonEl.style.display =\n",
              "          google.colab.kernel.accessAllowed ? 'block' : 'none';\n",
              "\n",
              "        async function convertToInteractive(key) {\n",
              "          const element = document.querySelector('#df-d8726202-9fb1-428e-a63d-3c8e4f8c5c2d');\n",
              "          const dataTable =\n",
              "            await google.colab.kernel.invokeFunction('convertToInteractive',\n",
              "                                                     [key], {});\n",
              "          if (!dataTable) return;\n",
              "\n",
              "          const docLinkHtml = 'Like what you see? Visit the ' +\n",
              "            '<a target=\"_blank\" href=https://colab.research.google.com/notebooks/data_table.ipynb>data table notebook</a>'\n",
              "            + ' to learn more about interactive tables.';\n",
              "          element.innerHTML = '';\n",
              "          dataTable['output_type'] = 'display_data';\n",
              "          await google.colab.output.renderOutput(dataTable, element);\n",
              "          const docLink = document.createElement('div');\n",
              "          docLink.innerHTML = docLinkHtml;\n",
              "          element.appendChild(docLink);\n",
              "        }\n",
              "      </script>\n",
              "    </div>\n",
              "  </div>\n",
              "  "
            ]
          },
          "metadata": {},
          "execution_count": 57
        }
      ],
      "source": [
        "#para exbir as ultimas linhas utilizamos a função \".tail()\"\n",
        "dados.tail()"
      ]
    },
    {
      "cell_type": "code",
      "execution_count": null,
      "metadata": {
        "id": "tDwNGSYhKNPk"
      },
      "outputs": [],
      "source": [
        "# Também e possivel fazermos indentação com date frames com o uso de \"loc[]\" e \"iloc[]\" vamos explicar mais a frente a diferença \n"
      ]
    },
    {
      "cell_type": "code",
      "execution_count": null,
      "metadata": {
        "colab": {
          "base_uri": "https://localhost:8080/"
        },
        "id": "U0AF-V2iKl0O",
        "outputId": "2aebac43-0bc5-4a56-bfcb-0a0653b4123f"
      },
      "outputs": [
        {
          "output_type": "execute_result",
          "data": {
            "text/plain": [
              "Date         2022-03-02\n",
              "Open               29.4\n",
              "High          30.790001\n",
              "Low               29.35\n",
              "Close             30.25\n",
              "Adj Close     29.754951\n",
              "Volume         10503800\n",
              "Name: 0, dtype: object"
            ]
          },
          "metadata": {},
          "execution_count": 59
        }
      ],
      "source": [
        "# A principio trabalhando com o \" .loc[] \" se colocarmos o numero (0) ele retorna a linha 0 \n",
        "dados.loc[0]"
      ]
    },
    {
      "cell_type": "markdown",
      "metadata": {
        "id": "280xv3WJLD2-"
      },
      "source": [
        "# O iloc[] a principio faz a mesma coisa que o loc, porém com o \"iloc[]\" é possivel fazer identação e filtros para celulas também. Ou seja ao inves de trazer uma linha interia trazemos o valor de uma celula\n"
      ]
    },
    {
      "cell_type": "code",
      "execution_count": null,
      "metadata": {
        "colab": {
          "base_uri": "https://localhost:8080/"
        },
        "id": "FpXlw1sMMIal",
        "outputId": "275eb7d8-8be4-4536-ac2f-b9c87bb2b201"
      },
      "outputs": [
        {
          "output_type": "execute_result",
          "data": {
            "text/plain": [
              "Date         2022-03-02\n",
              "Open               29.4\n",
              "High          30.790001\n",
              "Low               29.35\n",
              "Close             30.25\n",
              "Adj Close     29.754951\n",
              "Volume         10503800\n",
              "Name: 0, dtype: object"
            ]
          },
          "metadata": {},
          "execution_count": 60
        }
      ],
      "source": [
        "# EXP 1 Função Iloc[]\n",
        "dados.iloc[0]"
      ]
    },
    {
      "cell_type": "code",
      "execution_count": null,
      "metadata": {
        "colab": {
          "base_uri": "https://localhost:8080/",
          "height": 36
        },
        "id": "ue3hMMiqMOsF",
        "outputId": "21de0c25-b1eb-420b-cc70-7105fd0b6332"
      },
      "outputs": [
        {
          "output_type": "execute_result",
          "data": {
            "text/plain": [
              "'2022-03-02'"
            ],
            "application/vnd.google.colaboratory.intrinsic+json": {
              "type": "string"
            }
          },
          "metadata": {},
          "execution_count": 61
        }
      ],
      "source": [
        "# EXP 2 Função iloc[0,0]\n",
        "dados.iloc[0,0]"
      ]
    },
    {
      "cell_type": "code",
      "execution_count": null,
      "metadata": {
        "id": "p1pzE0c8M53V"
      },
      "outputs": [],
      "source": [
        "# Trabalhando com filtros em data frames é possivel també filtrar com bases no nome da coluna "
      ]
    },
    {
      "cell_type": "code",
      "execution_count": null,
      "metadata": {
        "colab": {
          "base_uri": "https://localhost:8080/"
        },
        "id": "KQ8MNI6GOZt2",
        "outputId": "4dd76321-2795-46d9-bf58-8fd0b2fce193"
      },
      "outputs": [
        {
          "output_type": "execute_result",
          "data": {
            "text/plain": [
              "0      29.400000\n",
              "1      30.250000\n",
              "2      31.250000\n",
              "3      31.010000\n",
              "4      31.080000\n",
              "         ...    \n",
              "245    39.500000\n",
              "246    38.490002\n",
              "247    39.049999\n",
              "248    38.919998\n",
              "249    38.790001\n",
              "Name: Open, Length: 250, dtype: float64"
            ]
          },
          "metadata": {},
          "execution_count": 63
        }
      ],
      "source": [
        "dados [\"Open\"]"
      ]
    },
    {
      "cell_type": "code",
      "execution_count": null,
      "metadata": {
        "colab": {
          "base_uri": "https://localhost:8080/"
        },
        "id": "EnhTOn7ZOe8s",
        "outputId": "d620617c-a2ae-43a8-a5f4-e64b4610903f"
      },
      "outputs": [
        {
          "output_type": "execute_result",
          "data": {
            "text/plain": [
              "0      30.790001\n",
              "1      31.389999\n",
              "2      32.279999\n",
              "3      31.969999\n",
              "4      32.099998\n",
              "         ...    \n",
              "245    39.669998\n",
              "246    39.540001\n",
              "247    39.279999\n",
              "248    39.360001\n",
              "249    39.299999\n",
              "Name: High, Length: 250, dtype: float64"
            ]
          },
          "metadata": {},
          "execution_count": 64
        }
      ],
      "source": [
        "dados [\"High\"]"
      ]
    },
    {
      "cell_type": "code",
      "execution_count": null,
      "metadata": {
        "colab": {
          "base_uri": "https://localhost:8080/"
        },
        "id": "tARKaGLeOq5E",
        "outputId": "e071a5b8-614d-4fce-f0d5-05b3551f531a"
      },
      "outputs": [
        {
          "output_type": "execute_result",
          "data": {
            "text/plain": [
              "0      29.350000\n",
              "1      30.129999\n",
              "2      31.070000\n",
              "3      30.850000\n",
              "4      31.080000\n",
              "         ...    \n",
              "245    38.360001\n",
              "246    38.250000\n",
              "247    38.349998\n",
              "248    38.470001\n",
              "249    38.770000\n",
              "Name: Low, Length: 250, dtype: float64"
            ]
          },
          "metadata": {},
          "execution_count": 65
        }
      ],
      "source": [
        "dados [\"Low\"]"
      ]
    },
    {
      "cell_type": "code",
      "execution_count": null,
      "metadata": {
        "colab": {
          "base_uri": "https://localhost:8080/"
        },
        "id": "3tPcPRVBOwNc",
        "outputId": "e4cb02fb-f0c6-41b7-9227-c3beba060d10"
      },
      "outputs": [
        {
          "output_type": "execute_result",
          "data": {
            "text/plain": [
              "0      30.250000\n",
              "1      31.250000\n",
              "2      31.510000\n",
              "3      31.080000\n",
              "4      31.570000\n",
              "         ...    \n",
              "245    38.400002\n",
              "246    39.240002\n",
              "247    38.860001\n",
              "248    38.799999\n",
              "249    38.990002\n",
              "Name: Close, Length: 250, dtype: float64"
            ]
          },
          "metadata": {},
          "execution_count": 66
        }
      ],
      "source": [
        "dados [\"Close\"]"
      ]
    },
    {
      "cell_type": "code",
      "execution_count": null,
      "metadata": {
        "colab": {
          "base_uri": "https://localhost:8080/"
        },
        "id": "2S8n1feKO5Fl",
        "outputId": "59b1b89b-bb16-46e0-c8ac-356145b3747f"
      },
      "outputs": [
        {
          "output_type": "execute_result",
          "data": {
            "text/plain": [
              "0      29.754951\n",
              "1      30.738590\n",
              "2      30.994331\n",
              "3      30.571369\n",
              "4      31.053349\n",
              "         ...    \n",
              "245    38.400002\n",
              "246    39.240002\n",
              "247    38.860001\n",
              "248    38.799999\n",
              "249    38.990002\n",
              "Name: Adj Close, Length: 250, dtype: float64"
            ]
          },
          "metadata": {},
          "execution_count": 67
        }
      ],
      "source": [
        "dados [\"Adj Close\"]"
      ]
    },
    {
      "cell_type": "markdown",
      "metadata": {
        "id": "pQzHk8AJO_XT"
      },
      "source": [
        "# A coluna \"Adj Close\" é basicamente a coluna close ajustada com eventos de liquidez tipos: Splits, Desdobramentos, Pagamentos de dividendos.\n",
        "\n",
        "# A variação da coluna Adj Close se mantem perto, Porém ela vai divergir se tiver acontecido algo nesse dia tipo: Á ação realizou o pagamento de dividendo meio que pode esperar uma queda no preço da cotação.\n",
        "\n",
        "# A coluna Adj Close é configurada para ser ajustada quanto a essas informções por isso ela não tem queda no momento de pagamento de dividendos, pois ela já embute essa função no seu preço "
      ]
    },
    {
      "cell_type": "code",
      "execution_count": null,
      "metadata": {
        "colab": {
          "base_uri": "https://localhost:8080/",
          "height": 265
        },
        "id": "yJzmbM2nPY2U",
        "outputId": "37194ffa-4ccb-4c5c-de79-9b0f11f3b2a6"
      },
      "outputs": [
        {
          "output_type": "display_data",
          "data": {
            "text/plain": [
              "<Figure size 432x288 with 1 Axes>"
            ],
            "image/png": "[encoded data removed]"
          },
          "metadata": {
            "needs_background": "light"
          }
        }
      ],
      "source": [
        "# Para plotar a coluna \"Adj Close\" é simples o prorpio pandas oferece a função. \n",
        "dados['Adj Close'].plot();"
      ]
    },
    {
      "cell_type": "code",
      "execution_count": null,
      "metadata": {
        "colab": {
          "base_uri": "https://localhost:8080/",
          "height": 265
        },
        "id": "MAfw8Z5vRBdt",
        "outputId": "419249ca-fd10-448b-ce5b-d325ad048c0f"
      },
      "outputs": [
        {
          "output_type": "display_data",
          "data": {
            "text/plain": [
              "<Figure size 432x288 with 1 Axes>"
            ],
            "image/png": "[encoded data removed]"
          },
          "metadata": {
            "needs_background": "light"
          }
        }
      ],
      "source": [
        "dados['Open'].plot();"
      ]
    },
    {
      "cell_type": "code",
      "source": [
        "# Uma outra forma mais direta!\n",
        "dados.Close.plot()"
      ],
      "metadata": {
        "colab": {
          "base_uri": "https://localhost:8080/",
          "height": 282
        },
        "id": "_vj-9PqPcXer",
        "outputId": "514a5bf7-5943-4a13-b0b0-a156a44bca50"
      },
      "execution_count": null,
      "outputs": [
        {
          "output_type": "execute_result",
          "data": {
            "text/plain": [
              "<AxesSubplot:>"
            ]
          },
          "metadata": {},
          "execution_count": 72
        },
        {
          "output_type": "display_data",
          "data": {
            "text/plain": [
              "<Figure size 432x288 with 1 Axes>"
            ],
            "image/png": "[encoded data removed]"
          },
          "metadata": {
            "needs_background": "light"
          }
        }
      ]
    },
    {
      "cell_type": "code",
      "source": [
        "# junto com o iloc, podemos plotar informações mais expecificas.Exemplo suponha que desejamos apenas as primeias 500 linhas \n",
        "dados.iloc[0:500].Close.plot();"
      ],
      "metadata": {
        "colab": {
          "base_uri": "https://localhost:8080/",
          "height": 265
        },
        "id": "3-fSeX72chmp",
        "outputId": "f84ac537-37d6-45ba-bef0-0c6119b430ef"
      },
      "execution_count": null,
      "outputs": [
        {
          "output_type": "display_data",
          "data": {
            "text/plain": [
              "<Figure size 432x288 with 1 Axes>"
            ],
            "image/png": "[encoded data removed]"
          },
          "metadata": {
            "needs_background": "light"
          }
        }
      ]
    },
    {
      "cell_type": "markdown",
      "source": [
        "# Repare que no eixo X estámos apenas tendo retorno do indice. E isso acontece porque no nosso Data Frame, o Indice está como numero e isso porque o arquivo veio do excel e provavel que o excel não reconheceu como data, Então vamos colocar esse indice como data                                                                  "
      ],
      "metadata": {
        "id": "5uXcicrUdOpC"
      }
    },
    {
      "cell_type": "code",
      "source": [
        "# Dessa forma o Pyathon vai entender que estamos nos referindo ao indice do Data Frame\n",
        "dados.index = dados.Date"
      ],
      "metadata": {
        "id": "Rvk49g9DeVNv"
      },
      "execution_count": null,
      "outputs": []
    },
    {
      "cell_type": "code",
      "source": [
        "dados.head()"
      ],
      "metadata": {
        "colab": {
          "base_uri": "https://localhost:8080/",
          "height": 237
        },
        "id": "OITiT6EZer7j",
        "outputId": "d29b508f-d846-4e97-d546-f4e21aa0d18b"
      },
      "execution_count": null,
      "outputs": [
        {
          "output_type": "execute_result",
          "data": {
            "text/plain": [
              "                  Date   Open       High        Low  Close  Adj Close  \\\n",
              "Date                                                                    \n",
              "2022-03-02  2022-03-02  29.40  30.790001  29.350000  30.25  29.754951   \n",
              "2022-03-03  2022-03-03  30.25  31.389999  30.129999  31.25  30.738590   \n",
              "2022-03-04  2022-03-04  31.25  32.279999  31.070000  31.51  30.994331   \n",
              "2022-03-07  2022-03-07  31.01  31.969999  30.850000  31.08  30.571369   \n",
              "2022-03-08  2022-03-08  31.08  32.099998  31.080000  31.57  31.053349   \n",
              "\n",
              "              Volume  \n",
              "Date                  \n",
              "2022-03-02  10503800  \n",
              "2022-03-03  10167600  \n",
              "2022-03-04   9286000  \n",
              "2022-03-07  11272000  \n",
              "2022-03-08   9613000  "
            ],
            "text/html": [
              "\n",
              "  <div id=\"df-8738359c-32ba-48c1-8580-cce32955be23\">\n",
              "    <div class=\"colab-df-container\">\n",
              "      <div>\n",
              "<style scoped>\n",
              "    .dataframe tbody tr th:only-of-type {\n",
              "        vertical-align: middle;\n",
              "    }\n",
              "\n",
              "    .dataframe tbody tr th {\n",
              "        vertical-align: top;\n",
              "    }\n",
              "\n",
              "    .dataframe thead th {\n",
              "        text-align: right;\n",
              "    }\n",
              "</style>\n",
              "<table border=\"1\" class=\"dataframe\">\n",
              "  <thead>\n",
              "    <tr style=\"text-align: right;\">\n",
              "      <th></th>\n",
              "      <th>Date</th>\n",
              "      <th>Open</th>\n",
              "      <th>High</th>\n",
              "      <th>Low</th>\n",
              "      <th>Close</th>\n",
              "      <th>Adj Close</th>\n",
              "      <th>Volume</th>\n",
              "    </tr>\n",
              "    <tr>\n",
              "      <th>Date</th>\n",
              "      <th></th>\n",
              "      <th></th>\n",
              "      <th></th>\n",
              "      <th></th>\n",
              "      <th></th>\n",
              "      <th></th>\n",
              "      <th></th>\n",
              "    </tr>\n",
              "  </thead>\n",
              "  <tbody>\n",
              "    <tr>\n",
              "      <th>2022-03-02</th>\n",
              "      <td>2022-03-02</td>\n",
              "      <td>29.40</td>\n",
              "      <td>30.790001</td>\n",
              "      <td>29.350000</td>\n",
              "      <td>30.25</td>\n",
              "      <td>29.754951</td>\n",
              "      <td>10503800</td>\n",
              "    </tr>\n",
              "    <tr>\n",
              "      <th>2022-03-03</th>\n",
              "      <td>2022-03-03</td>\n",
              "      <td>30.25</td>\n",
              "      <td>31.389999</td>\n",
              "      <td>30.129999</td>\n",
              "      <td>31.25</td>\n",
              "      <td>30.738590</td>\n",
              "      <td>10167600</td>\n",
              "    </tr>\n",
              "    <tr>\n",
              "      <th>2022-03-04</th>\n",
              "      <td>2022-03-04</td>\n",
              "      <td>31.25</td>\n",
              "      <td>32.279999</td>\n",
              "      <td>31.070000</td>\n",
              "      <td>31.51</td>\n",
              "      <td>30.994331</td>\n",
              "      <td>9286000</td>\n",
              "    </tr>\n",
              "    <tr>\n",
              "      <th>2022-03-07</th>\n",
              "      <td>2022-03-07</td>\n",
              "      <td>31.01</td>\n",
              "      <td>31.969999</td>\n",
              "      <td>30.850000</td>\n",
              "      <td>31.08</td>\n",
              "      <td>30.571369</td>\n",
              "      <td>11272000</td>\n",
              "    </tr>\n",
              "    <tr>\n",
              "      <th>2022-03-08</th>\n",
              "      <td>2022-03-08</td>\n",
              "      <td>31.08</td>\n",
              "      <td>32.099998</td>\n",
              "      <td>31.080000</td>\n",
              "      <td>31.57</td>\n",
              "      <td>31.053349</td>\n",
              "      <td>9613000</td>\n",
              "    </tr>\n",
              "  </tbody>\n",
              "</table>\n",
              "</div>\n",
              "      <button class=\"colab-df-convert\" onclick=\"convertToInteractive('df-8738359c-32ba-48c1-8580-cce32955be23')\"\n",
              "              title=\"Convert this dataframe to an interactive table.\"\n",
              "              style=\"display:none;\">\n",
              "        \n",
              "  <svg xmlns=\"http://www.w3.org/2000/svg\" height=\"24px\"viewBox=\"0 0 24 24\"\n",
              "       width=\"24px\">\n",
              "    <path d=\"M0 0h24v24H0V0z\" fill=\"none\"/>\n",
              "    <path d=\"M18.56 5.44l.94 2.06.94-2.06 2.06-.94-2.06-.94-.94-2.06-.94 2.06-2.06.94zm-11 1L8.5 8.5l.94-2.06 2.06-.94-2.06-.94L8.5 2.5l-.94 2.06-2.06.94zm10 10l.94 2.06.94-2.06 2.06-.94-2.06-.94-.94-2.06-.94 2.06-2.06.94z\"/><path d=\"M17.41 7.96l-1.37-1.37c-.4-.4-.92-.59-1.43-.59-.52 0-1.04.2-1.43.59L10.3 9.45l-7.72 7.72c-.78.78-.78 2.05 0 2.83L4 21.41c.39.39.9.59 1.41.59.51 0 1.02-.2 1.41-.59l7.78-7.78 2.81-2.81c.8-.78.8-2.07 0-2.86zM5.41 20L4 18.59l7.72-7.72 1.47 1.35L5.41 20z\"/>\n",
              "  </svg>\n",
              "      </button>\n",
              "      \n",
              "  <style>\n",
              "    .colab-df-container {\n",
              "      display:flex;\n",
              "      flex-wrap:wrap;\n",
              "      gap: 12px;\n",
              "    }\n",
              "\n",
              "    .colab-df-convert {\n",
              "      background-color: #E8F0FE;\n",
              "      border: none;\n",
              "      border-radius: 50%;\n",
              "      cursor: pointer;\n",
              "      display: none;\n",
              "      fill: #1967D2;\n",
              "      height: 32px;\n",
              "      padding: 0 0 0 0;\n",
              "      width: 32px;\n",
              "    }\n",
              "\n",
              "    .colab-df-convert:hover {\n",
              "      background-color: #E2EBFA;\n",
              "      box-shadow: 0px 1px 2px rgba(60, 64, 67, 0.3), 0px 1px 3px 1px rgba(60, 64, 67, 0.15);\n",
              "      fill: #174EA6;\n",
              "    }\n",
              "\n",
              "    [theme=dark] .colab-df-convert {\n",
              "      background-color: #3B4455;\n",
              "      fill: #D2E3FC;\n",
              "    }\n",
              "\n",
              "    [theme=dark] .colab-df-convert:hover {\n",
              "      background-color: #434B5C;\n",
              "      box-shadow: 0px 1px 3px 1px rgba(0, 0, 0, 0.15);\n",
              "      filter: drop-shadow(0px 1px 2px rgba(0, 0, 0, 0.3));\n",
              "      fill: #FFFFFF;\n",
              "    }\n",
              "  </style>\n",
              "\n",
              "      <script>\n",
              "        const buttonEl =\n",
              "          document.querySelector('#df-8738359c-32ba-48c1-8580-cce32955be23 button.colab-df-convert');\n",
              "        buttonEl.style.display =\n",
              "          google.colab.kernel.accessAllowed ? 'block' : 'none';\n",
              "\n",
              "        async function convertToInteractive(key) {\n",
              "          const element = document.querySelector('#df-8738359c-32ba-48c1-8580-cce32955be23');\n",
              "          const dataTable =\n",
              "            await google.colab.kernel.invokeFunction('convertToInteractive',\n",
              "                                                     [key], {});\n",
              "          if (!dataTable) return;\n",
              "\n",
              "          const docLinkHtml = 'Like what you see? Visit the ' +\n",
              "            '<a target=\"_blank\" href=https://colab.research.google.com/notebooks/data_table.ipynb>data table notebook</a>'\n",
              "            + ' to learn more about interactive tables.';\n",
              "          element.innerHTML = '';\n",
              "          dataTable['output_type'] = 'display_data';\n",
              "          await google.colab.output.renderOutput(dataTable, element);\n",
              "          const docLink = document.createElement('div');\n",
              "          docLink.innerHTML = docLinkHtml;\n",
              "          element.appendChild(docLink);\n",
              "        }\n",
              "      </script>\n",
              "    </div>\n",
              "  </div>\n",
              "  "
            ]
          },
          "metadata": {},
          "execution_count": 76
        }
      ]
    },
    {
      "cell_type": "markdown",
      "source": [
        "# Podemos reparar que o nosso indice agora se tornou a propria Data. \n",
        "\n",
        "# O Proximo passo agora é apagar a coluna de DATA\n",
        "\n",
        "# 1° Vamos agora relembrar dos comando para filtar loc[] e do iloc[]: \n",
        "# 2° Porém vamos usar o loc[] nesse primeiro exemplo, pois vamos filtrar primeiro só a linha zero "
      ],
      "metadata": {
        "id": "6MrOjQReexmi"
      }
    },
    {
      "cell_type": "markdown",
      "source": [
        "# Essa função apresenta um erro é provinente do comando que o loc[] desempenha, pois o loc trabalha utilizando como referecia o rotulo. Logo quando ele procura o rotulo ele nao encontra porque agora é no lugar da linha 0 é uma data\n",
        "dados.loc[0]"
      ],
      "metadata": {
        "id": "wKtEWWoff4Om"
      }
    },
    {
      "cell_type": "code",
      "source": [
        "# Para isso desempenhamos o comando iloc[].\n",
        "dados.iloc[0]"
      ],
      "metadata": {
        "colab": {
          "base_uri": "https://localhost:8080/"
        },
        "id": "aq1Uhb_Wf_Y2",
        "outputId": "73bf4f3a-2b11-486a-bbf2-181da1b4a6d2"
      },
      "execution_count": null,
      "outputs": [
        {
          "output_type": "execute_result",
          "data": {
            "text/plain": [
              "Date         2022-03-02\n",
              "Open               29.4\n",
              "High          30.790001\n",
              "Low               29.35\n",
              "Close             30.25\n",
              "Adj Close     29.754951\n",
              "Volume         10503800\n",
              "Name: 2022-03-02, dtype: object"
            ]
          },
          "metadata": {},
          "execution_count": 78
        }
      ]
    },
    {
      "cell_type": "code",
      "source": [
        "# Para usarmos o loc[], precisamos trazer o que esta no rotula da 1° linha \n",
        "dados.loc['2022-03-02']"
      ],
      "metadata": {
        "colab": {
          "base_uri": "https://localhost:8080/"
        },
        "id": "Mk-9ITgshOiR",
        "outputId": "e09d0f61-3fe0-4b68-e797-069630373625"
      },
      "execution_count": null,
      "outputs": [
        {
          "output_type": "execute_result",
          "data": {
            "text/plain": [
              "Date         2022-03-02\n",
              "Open               29.4\n",
              "High          30.790001\n",
              "Low               29.35\n",
              "Close             30.25\n",
              "Adj Close     29.754951\n",
              "Volume         10503800\n",
              "Name: 2022-03-02, dtype: object"
            ]
          },
          "metadata": {},
          "execution_count": 80
        }
      ]
    },
    {
      "cell_type": "markdown",
      "source": [
        "Vamos agora para algumas alterações de colunas "
      ],
      "metadata": {
        "id": "jofn3i-Khxuh"
      }
    },
    {
      "cell_type": "code",
      "source": [
        "# 1° Vamos mudar a coluna \"Adj Close\" para \"WEGE3\" \n",
        "# 2° Vmos Dropar a coluna \"Data\""
      ],
      "metadata": {
        "id": "W82v8ZNDh-W9"
      },
      "execution_count": null,
      "outputs": []
    },
    {
      "cell_type": "code",
      "source": [
        "# vamos usar o comando Rename, onde vamos renomear as colunas desejadas. Na sequencia vamos abrir um dicionario para dizer como o nome dessas colunas tem de mudar\n",
        "# inplace = True; garante que essas transformações que estamos fazendo em Dados, seja transmitido globalmente \n",
        "# inplace = False; A mudança vai ser feita apenas em uma celula \n",
        "\n",
        "dados.rename(columns = {'Adj Close' : 'WEGE3', 'Date': 'Data'}, inplace= True)"
      ],
      "metadata": {
        "id": "z8iGDz9kihjv"
      },
      "execution_count": null,
      "outputs": []
    },
    {
      "cell_type": "code",
      "source": [
        "dados.head()"
      ],
      "metadata": {
        "colab": {
          "base_uri": "https://localhost:8080/",
          "height": 237
        },
        "id": "pcVy1bEAj77u",
        "outputId": "b09e8888-6e16-4396-a7a0-9f48eb997573"
      },
      "execution_count": null,
      "outputs": [
        {
          "output_type": "execute_result",
          "data": {
            "text/plain": [
              "                  Data   Open       High        Low  Close      WEGE3  \\\n",
              "Date                                                                    \n",
              "2022-03-02  2022-03-02  29.40  30.790001  29.350000  30.25  29.754951   \n",
              "2022-03-03  2022-03-03  30.25  31.389999  30.129999  31.25  30.738590   \n",
              "2022-03-04  2022-03-04  31.25  32.279999  31.070000  31.51  30.994331   \n",
              "2022-03-07  2022-03-07  31.01  31.969999  30.850000  31.08  30.571369   \n",
              "2022-03-08  2022-03-08  31.08  32.099998  31.080000  31.57  31.053349   \n",
              "\n",
              "              Volume  \n",
              "Date                  \n",
              "2022-03-02  10503800  \n",
              "2022-03-03  10167600  \n",
              "2022-03-04   9286000  \n",
              "2022-03-07  11272000  \n",
              "2022-03-08   9613000  "
            ],
            "text/html": [
              "\n",
              "  <div id=\"df-e7d3911e-e3f7-4bb7-b797-4e040cc605cd\">\n",
              "    <div class=\"colab-df-container\">\n",
              "      <div>\n",
              "<style scoped>\n",
              "    .dataframe tbody tr th:only-of-type {\n",
              "        vertical-align: middle;\n",
              "    }\n",
              "\n",
              "    .dataframe tbody tr th {\n",
              "        vertical-align: top;\n",
              "    }\n",
              "\n",
              "    .dataframe thead th {\n",
              "        text-align: right;\n",
              "    }\n",
              "</style>\n",
              "<table border=\"1\" class=\"dataframe\">\n",
              "  <thead>\n",
              "    <tr style=\"text-align: right;\">\n",
              "      <th></th>\n",
              "      <th>Data</th>\n",
              "      <th>Open</th>\n",
              "      <th>High</th>\n",
              "      <th>Low</th>\n",
              "      <th>Close</th>\n",
              "      <th>WEGE3</th>\n",
              "      <th>Volume</th>\n",
              "    </tr>\n",
              "    <tr>\n",
              "      <th>Date</th>\n",
              "      <th></th>\n",
              "      <th></th>\n",
              "      <th></th>\n",
              "      <th></th>\n",
              "      <th></th>\n",
              "      <th></th>\n",
              "      <th></th>\n",
              "    </tr>\n",
              "  </thead>\n",
              "  <tbody>\n",
              "    <tr>\n",
              "      <th>2022-03-02</th>\n",
              "      <td>2022-03-02</td>\n",
              "      <td>29.40</td>\n",
              "      <td>30.790001</td>\n",
              "      <td>29.350000</td>\n",
              "      <td>30.25</td>\n",
              "      <td>29.754951</td>\n",
              "      <td>10503800</td>\n",
              "    </tr>\n",
              "    <tr>\n",
              "      <th>2022-03-03</th>\n",
              "      <td>2022-03-03</td>\n",
              "      <td>30.25</td>\n",
              "      <td>31.389999</td>\n",
              "      <td>30.129999</td>\n",
              "      <td>31.25</td>\n",
              "      <td>30.738590</td>\n",
              "      <td>10167600</td>\n",
              "    </tr>\n",
              "    <tr>\n",
              "      <th>2022-03-04</th>\n",
              "      <td>2022-03-04</td>\n",
              "      <td>31.25</td>\n",
              "      <td>32.279999</td>\n",
              "      <td>31.070000</td>\n",
              "      <td>31.51</td>\n",
              "      <td>30.994331</td>\n",
              "      <td>9286000</td>\n",
              "    </tr>\n",
              "    <tr>\n",
              "      <th>2022-03-07</th>\n",
              "      <td>2022-03-07</td>\n",
              "      <td>31.01</td>\n",
              "      <td>31.969999</td>\n",
              "      <td>30.850000</td>\n",
              "      <td>31.08</td>\n",
              "      <td>30.571369</td>\n",
              "      <td>11272000</td>\n",
              "    </tr>\n",
              "    <tr>\n",
              "      <th>2022-03-08</th>\n",
              "      <td>2022-03-08</td>\n",
              "      <td>31.08</td>\n",
              "      <td>32.099998</td>\n",
              "      <td>31.080000</td>\n",
              "      <td>31.57</td>\n",
              "      <td>31.053349</td>\n",
              "      <td>9613000</td>\n",
              "    </tr>\n",
              "  </tbody>\n",
              "</table>\n",
              "</div>\n",
              "      <button class=\"colab-df-convert\" onclick=\"convertToInteractive('df-e7d3911e-e3f7-4bb7-b797-4e040cc605cd')\"\n",
              "              title=\"Convert this dataframe to an interactive table.\"\n",
              "              style=\"display:none;\">\n",
              "        \n",
              "  <svg xmlns=\"http://www.w3.org/2000/svg\" height=\"24px\"viewBox=\"0 0 24 24\"\n",
              "       width=\"24px\">\n",
              "    <path d=\"M0 0h24v24H0V0z\" fill=\"none\"/>\n",
              "    <path d=\"M18.56 5.44l.94 2.06.94-2.06 2.06-.94-2.06-.94-.94-2.06-.94 2.06-2.06.94zm-11 1L8.5 8.5l.94-2.06 2.06-.94-2.06-.94L8.5 2.5l-.94 2.06-2.06.94zm10 10l.94 2.06.94-2.06 2.06-.94-2.06-.94-.94-2.06-.94 2.06-2.06.94z\"/><path d=\"M17.41 7.96l-1.37-1.37c-.4-.4-.92-.59-1.43-.59-.52 0-1.04.2-1.43.59L10.3 9.45l-7.72 7.72c-.78.78-.78 2.05 0 2.83L4 21.41c.39.39.9.59 1.41.59.51 0 1.02-.2 1.41-.59l7.78-7.78 2.81-2.81c.8-.78.8-2.07 0-2.86zM5.41 20L4 18.59l7.72-7.72 1.47 1.35L5.41 20z\"/>\n",
              "  </svg>\n",
              "      </button>\n",
              "      \n",
              "  <style>\n",
              "    .colab-df-container {\n",
              "      display:flex;\n",
              "      flex-wrap:wrap;\n",
              "      gap: 12px;\n",
              "    }\n",
              "\n",
              "    .colab-df-convert {\n",
              "      background-color: #E8F0FE;\n",
              "      border: none;\n",
              "      border-radius: 50%;\n",
              "      cursor: pointer;\n",
              "      display: none;\n",
              "      fill: #1967D2;\n",
              "      height: 32px;\n",
              "      padding: 0 0 0 0;\n",
              "      width: 32px;\n",
              "    }\n",
              "\n",
              "    .colab-df-convert:hover {\n",
              "      background-color: #E2EBFA;\n",
              "      box-shadow: 0px 1px 2px rgba(60, 64, 67, 0.3), 0px 1px 3px 1px rgba(60, 64, 67, 0.15);\n",
              "      fill: #174EA6;\n",
              "    }\n",
              "\n",
              "    [theme=dark] .colab-df-convert {\n",
              "      background-color: #3B4455;\n",
              "      fill: #D2E3FC;\n",
              "    }\n",
              "\n",
              "    [theme=dark] .colab-df-convert:hover {\n",
              "      background-color: #434B5C;\n",
              "      box-shadow: 0px 1px 3px 1px rgba(0, 0, 0, 0.15);\n",
              "      filter: drop-shadow(0px 1px 2px rgba(0, 0, 0, 0.3));\n",
              "      fill: #FFFFFF;\n",
              "    }\n",
              "  </style>\n",
              "\n",
              "      <script>\n",
              "        const buttonEl =\n",
              "          document.querySelector('#df-e7d3911e-e3f7-4bb7-b797-4e040cc605cd button.colab-df-convert');\n",
              "        buttonEl.style.display =\n",
              "          google.colab.kernel.accessAllowed ? 'block' : 'none';\n",
              "\n",
              "        async function convertToInteractive(key) {\n",
              "          const element = document.querySelector('#df-e7d3911e-e3f7-4bb7-b797-4e040cc605cd');\n",
              "          const dataTable =\n",
              "            await google.colab.kernel.invokeFunction('convertToInteractive',\n",
              "                                                     [key], {});\n",
              "          if (!dataTable) return;\n",
              "\n",
              "          const docLinkHtml = 'Like what you see? Visit the ' +\n",
              "            '<a target=\"_blank\" href=https://colab.research.google.com/notebooks/data_table.ipynb>data table notebook</a>'\n",
              "            + ' to learn more about interactive tables.';\n",
              "          element.innerHTML = '';\n",
              "          dataTable['output_type'] = 'display_data';\n",
              "          await google.colab.output.renderOutput(dataTable, element);\n",
              "          const docLink = document.createElement('div');\n",
              "          docLink.innerHTML = docLinkHtml;\n",
              "          element.appendChild(docLink);\n",
              "        }\n",
              "      </script>\n",
              "    </div>\n",
              "  </div>\n",
              "  "
            ]
          },
          "metadata": {},
          "execution_count": 85
        }
      ]
    },
    {
      "cell_type": "code",
      "source": [
        "# Vamos Dropar a coluna Data, para isso vamos usara função .drop(), e precisamos expliciar para ele em qual eixo vai acontecer essa operação \n",
        "# axis = 0  \"Eixo 0 é linha\";\n",
        "# axis = 1  \"Eixo 1 é Coluna\".  \n",
        "\n",
        "#OBS # Inplace = True; Para garantir que essa informação seja atingida globalmente "
      ],
      "metadata": {
        "id": "ufrK6Z96kVKv"
      },
      "execution_count": null,
      "outputs": []
    },
    {
      "cell_type": "code",
      "source": [
        "dados.drop(['Data', 'Volume'], axis=1, inplace= True  )"
      ],
      "metadata": {
        "id": "lscECqiklJLn"
      },
      "execution_count": null,
      "outputs": []
    },
    {
      "cell_type": "code",
      "source": [
        "dados.head()"
      ],
      "metadata": {
        "colab": {
          "base_uri": "https://localhost:8080/",
          "height": 237
        },
        "id": "WuU7nVVMljX_",
        "outputId": "1b2e4a19-ece6-4e92-929e-fd3c32a29444"
      },
      "execution_count": null,
      "outputs": [
        {
          "output_type": "execute_result",
          "data": {
            "text/plain": [
              "             Open       High        Low  Close      WEGE3\n",
              "Date                                                     \n",
              "2022-03-02  29.40  30.790001  29.350000  30.25  29.754951\n",
              "2022-03-03  30.25  31.389999  30.129999  31.25  30.738590\n",
              "2022-03-04  31.25  32.279999  31.070000  31.51  30.994331\n",
              "2022-03-07  31.01  31.969999  30.850000  31.08  30.571369\n",
              "2022-03-08  31.08  32.099998  31.080000  31.57  31.053349"
            ],
            "text/html": [
              "\n",
              "  <div id=\"df-31d7b8c5-cc11-4079-8688-0371f12b109e\">\n",
              "    <div class=\"colab-df-container\">\n",
              "      <div>\n",
              "<style scoped>\n",
              "    .dataframe tbody tr th:only-of-type {\n",
              "        vertical-align: middle;\n",
              "    }\n",
              "\n",
              "    .dataframe tbody tr th {\n",
              "        vertical-align: top;\n",
              "    }\n",
              "\n",
              "    .dataframe thead th {\n",
              "        text-align: right;\n",
              "    }\n",
              "</style>\n",
              "<table border=\"1\" class=\"dataframe\">\n",
              "  <thead>\n",
              "    <tr style=\"text-align: right;\">\n",
              "      <th></th>\n",
              "      <th>Open</th>\n",
              "      <th>High</th>\n",
              "      <th>Low</th>\n",
              "      <th>Close</th>\n",
              "      <th>WEGE3</th>\n",
              "    </tr>\n",
              "    <tr>\n",
              "      <th>Date</th>\n",
              "      <th></th>\n",
              "      <th></th>\n",
              "      <th></th>\n",
              "      <th></th>\n",
              "      <th></th>\n",
              "    </tr>\n",
              "  </thead>\n",
              "  <tbody>\n",
              "    <tr>\n",
              "      <th>2022-03-02</th>\n",
              "      <td>29.40</td>\n",
              "      <td>30.790001</td>\n",
              "      <td>29.350000</td>\n",
              "      <td>30.25</td>\n",
              "      <td>29.754951</td>\n",
              "    </tr>\n",
              "    <tr>\n",
              "      <th>2022-03-03</th>\n",
              "      <td>30.25</td>\n",
              "      <td>31.389999</td>\n",
              "      <td>30.129999</td>\n",
              "      <td>31.25</td>\n",
              "      <td>30.738590</td>\n",
              "    </tr>\n",
              "    <tr>\n",
              "      <th>2022-03-04</th>\n",
              "      <td>31.25</td>\n",
              "      <td>32.279999</td>\n",
              "      <td>31.070000</td>\n",
              "      <td>31.51</td>\n",
              "      <td>30.994331</td>\n",
              "    </tr>\n",
              "    <tr>\n",
              "      <th>2022-03-07</th>\n",
              "      <td>31.01</td>\n",
              "      <td>31.969999</td>\n",
              "      <td>30.850000</td>\n",
              "      <td>31.08</td>\n",
              "      <td>30.571369</td>\n",
              "    </tr>\n",
              "    <tr>\n",
              "      <th>2022-03-08</th>\n",
              "      <td>31.08</td>\n",
              "      <td>32.099998</td>\n",
              "      <td>31.080000</td>\n",
              "      <td>31.57</td>\n",
              "      <td>31.053349</td>\n",
              "    </tr>\n",
              "  </tbody>\n",
              "</table>\n",
              "</div>\n",
              "      <button class=\"colab-df-convert\" onclick=\"convertToInteractive('df-31d7b8c5-cc11-4079-8688-0371f12b109e')\"\n",
              "              title=\"Convert this dataframe to an interactive table.\"\n",
              "              style=\"display:none;\">\n",
              "        \n",
              "  <svg xmlns=\"http://www.w3.org/2000/svg\" height=\"24px\"viewBox=\"0 0 24 24\"\n",
              "       width=\"24px\">\n",
              "    <path d=\"M0 0h24v24H0V0z\" fill=\"none\"/>\n",
              "    <path d=\"M18.56 5.44l.94 2.06.94-2.06 2.06-.94-2.06-.94-.94-2.06-.94 2.06-2.06.94zm-11 1L8.5 8.5l.94-2.06 2.06-.94-2.06-.94L8.5 2.5l-.94 2.06-2.06.94zm10 10l.94 2.06.94-2.06 2.06-.94-2.06-.94-.94-2.06-.94 2.06-2.06.94z\"/><path d=\"M17.41 7.96l-1.37-1.37c-.4-.4-.92-.59-1.43-.59-.52 0-1.04.2-1.43.59L10.3 9.45l-7.72 7.72c-.78.78-.78 2.05 0 2.83L4 21.41c.39.39.9.59 1.41.59.51 0 1.02-.2 1.41-.59l7.78-7.78 2.81-2.81c.8-.78.8-2.07 0-2.86zM5.41 20L4 18.59l7.72-7.72 1.47 1.35L5.41 20z\"/>\n",
              "  </svg>\n",
              "      </button>\n",
              "      \n",
              "  <style>\n",
              "    .colab-df-container {\n",
              "      display:flex;\n",
              "      flex-wrap:wrap;\n",
              "      gap: 12px;\n",
              "    }\n",
              "\n",
              "    .colab-df-convert {\n",
              "      background-color: #E8F0FE;\n",
              "      border: none;\n",
              "      border-radius: 50%;\n",
              "      cursor: pointer;\n",
              "      display: none;\n",
              "      fill: #1967D2;\n",
              "      height: 32px;\n",
              "      padding: 0 0 0 0;\n",
              "      width: 32px;\n",
              "    }\n",
              "\n",
              "    .colab-df-convert:hover {\n",
              "      background-color: #E2EBFA;\n",
              "      box-shadow: 0px 1px 2px rgba(60, 64, 67, 0.3), 0px 1px 3px 1px rgba(60, 64, 67, 0.15);\n",
              "      fill: #174EA6;\n",
              "    }\n",
              "\n",
              "    [theme=dark] .colab-df-convert {\n",
              "      background-color: #3B4455;\n",
              "      fill: #D2E3FC;\n",
              "    }\n",
              "\n",
              "    [theme=dark] .colab-df-convert:hover {\n",
              "      background-color: #434B5C;\n",
              "      box-shadow: 0px 1px 3px 1px rgba(0, 0, 0, 0.15);\n",
              "      filter: drop-shadow(0px 1px 2px rgba(0, 0, 0, 0.3));\n",
              "      fill: #FFFFFF;\n",
              "    }\n",
              "  </style>\n",
              "\n",
              "      <script>\n",
              "        const buttonEl =\n",
              "          document.querySelector('#df-31d7b8c5-cc11-4079-8688-0371f12b109e button.colab-df-convert');\n",
              "        buttonEl.style.display =\n",
              "          google.colab.kernel.accessAllowed ? 'block' : 'none';\n",
              "\n",
              "        async function convertToInteractive(key) {\n",
              "          const element = document.querySelector('#df-31d7b8c5-cc11-4079-8688-0371f12b109e');\n",
              "          const dataTable =\n",
              "            await google.colab.kernel.invokeFunction('convertToInteractive',\n",
              "                                                     [key], {});\n",
              "          if (!dataTable) return;\n",
              "\n",
              "          const docLinkHtml = 'Like what you see? Visit the ' +\n",
              "            '<a target=\"_blank\" href=https://colab.research.google.com/notebooks/data_table.ipynb>data table notebook</a>'\n",
              "            + ' to learn more about interactive tables.';\n",
              "          element.innerHTML = '';\n",
              "          dataTable['output_type'] = 'display_data';\n",
              "          await google.colab.output.renderOutput(dataTable, element);\n",
              "          const docLink = document.createElement('div');\n",
              "          docLink.innerHTML = docLinkHtml;\n",
              "          element.appendChild(docLink);\n",
              "        }\n",
              "      </script>\n",
              "    </div>\n",
              "  </div>\n",
              "  "
            ]
          },
          "metadata": {},
          "execution_count": 90
        }
      ]
    },
    {
      "cell_type": "code",
      "source": [
        "# Repare que nesse novo Grafico houve mudança nas informações: Abertura, Maxima, Minima, Fechamento e Fechamento Ajustado que agora virou \"WEGE3\". \n",
        "# E na parte inferior do grafico, agora temos a presença de data porque mudamos o nosso rotulo. \n",
        "dados.plot();"
      ],
      "metadata": {
        "colab": {
          "base_uri": "https://localhost:8080/",
          "height": 279
        },
        "id": "ZdSSwjU-lpZw",
        "outputId": "24890c27-fa9a-4021-ad72-0167ca538a6a"
      },
      "execution_count": null,
      "outputs": [
        {
          "output_type": "display_data",
          "data": {
            "text/plain": [
              "<Figure size 432x288 with 1 Axes>"
            ],
            "image/png": "[encoded data removed]"
          },
          "metadata": {
            "needs_background": "light"
          }
        }
      ]
    },
    {
      "cell_type": "code",
      "source": [
        "# E agora como está o formato ?\n",
        " \n",
        "dados.shape\n",
        "\n",
        "# R- dados.shape = 250 Linhas e 5 colunas"
      ],
      "metadata": {
        "colab": {
          "base_uri": "https://localhost:8080/"
        },
        "id": "AVHBrwgGluVH",
        "outputId": "a1399ed6-5f8d-4ad4-bf35-f1eb89c3b1e5"
      },
      "execution_count": null,
      "outputs": [
        {
          "output_type": "execute_result",
          "data": {
            "text/plain": [
              "(250, 5)"
            ]
          },
          "metadata": {},
          "execution_count": 97
        }
      ]
    },
    {
      "cell_type": "code",
      "source": [
        "# Ainda é possivel darmos um zoom ou então trazer as ultimas 50 linhas "
      ],
      "metadata": {
        "id": "zHSEmyummzwW"
      },
      "execution_count": null,
      "outputs": []
    },
    {
      "cell_type": "code",
      "source": [
        "# 1° ultimas 50 linhas\n",
        "# Obs, lembrando que temos 250 linhas, mas estamos usando 251, pois como ultimo numero no python é considerado exclusivos \n",
        "\n",
        "dados.iloc[200:251].plot();"
      ],
      "metadata": {
        "colab": {
          "base_uri": "https://localhost:8080/",
          "height": 279
        },
        "id": "ZVjtMNpZnWsH",
        "outputId": "06524609-a58e-4d42-bf1b-932d05f43eee"
      },
      "execution_count": null,
      "outputs": [
        {
          "output_type": "display_data",
          "data": {
            "text/plain": [
              "<Figure size 432x288 with 1 Axes>"
            ],
            "image/png": "[encoded data removed]"
          },
          "metadata": {
            "needs_background": "light"
          }
        }
      ]
    },
    {
      "cell_type": "code",
      "source": [
        "# Percebam agora que temos os Spread dos pregões: Temos a Maxima a minima e o fechamento. Essa é uma forma bem interessante de vêrmos como foi o desempenho do papel no pregão "
      ],
      "metadata": {
        "id": "sF7mBZ4-oP8Z"
      },
      "execution_count": null,
      "outputs": []
    },
    {
      "cell_type": "code",
      "source": [
        "# Para melhorar mais ainda a visualização podemos ainda dar um zoom no grafico, utilizamos a função figsize = (x,x) \n",
        "dados.iloc[200:251].plot(figsize = (10,10));"
      ],
      "metadata": {
        "colab": {
          "base_uri": "https://localhost:8080/",
          "height": 606
        },
        "id": "-xGX5Isrpn8d",
        "outputId": "9a09ab2e-4605-4ca8-8279-ab52660847fe"
      },
      "execution_count": null,
      "outputs": [
        {
          "output_type": "display_data",
          "data": {
            "text/plain": [
              "<Figure size 720x720 with 1 Axes>"
            ],
            "image/png": "[encoded data removed]"
          },
          "metadata": {
            "needs_background": "light"
          }
        }
      ]
    },
    {
      "cell_type": "code",
      "source": [],
      "metadata": {
        "id": "Zj8Y9Z6mp-kk"
      },
      "execution_count": null,
      "outputs": []
    }
  ],
  "metadata": {
    "colab": {
      "provenance": [],
      "authorship_tag": "ABX9TyO76LKPFlDuuf3UIwEvMP6h",
      "include_colab_link": true
    },
    "kernelspec": {
      "display_name": "Python 3",
      "name": "python3"
    },
    "language_info": {
      "name": "python"
    }
  },
  "nbformat": 4,
  "nbformat_minor": 0
}